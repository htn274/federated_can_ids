{
 "cells": [
  {
   "cell_type": "code",
   "execution_count": 1,
   "id": "6a7d428b",
   "metadata": {},
   "outputs": [],
   "source": [
    "import pandas as pd\n",
    "import numpy as np\n",
    "import seaborn as sns\n",
    "from matplotlib import pyplot as plt\n",
    "from matplotlib.pyplot import figure\n",
    "from pandas import ExcelWriter\n",
    "from pandas import ExcelFile\n",
    "import glob\n",
    "import pywt\n",
    "import sys"
   ]
  },
  {
   "cell_type": "code",
   "execution_count": 5,
   "id": "04c86758",
   "metadata": {},
   "outputs": [],
   "source": [
    "def data_process(data, label):\n",
    "    X_trainX = []\n",
    "    y_trainX = []\n",
    "    strat_time = 0\n",
    "    timestamp = 10\n",
    "    data = pd.read_csv(data)\n",
    "    data = data[['Scaled_CAN_ID', 'Time_Gap']].astype('f')\n",
    "    data[\"Labele_num\"] = np.repeat(label, (len(data)))\n",
    "    length = len(data)\n",
    "\n",
    "    X = np.array(data[['Scaled_CAN_ID', 'Time_Gap']])\n",
    "    y = np.array(data[['Labele_num']])\n",
    "\n",
    "    for i in range(length):\n",
    "        X_trainX.append(X[strat_time:timestamp, :2])\n",
    "        y_trainX.append(y[timestamp])\n",
    "\n",
    "        if timestamp >= length-10:\n",
    "            break\n",
    "\n",
    "        strat_time = strat_time + 10\n",
    "        timestamp = timestamp + 10\n",
    "    print(\"Length of input: \", len(X_trainX))\n",
    "    print(\"Length of output: \", len(y_trainX))\n",
    "    \n",
    "    return X_trainX, y_trainX"
   ]
  },
  {
   "cell_type": "code",
   "execution_count": 6,
   "id": "35710cd4",
   "metadata": {},
   "outputs": [
    {
     "name": "stdout",
     "output_type": "stream",
     "text": [
      "Length of input:  24799\n",
      "Length of output:  24799\n"
     ]
    }
   ],
   "source": [
    "input_, outout_ = data_process(\"Tesla_Fuzz_2.csv\", 2) # Input Data File Name and Label number (Normal 0, DoS 1, Fuzz 2, Replay 3)"
   ]
  },
  {
   "cell_type": "code",
   "execution_count": 7,
   "id": "a000ecb6",
   "metadata": {},
   "outputs": [
    {
     "data": {
      "text/plain": [
       "array([[2.13e+02, 0.00e+00],\n",
       "       [2.13e+02, 0.00e+00],\n",
       "       [2.13e+02, 0.00e+00],\n",
       "       [2.13e+02, 0.00e+00],\n",
       "       [2.13e+02, 0.00e+00],\n",
       "       [2.13e+02, 1.00e-01],\n",
       "       [2.13e+02, 0.00e+00],\n",
       "       [2.13e+02, 0.00e+00],\n",
       "       [2.13e+02, 0.00e+00],\n",
       "       [2.13e+02, 0.00e+00]], dtype=float32)"
      ]
     },
     "execution_count": 7,
     "metadata": {},
     "output_type": "execute_result"
    }
   ],
   "source": [
    "input_[0]"
   ]
  },
  {
   "cell_type": "code",
   "execution_count": 8,
   "id": "6ba59444",
   "metadata": {},
   "outputs": [
    {
     "data": {
      "text/plain": [
       "array([2])"
      ]
     },
     "execution_count": 8,
     "metadata": {},
     "output_type": "execute_result"
    }
   ],
   "source": [
    "outout_[0]"
   ]
  }
 ],
 "metadata": {
  "kernelspec": {
   "display_name": "Pytorch",
   "language": "python",
   "name": "pytorch"
  },
  "language_info": {
   "codemirror_mode": {
    "name": "ipython",
    "version": 3
   },
   "file_extension": ".py",
   "mimetype": "text/x-python",
   "name": "python",
   "nbconvert_exporter": "python",
   "pygments_lexer": "ipython3",
   "version": "3.7.13"
  }
 },
 "nbformat": 4,
 "nbformat_minor": 5
}
