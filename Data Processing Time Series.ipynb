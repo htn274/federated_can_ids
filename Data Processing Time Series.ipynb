{
 "cells": [
  {
   "cell_type": "code",
   "execution_count": 1,
   "id": "6a7d428b",
   "metadata": {},
   "outputs": [],
   "source": [
    "import pandas as pd\n",
    "import numpy as np\n",
    "import seaborn as sns\n",
    "from matplotlib import pyplot as plt\n",
    "from matplotlib.pyplot import figure\n",
    "from pandas import ExcelWriter\n",
    "from pandas import ExcelFile\n",
    "import glob\n",
    "import pywt\n",
    "import sys"
   ]
  },
  {
   "cell_type": "code",
   "execution_count": 6,
   "id": "f7b06278",
   "metadata": {},
   "outputs": [],
   "source": [
    "def data_process(data, label):\n",
    "    X = []\n",
    "    y = []\n",
    "    data = pd.read_csv(data)\n",
    "    data = data[['Scaled_CAN_ID', 'Time_Gap']].astype('f')\n",
    "    data[\"Labele_num\"] = np.repeat(label, (len(data)))\n",
    "\n",
    "    timestamp = 10\n",
    "    length = len(data)\n",
    "\n",
    "    for i in range(timestamp, length, timestamp):\n",
    "        X.append(np.array(data[['Scaled_CAN_ID', 'Time_Gap']])[i-timestamp:i, :2])\n",
    "        y.append(np.array(data['Labele_num'][i+timestamp]))\n",
    "        timestamp = timestamp + timestamp\n",
    "\n",
    "        if i >= length-10:\n",
    "            break\n",
    "            \n",
    "        return X, y"
   ]
  },
  {
   "cell_type": "code",
   "execution_count": 7,
   "id": "13de18c4",
   "metadata": {},
   "outputs": [],
   "source": [
    "input_, outout_ = data_process(\"BMW_Replay_1.csv\", 3) # Input Data File Name and Label number (Normal 0, DoS 1, Fuzz 2, Replay 3)"
   ]
  },
  {
   "cell_type": "code",
   "execution_count": 8,
   "id": "136cfaf0",
   "metadata": {},
   "outputs": [
    {
     "data": {
      "text/plain": [
       "array([[76. ,  1.8],\n",
       "       [43. ,  0.4],\n",
       "       [23. ,  1.7],\n",
       "       [16. ,  0. ],\n",
       "       [24. ,  0. ],\n",
       "       [51. ,  1. ],\n",
       "       [49. ,  0. ],\n",
       "       [ 5. ,  0.5],\n",
       "       [ 0. ,  0.4],\n",
       "       [11. ,  0. ]], dtype=float32)"
      ]
     },
     "execution_count": 8,
     "metadata": {},
     "output_type": "execute_result"
    }
   ],
   "source": [
    "input_[0]"
   ]
  },
  {
   "cell_type": "code",
   "execution_count": 5,
   "id": "e1d91a3b",
   "metadata": {},
   "outputs": [
    {
     "data": {
      "text/plain": [
       "array(3)"
      ]
     },
     "execution_count": 5,
     "metadata": {},
     "output_type": "execute_result"
    }
   ],
   "source": [
    "outout_[0]"
   ]
  },
  {
   "cell_type": "code",
   "execution_count": null,
   "id": "7bf53c05",
   "metadata": {},
   "outputs": [],
   "source": []
  }
 ],
 "metadata": {
  "kernelspec": {
   "display_name": "Pytorch",
   "language": "python",
   "name": "pytorch"
  },
  "language_info": {
   "codemirror_mode": {
    "name": "ipython",
    "version": 3
   },
   "file_extension": ".py",
   "mimetype": "text/x-python",
   "name": "python",
   "nbconvert_exporter": "python",
   "pygments_lexer": "ipython3",
   "version": "3.7.13"
  }
 },
 "nbformat": 4,
 "nbformat_minor": 5
}
