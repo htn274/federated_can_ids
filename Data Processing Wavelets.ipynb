{
 "cells": [
  {
   "cell_type": "code",
   "execution_count": null,
   "id": "17c36939",
   "metadata": {},
   "outputs": [],
   "source": [
    "%load_ext autoreload\n",
    "%autoreload 2\n",
    "\n",
    "import pandas as pd\n",
    "import numpy as np\n",
    "from matplotlib import pyplot as plt\n",
    "from cmath import nan\n",
    "import pywt\n",
    "import torch\n",
    "import pywt\n",
    "from pandarallel import pandarallel\n",
    "import tqdm\n",
    "from functools import partial\n",
    "import glob\n",
    "from pathlib import Path"
   ]
  },
  {
   "cell_type": "code",
   "execution_count": null,
   "id": "b356a932",
   "metadata": {},
   "outputs": [],
   "source": [
    "def data_split(input_data, data_field):\n",
    "    #Data split by 0.001 Sec\n",
    "    up = float(Data['Time_Ofset'][0])\n",
    "    low = up + 10\n",
    "    wave_out = pd.DataFrame(np.zeros(23)).T\n",
    "    output = []\n",
    "    for i in np.array(Data.Time_Ofset):\n",
    "        if  float(i) <= low:\n",
    "            out = Data[(Data['Time_Ofset'] >= float(up)) & (Data['Time_Ofset'] <= float(low))]\n",
    "            if len(out) == 0:\n",
    "                break\n",
    "            else:\n",
    "                output.append(np.array(out[[data_field]]))\n",
    "\n",
    "        up = low\n",
    "        low = low + 10\n",
    "\n",
    "    return np.array(output)"
   ]
  },
  {
   "cell_type": "code",
   "execution_count": null,
   "id": "e59a1514",
   "metadata": {},
   "outputs": [],
   "source": [
    "def convert_cwt_wavelet(Data_input):\n",
    "    wave_out = pd.DataFrame(np.zeros(23)).T\n",
    "    for i in Data_input:\n",
    "        coef, freqs = pywt.cwt(i,np.arange(1,129),'gaus1')\n",
    "        out = pd.concat([pd.DataFrame(np.reshape(coef,(coef.shape[0], coef.shape[1]))), pd.DataFrame(freqs)], \n",
    "                            axis=1, ignore_index=True).fillna(0)\n",
    "        cwt_wave_out = pd.concat([wave_out,out], ignore_index=True).fillna(0)\n",
    "    return cwt_wave_out"
   ]
  },
  {
   "cell_type": "code",
   "execution_count": null,
   "id": "1e4ccd2d",
   "metadata": {},
   "outputs": [],
   "source": [
    "def convert_dwt_wavelet(Data_input, Wvaelet_Family, Label, Mode):\n",
    "    wave_out = []\n",
    "\n",
    "    for i in Data_input:\n",
    "        a, b, c = pywt.wavedec(i, Wvaelet_Family, level = Label, mode = Mode)\n",
    "        wave_out.append(pd.DataFrame((a.flatten(), b.flatten(), c.flatten())).T)\n",
    "\n",
    "    join = wave_out[0]\n",
    "    for z in wave_out:\n",
    "        join = pd.concat([join, z])\n",
    "        dwt_wave_out = join[1:]\n",
    "    return dwt_wave_out"
   ]
  },
  {
   "cell_type": "code",
   "execution_count": null,
   "id": "cce9af35",
   "metadata": {},
   "outputs": [],
   "source": [
    "path = 'Labeled data/'\n",
    "# get the files from the path provided in the OP\n",
    "files = Path(path).glob('*.csv')  # .rglob to get subdirectories\n",
    "csv_files = glob.glob(path + \"/*.csv\")\n",
    "pd.DataFrame(csv_files, columns=['Data List'])"
   ]
  },
  {
   "cell_type": "code",
   "execution_count": null,
   "id": "42716fb9",
   "metadata": {},
   "outputs": [],
   "source": [
    "dfs = list()\n",
    "for f in files:\n",
    "    data = pd.read_csv(f)\n",
    "    # .stem is method for pathlib objects to get the filename w/o the extension\n",
    "    data['File'] = f.stem\n",
    "    dfs.append(data)"
   ]
  },
  {
   "cell_type": "code",
   "execution_count": null,
   "id": "b23c8ca4",
   "metadata": {},
   "outputs": [],
   "source": [
    "Data = dfs[0]\n",
    "Data"
   ]
  },
  {
   "cell_type": "code",
   "execution_count": null,
   "id": "f9277181",
   "metadata": {},
   "outputs": [],
   "source": [
    "Data = dfs[12]\n",
    "print(\"Column Names: \\n\\n\", Data.columns)"
   ]
  },
  {
   "cell_type": "code",
   "execution_count": null,
   "id": "a00728d2",
   "metadata": {},
   "outputs": [],
   "source": [
    "data_field = 'Scaled_CAN_ID'\n",
    "data_loading = data_split(Data, data_field)\n",
    "data_loading.shape"
   ]
  },
  {
   "cell_type": "code",
   "execution_count": null,
   "id": "ecc8d284",
   "metadata": {},
   "outputs": [],
   "source": [
    "wavelet_set = convert_cwt_wavelet(data_loading[1])\n",
    "wavelet_set"
   ]
  },
  {
   "cell_type": "code",
   "execution_count": null,
   "id": "81a5a819",
   "metadata": {},
   "outputs": [],
   "source": [
    "Input_Data = data_loading\n",
    "Wvaelet_Family = 'db2'\n",
    "Label = 2\n",
    "Mode = 'periodic'\n",
    "\n",
    "wavelet_set = convert_dwt_wavelet(Input_Data, Wvaelet_Family, Label, Mode)\n",
    "wavelet_set"
   ]
  },
  {
   "cell_type": "code",
   "execution_count": null,
   "id": "e1a2994b",
   "metadata": {},
   "outputs": [],
   "source": []
  }
 ],
 "metadata": {
  "kernelspec": {
   "display_name": "Python 3 (ipykernel)",
   "language": "python",
   "name": "python3"
  },
  "language_info": {
   "codemirror_mode": {
    "name": "ipython",
    "version": 3
   },
   "file_extension": ".py",
   "mimetype": "text/x-python",
   "name": "python",
   "nbconvert_exporter": "python",
   "pygments_lexer": "ipython3",
   "version": "3.9.7"
  }
 },
 "nbformat": 4,
 "nbformat_minor": 5
}
