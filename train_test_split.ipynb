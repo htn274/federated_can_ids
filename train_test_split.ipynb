{
 "cells": [
  {
   "cell_type": "code",
   "execution_count": 1,
   "metadata": {},
   "outputs": [],
   "source": [
    "import torch\n",
    "import pandas as pd\n",
    "import numpy as np\n",
    "from pathlib import Path\n",
    "from sklearn.model_selection import StratifiedShuffleSplit"
   ]
  },
  {
   "cell_type": "code",
   "execution_count": 2,
   "metadata": {},
   "outputs": [],
   "source": [
    "class Writer:\n",
    "    def __init__(self, outdir, start_idx=0):\n",
    "        self.outdir = Path(outdir)\n",
    "        self.outdir.mkdir(parents=True, exist_ok=True)\n",
    "        self.idx = start_idx\n",
    "    def write(self, X, y):\n",
    "        save_file = self.outdir / f'{self.idx}.pt'\n",
    "        torch.save((X, y), save_file)\n",
    "        self.idx += 1"
   ]
  },
  {
   "cell_type": "code",
   "execution_count": 3,
   "metadata": {},
   "outputs": [],
   "source": [
    "data_dir = '../Data/CHD_w29_s14_ID_Data/wavelet/'\n",
    "file_name = 'DoS.pt'\n",
    "X, y = torch.load(Path(data_dir)/file_name)"
   ]
  },
  {
   "cell_type": "code",
   "execution_count": 4,
   "metadata": {},
   "outputs": [],
   "source": [
    "def write_to_file(writer, X, y):\n",
    "    try:\n",
    "        for xi, yi in zip(X, y):\n",
    "            writer.write(xi, yi)\n",
    "    except: return False\n",
    "    return True"
   ]
  },
  {
   "cell_type": "code",
   "execution_count": 5,
   "metadata": {},
   "outputs": [
    {
     "data": {
      "text/plain": [
       "5"
      ]
     },
     "execution_count": 5,
     "metadata": {},
     "output_type": "execute_result"
    }
   ],
   "source": [
    "num_splits = 5\n",
    "test_size = 0.3\n",
    "outdir = '../Data/CHD_w29_s14_ID_Data/'\n",
    "train_writers = [Writer(outdir=outdir + f'train/{i + 1}/') for i in range(num_splits)]\n",
    "val_writers = [Writer(outdir=outdir + f'val/{i + 1}/') for i in range(num_splits)]\n",
    "sss = StratifiedShuffleSplit(n_splits=num_splits, test_size=test_size)\n",
    "sss.get_n_splits(X, y)"
   ]
  },
  {
   "cell_type": "code",
   "execution_count": 8,
   "metadata": {},
   "outputs": [
    {
     "name": "stdout",
     "output_type": "stream",
     "text": [
      "0 183287 78552\n",
      "Sucess: 2 - Fails: 0\n"
     ]
    }
   ],
   "source": [
    "from asyncio import as_completed\n",
    "from concurrent import futures\n",
    "\n",
    "\n",
    "with futures.ProcessPoolExecutor(num_splits) as exec:\n",
    "    todo = []\n",
    "    for i, (train_idx, test_idx) in enumerate(sss.split(X, y)):\n",
    "        print(i, len(train_idx), len(test_idx))\n",
    "        X_train = X[train_idx[:100]]\n",
    "        y_train = y[train_idx[:100]]\n",
    "        X_val = X[test_idx[:100]]\n",
    "        y_val = y[test_idx[:100]]\n",
    "        future = exec.submit(write_to_file, train_writers[i], X_train, y_train)\n",
    "        todo.append(future)\n",
    "        future = exec.submit(write_to_file, val_writers[i], X_val, y_val)\n",
    "        todo.append(future)\n",
    "\n",
    "    results = []\n",
    "    sucess = 0\n",
    "    fail = 0\n",
    "    for future in futures.as_completed(todo):\n",
    "        res = future.result()\n",
    "        if res:\n",
    "            sucess += 1\n",
    "        else:\n",
    "            fail += 1\n",
    "print(f'Sucess: {sucess} - Fails: {fail}')"
   ]
  }
 ],
 "metadata": {
  "kernelspec": {
   "display_name": "Python 3.7.10 ('torch')",
   "language": "python",
   "name": "python3"
  },
  "language_info": {
   "codemirror_mode": {
    "name": "ipython",
    "version": 3
   },
   "file_extension": ".py",
   "mimetype": "text/x-python",
   "name": "python",
   "nbconvert_exporter": "python",
   "pygments_lexer": "ipython3",
   "version": "3.7.10"
  },
  "orig_nbformat": 4,
  "vscode": {
   "interpreter": {
    "hash": "ec8a7a313ab33d199c8aa698bb86bd912b8385ce4922a6e184e3f5edd5eb95f6"
   }
  }
 },
 "nbformat": 4,
 "nbformat_minor": 2
}
