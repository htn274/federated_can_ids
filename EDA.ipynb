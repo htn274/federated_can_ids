{
 "cells": [
  {
   "cell_type": "code",
   "execution_count": 1,
   "id": "63c4d5bf",
   "metadata": {},
   "outputs": [],
   "source": [
    "#Import Required Libraries\n",
    "import tensorflow as tf\n",
    "import pandas as pd\n",
    "import numpy as np\n",
    "import seaborn as sns\n",
    "from matplotlib import pyplot as plt\n",
    "from matplotlib.pyplot import figure\n",
    "from pandas import ExcelWriter\n",
    "from pandas import ExcelFile\n",
    "import glob\n",
    "from termcolor import colored\n",
    "\n",
    "from pathlib import Path\n",
    "from trc2csv import convert_trc_to_csv\n",
    "%matplotlib inline"
   ]
  },
  {
   "cell_type": "code",
   "execution_count": 2,
   "metadata": {},
   "outputs": [],
   "source": [
    "column_types = {'Time': float,\n",
    "            'Type': str,\n",
    "            'ID': str,\n",
    "            'Data Length': int,\n",
    "            'Data0': str, \n",
    "            'Data1': str, \n",
    "            'Data2': str, \n",
    "            'Data3': str, \n",
    "            'Data4': str, \n",
    "            'Data5': str, \n",
    "            'Data6': str, \n",
    "            'Data7': str, \n",
    "            }"
   ]
  },
  {
   "cell_type": "code",
   "execution_count": 45,
   "metadata": {},
   "outputs": [],
   "source": [
    "def read_data(filename, label):\n",
    "    df = pd.read_csv(filename, dtype=column_types)\n",
    "    df = df.sort_values(by=['Time'])\n",
    "    df = df.drop_duplicates(keep='first')\n",
    "    df['Time_Gap'] = df['Time'].diff(1)\n",
    "    df['Label'] = label\n",
    "    return df"
   ]
  },
  {
   "cell_type": "code",
   "execution_count": 46,
   "metadata": {},
   "outputs": [
    {
     "name": "stdout",
     "output_type": "stream",
     "text": [
      "4\n"
     ]
    }
   ],
   "source": [
    "files = [\n",
    "    ('Normal', '../Data/LISA/csv/KIA/20220310/20220310_C-CAN_구쏘울_정상.csv'),\n",
    "    ('DoS', '../Data/LISA/csv/KIA/DoS_Soul.csv'),\n",
    "    ('Fuzzy', '../Data/LISA/csv/KIA/fuzzing_-_Soul.csv'),\n",
    "    ('Replay', '../Data/LISA/csv/KIA/REPLAY_-_Soul.csv'),\n",
    "    # ('DoS', './datasets/csv/KIA/20220310/20220310_C-CAN_구쏘울_DoS_10000.csv'),\n",
    "    # ('Replay', './datasets/csv/KIA/20220310/20220310_C-CAN_구쏘울_Replay_2.csv')\n",
    "]\n",
    "df_dict = dict(map(lambda x: (x[0], read_data(x[1], x[0])), files))\n",
    "print(len(df_dict))"
   ]
  },
  {
   "cell_type": "code",
   "execution_count": 63,
   "metadata": {},
   "outputs": [
    {
     "data": {
      "text/plain": [
       "624.4945"
      ]
     },
     "execution_count": 63,
     "metadata": {},
     "output_type": "execute_result"
    }
   ],
   "source": [
    "(df_dict['Normal']['Time'].max() - df_dict['Normal']['Time'].min()) / 1000"
   ]
  },
  {
   "cell_type": "code",
   "execution_count": 47,
   "metadata": {},
   "outputs": [
    {
     "data": {
      "text/html": [
       "<div>\n",
       "<style scoped>\n",
       "    .dataframe tbody tr th:only-of-type {\n",
       "        vertical-align: middle;\n",
       "    }\n",
       "\n",
       "    .dataframe tbody tr th {\n",
       "        vertical-align: top;\n",
       "    }\n",
       "\n",
       "    .dataframe thead th {\n",
       "        text-align: right;\n",
       "    }\n",
       "</style>\n",
       "<table border=\"1\" class=\"dataframe\">\n",
       "  <thead>\n",
       "    <tr style=\"text-align: right;\">\n",
       "      <th></th>\n",
       "      <th>Time</th>\n",
       "      <th>Type</th>\n",
       "      <th>ID</th>\n",
       "      <th>Data Length</th>\n",
       "      <th>Data0</th>\n",
       "      <th>Data1</th>\n",
       "      <th>Data2</th>\n",
       "      <th>Data3</th>\n",
       "      <th>Data4</th>\n",
       "      <th>Data5</th>\n",
       "      <th>Data6</th>\n",
       "      <th>Data7</th>\n",
       "      <th>Time_Gap</th>\n",
       "      <th>Label</th>\n",
       "    </tr>\n",
       "  </thead>\n",
       "  <tbody>\n",
       "    <tr>\n",
       "      <th>0</th>\n",
       "      <td>1.7</td>\n",
       "      <td>Rx</td>\n",
       "      <td>02B0</td>\n",
       "      <td>5</td>\n",
       "      <td>05</td>\n",
       "      <td>07</td>\n",
       "      <td>00</td>\n",
       "      <td>07</td>\n",
       "      <td>AF</td>\n",
       "      <td>NaN</td>\n",
       "      <td>NaN</td>\n",
       "      <td>NaN</td>\n",
       "      <td>NaN</td>\n",
       "      <td>Normal</td>\n",
       "    </tr>\n",
       "    <tr>\n",
       "      <th>1</th>\n",
       "      <td>2.0</td>\n",
       "      <td>Rx</td>\n",
       "      <td>0165</td>\n",
       "      <td>8</td>\n",
       "      <td>84</td>\n",
       "      <td>B7</td>\n",
       "      <td>81</td>\n",
       "      <td>00</td>\n",
       "      <td>00</td>\n",
       "      <td>00</td>\n",
       "      <td>0F</td>\n",
       "      <td>BD</td>\n",
       "      <td>0.3</td>\n",
       "      <td>Normal</td>\n",
       "    </tr>\n",
       "    <tr>\n",
       "      <th>2</th>\n",
       "      <td>3.1</td>\n",
       "      <td>Rx</td>\n",
       "      <td>0153</td>\n",
       "      <td>8</td>\n",
       "      <td>00</td>\n",
       "      <td>80</td>\n",
       "      <td>10</td>\n",
       "      <td>FF</td>\n",
       "      <td>00</td>\n",
       "      <td>FF</td>\n",
       "      <td>60</td>\n",
       "      <td>EE</td>\n",
       "      <td>1.1</td>\n",
       "      <td>Normal</td>\n",
       "    </tr>\n",
       "    <tr>\n",
       "      <th>3</th>\n",
       "      <td>3.3</td>\n",
       "      <td>Rx</td>\n",
       "      <td>01F1</td>\n",
       "      <td>8</td>\n",
       "      <td>00</td>\n",
       "      <td>35</td>\n",
       "      <td>2D</td>\n",
       "      <td>20</td>\n",
       "      <td>03</td>\n",
       "      <td>2C</td>\n",
       "      <td>10</td>\n",
       "      <td>03</td>\n",
       "      <td>0.2</td>\n",
       "      <td>Normal</td>\n",
       "    </tr>\n",
       "    <tr>\n",
       "      <th>4</th>\n",
       "      <td>3.6</td>\n",
       "      <td>Rx</td>\n",
       "      <td>0220</td>\n",
       "      <td>8</td>\n",
       "      <td>16</td>\n",
       "      <td>0C</td>\n",
       "      <td>38</td>\n",
       "      <td>24</td>\n",
       "      <td>0C</td>\n",
       "      <td>10</td>\n",
       "      <td>A1</td>\n",
       "      <td>12</td>\n",
       "      <td>0.3</td>\n",
       "      <td>Normal</td>\n",
       "    </tr>\n",
       "    <tr>\n",
       "      <th>...</th>\n",
       "      <td>...</td>\n",
       "      <td>...</td>\n",
       "      <td>...</td>\n",
       "      <td>...</td>\n",
       "      <td>...</td>\n",
       "      <td>...</td>\n",
       "      <td>...</td>\n",
       "      <td>...</td>\n",
       "      <td>...</td>\n",
       "      <td>...</td>\n",
       "      <td>...</td>\n",
       "      <td>...</td>\n",
       "      <td>...</td>\n",
       "      <td>...</td>\n",
       "    </tr>\n",
       "    <tr>\n",
       "      <th>1266831</th>\n",
       "      <td>592811.0</td>\n",
       "      <td>Rx</td>\n",
       "      <td>0329</td>\n",
       "      <td>8</td>\n",
       "      <td>40</td>\n",
       "      <td>B0</td>\n",
       "      <td>80</td>\n",
       "      <td>8C</td>\n",
       "      <td>12</td>\n",
       "      <td>2E</td>\n",
       "      <td>00</td>\n",
       "      <td>10</td>\n",
       "      <td>0.3</td>\n",
       "      <td>Replay</td>\n",
       "    </tr>\n",
       "    <tr>\n",
       "      <th>1266832</th>\n",
       "      <td>592811.2</td>\n",
       "      <td>Rx</td>\n",
       "      <td>0370</td>\n",
       "      <td>8</td>\n",
       "      <td>FF</td>\n",
       "      <td>26</td>\n",
       "      <td>10</td>\n",
       "      <td>88</td>\n",
       "      <td>FF</td>\n",
       "      <td>00</td>\n",
       "      <td>00</td>\n",
       "      <td>B0</td>\n",
       "      <td>0.2</td>\n",
       "      <td>Replay</td>\n",
       "    </tr>\n",
       "    <tr>\n",
       "      <th>1266833</th>\n",
       "      <td>592811.4</td>\n",
       "      <td>Rx</td>\n",
       "      <td>0392</td>\n",
       "      <td>8</td>\n",
       "      <td>06</td>\n",
       "      <td>91</td>\n",
       "      <td>08</td>\n",
       "      <td>5B</td>\n",
       "      <td>00</td>\n",
       "      <td>C6</td>\n",
       "      <td>00</td>\n",
       "      <td>C0</td>\n",
       "      <td>0.2</td>\n",
       "      <td>Replay</td>\n",
       "    </tr>\n",
       "    <tr>\n",
       "      <th>1266834</th>\n",
       "      <td>592811.7</td>\n",
       "      <td>Rx</td>\n",
       "      <td>0018</td>\n",
       "      <td>8</td>\n",
       "      <td>00</td>\n",
       "      <td>00</td>\n",
       "      <td>00</td>\n",
       "      <td>60</td>\n",
       "      <td>00</td>\n",
       "      <td>00</td>\n",
       "      <td>20</td>\n",
       "      <td>00</td>\n",
       "      <td>0.3</td>\n",
       "      <td>Replay</td>\n",
       "    </tr>\n",
       "    <tr>\n",
       "      <th>1266835</th>\n",
       "      <td>592811.9</td>\n",
       "      <td>Rx</td>\n",
       "      <td>043F</td>\n",
       "      <td>8</td>\n",
       "      <td>11</td>\n",
       "      <td>55</td>\n",
       "      <td>60</td>\n",
       "      <td>FF</td>\n",
       "      <td>7F</td>\n",
       "      <td>00</td>\n",
       "      <td>00</td>\n",
       "      <td>00</td>\n",
       "      <td>0.2</td>\n",
       "      <td>Replay</td>\n",
       "    </tr>\n",
       "  </tbody>\n",
       "</table>\n",
       "<p>4890204 rows × 14 columns</p>\n",
       "</div>"
      ],
      "text/plain": [
       "             Time Type    ID  Data Length Data0 Data1 Data2 Data3 Data4 Data5  \\\n",
       "0             1.7   Rx  02B0            5    05    07    00    07    AF   NaN   \n",
       "1             2.0   Rx  0165            8    84    B7    81    00    00    00   \n",
       "2             3.1   Rx  0153            8    00    80    10    FF    00    FF   \n",
       "3             3.3   Rx  01F1            8    00    35    2D    20    03    2C   \n",
       "4             3.6   Rx  0220            8    16    0C    38    24    0C    10   \n",
       "...           ...  ...   ...          ...   ...   ...   ...   ...   ...   ...   \n",
       "1266831  592811.0   Rx  0329            8    40    B0    80    8C    12    2E   \n",
       "1266832  592811.2   Rx  0370            8    FF    26    10    88    FF    00   \n",
       "1266833  592811.4   Rx  0392            8    06    91    08    5B    00    C6   \n",
       "1266834  592811.7   Rx  0018            8    00    00    00    60    00    00   \n",
       "1266835  592811.9   Rx  043F            8    11    55    60    FF    7F    00   \n",
       "\n",
       "        Data6 Data7  Time_Gap   Label  \n",
       "0         NaN   NaN       NaN  Normal  \n",
       "1          0F    BD       0.3  Normal  \n",
       "2          60    EE       1.1  Normal  \n",
       "3          10    03       0.2  Normal  \n",
       "4          A1    12       0.3  Normal  \n",
       "...       ...   ...       ...     ...  \n",
       "1266831    00    10       0.3  Replay  \n",
       "1266832    00    B0       0.2  Replay  \n",
       "1266833    00    C0       0.2  Replay  \n",
       "1266834    20    00       0.3  Replay  \n",
       "1266835    00    00       0.2  Replay  \n",
       "\n",
       "[4890204 rows x 14 columns]"
      ]
     },
     "execution_count": 47,
     "metadata": {},
     "output_type": "execute_result"
    }
   ],
   "source": [
    "df = pd.concat(df_dict.values())\n",
    "df"
   ]
  },
  {
   "cell_type": "code",
   "execution_count": 62,
   "metadata": {},
   "outputs": [
    {
     "data": {
      "text/plain": [
       "Label\n",
       "DoS       1174331\n",
       "Fuzzy     1145910\n",
       "Normal    1303127\n",
       "Replay    1266836\n",
       "Name: Time, dtype: int64"
      ]
     },
     "execution_count": 62,
     "metadata": {},
     "output_type": "execute_result"
    }
   ],
   "source": [
    "df.groupby(['Label'])['Time'].count()"
   ]
  },
  {
   "cell_type": "code",
   "execution_count": 52,
   "metadata": {},
   "outputs": [
    {
     "data": {
      "text/plain": [
       "141917"
      ]
     },
     "execution_count": 52,
     "metadata": {},
     "output_type": "execute_result"
    }
   ],
   "source": [
    "df_dict['Fuzzy']['Time_Gap'].argmin()"
   ]
  },
  {
   "cell_type": "code",
   "execution_count": 53,
   "metadata": {},
   "outputs": [
    {
     "data": {
      "text/html": [
       "<div>\n",
       "<style scoped>\n",
       "    .dataframe tbody tr th:only-of-type {\n",
       "        vertical-align: middle;\n",
       "    }\n",
       "\n",
       "    .dataframe tbody tr th {\n",
       "        vertical-align: top;\n",
       "    }\n",
       "\n",
       "    .dataframe thead th {\n",
       "        text-align: right;\n",
       "    }\n",
       "</style>\n",
       "<table border=\"1\" class=\"dataframe\">\n",
       "  <thead>\n",
       "    <tr style=\"text-align: right;\">\n",
       "      <th></th>\n",
       "      <th>Time</th>\n",
       "      <th>Type</th>\n",
       "      <th>ID</th>\n",
       "      <th>Data Length</th>\n",
       "      <th>Data0</th>\n",
       "      <th>Data1</th>\n",
       "      <th>Data2</th>\n",
       "      <th>Data3</th>\n",
       "      <th>Data4</th>\n",
       "      <th>Data5</th>\n",
       "      <th>Data6</th>\n",
       "      <th>Data7</th>\n",
       "      <th>Time_Gap</th>\n",
       "      <th>Label</th>\n",
       "    </tr>\n",
       "  </thead>\n",
       "  <tbody>\n",
       "    <tr>\n",
       "      <th>142293</th>\n",
       "      <td>66405.8</td>\n",
       "      <td>Rx</td>\n",
       "      <td>00A7</td>\n",
       "      <td>8</td>\n",
       "      <td>DF</td>\n",
       "      <td>40</td>\n",
       "      <td>A8</td>\n",
       "      <td>93</td>\n",
       "      <td>A7</td>\n",
       "      <td>3A</td>\n",
       "      <td>D2</td>\n",
       "      <td>37</td>\n",
       "      <td>0.1</td>\n",
       "      <td>Fuzzy</td>\n",
       "    </tr>\n",
       "    <tr>\n",
       "      <th>142292</th>\n",
       "      <td>66405.8</td>\n",
       "      <td>Rx</td>\n",
       "      <td>0081</td>\n",
       "      <td>8</td>\n",
       "      <td>80</td>\n",
       "      <td>34</td>\n",
       "      <td>62</td>\n",
       "      <td>00</td>\n",
       "      <td>00</td>\n",
       "      <td>00</td>\n",
       "      <td>00</td>\n",
       "      <td>DC</td>\n",
       "      <td>0.0</td>\n",
       "      <td>Fuzzy</td>\n",
       "    </tr>\n",
       "  </tbody>\n",
       "</table>\n",
       "</div>"
      ],
      "text/plain": [
       "           Time Type    ID  Data Length Data0 Data1 Data2 Data3 Data4 Data5  \\\n",
       "142293  66405.8   Rx  00A7            8    DF    40    A8    93    A7    3A   \n",
       "142292  66405.8   Rx  0081            8    80    34    62    00    00    00   \n",
       "\n",
       "       Data6 Data7  Time_Gap  Label  \n",
       "142293    D2    37       0.1  Fuzzy  \n",
       "142292    00    DC       0.0  Fuzzy  "
      ]
     },
     "execution_count": 53,
     "metadata": {},
     "output_type": "execute_result"
    }
   ],
   "source": [
    "df_dict['Fuzzy'].iloc[141916:141918]"
   ]
  },
  {
   "cell_type": "code",
   "execution_count": 51,
   "metadata": {},
   "outputs": [
    {
     "data": {
      "text/html": [
       "<div>\n",
       "<style scoped>\n",
       "    .dataframe tbody tr th:only-of-type {\n",
       "        vertical-align: middle;\n",
       "    }\n",
       "\n",
       "    .dataframe tbody tr th {\n",
       "        vertical-align: top;\n",
       "    }\n",
       "\n",
       "    .dataframe thead th {\n",
       "        text-align: right;\n",
       "    }\n",
       "</style>\n",
       "<table border=\"1\" class=\"dataframe\">\n",
       "  <thead>\n",
       "    <tr style=\"text-align: right;\">\n",
       "      <th></th>\n",
       "      <th>min</th>\n",
       "      <th>max</th>\n",
       "      <th>mean</th>\n",
       "      <th>std</th>\n",
       "    </tr>\n",
       "    <tr>\n",
       "      <th>Label</th>\n",
       "      <th></th>\n",
       "      <th></th>\n",
       "      <th></th>\n",
       "      <th></th>\n",
       "    </tr>\n",
       "  </thead>\n",
       "  <tbody>\n",
       "    <tr>\n",
       "      <th>DoS</th>\n",
       "      <td>0.0</td>\n",
       "      <td>10.7</td>\n",
       "      <td>0.471948</td>\n",
       "      <td>0.648586</td>\n",
       "    </tr>\n",
       "    <tr>\n",
       "      <th>Fuzzy</th>\n",
       "      <td>0.0</td>\n",
       "      <td>2601.6</td>\n",
       "      <td>0.460046</td>\n",
       "      <td>2.516926</td>\n",
       "    </tr>\n",
       "    <tr>\n",
       "      <th>Normal</th>\n",
       "      <td>0.1</td>\n",
       "      <td>4.9</td>\n",
       "      <td>0.479228</td>\n",
       "      <td>0.681490</td>\n",
       "    </tr>\n",
       "    <tr>\n",
       "      <th>Replay</th>\n",
       "      <td>0.1</td>\n",
       "      <td>4.9</td>\n",
       "      <td>0.467946</td>\n",
       "      <td>0.652208</td>\n",
       "    </tr>\n",
       "  </tbody>\n",
       "</table>\n",
       "</div>"
      ],
      "text/plain": [
       "        min     max      mean       std\n",
       "Label                                  \n",
       "DoS     0.0    10.7  0.471948  0.648586\n",
       "Fuzzy   0.0  2601.6  0.460046  2.516926\n",
       "Normal  0.1     4.9  0.479228  0.681490\n",
       "Replay  0.1     4.9  0.467946  0.652208"
      ]
     },
     "execution_count": 51,
     "metadata": {},
     "output_type": "execute_result"
    }
   ],
   "source": [
    "def q1(x): return x.quantile(0.25)\n",
    "def q4(x): return x.quantile(0.75)\n",
    "df.groupby(['Label'])['Time_Gap'].agg(['min', 'max', 'mean', 'std'])"
   ]
  },
  {
   "cell_type": "code",
   "execution_count": 29,
   "metadata": {},
   "outputs": [
    {
     "data": {
      "text/html": [
       "<div>\n",
       "<style scoped>\n",
       "    .dataframe tbody tr th:only-of-type {\n",
       "        vertical-align: middle;\n",
       "    }\n",
       "\n",
       "    .dataframe tbody tr th {\n",
       "        vertical-align: top;\n",
       "    }\n",
       "\n",
       "    .dataframe thead th {\n",
       "        text-align: right;\n",
       "    }\n",
       "</style>\n",
       "<table border=\"1\" class=\"dataframe\">\n",
       "  <thead>\n",
       "    <tr style=\"text-align: right;\">\n",
       "      <th></th>\n",
       "      <th>min</th>\n",
       "      <th>max</th>\n",
       "      <th>duration</th>\n",
       "    </tr>\n",
       "    <tr>\n",
       "      <th>Label</th>\n",
       "      <th></th>\n",
       "      <th></th>\n",
       "      <th></th>\n",
       "    </tr>\n",
       "  </thead>\n",
       "  <tbody>\n",
       "    <tr>\n",
       "      <th>DoS</th>\n",
       "      <td>4.5</td>\n",
       "      <td>554227.3</td>\n",
       "      <td>554222.8</td>\n",
       "    </tr>\n",
       "    <tr>\n",
       "      <th>Fuzzy</th>\n",
       "      <td>3.7</td>\n",
       "      <td>527174.3</td>\n",
       "      <td>527170.6</td>\n",
       "    </tr>\n",
       "    <tr>\n",
       "      <th>Normal</th>\n",
       "      <td>1.7</td>\n",
       "      <td>624496.2</td>\n",
       "      <td>624494.5</td>\n",
       "    </tr>\n",
       "    <tr>\n",
       "      <th>Replay</th>\n",
       "      <td>2.1</td>\n",
       "      <td>592811.9</td>\n",
       "      <td>592809.8</td>\n",
       "    </tr>\n",
       "  </tbody>\n",
       "</table>\n",
       "</div>"
      ],
      "text/plain": [
       "        min       max  duration\n",
       "Label                          \n",
       "DoS     4.5  554227.3  554222.8\n",
       "Fuzzy   3.7  527174.3  527170.6\n",
       "Normal  1.7  624496.2  624494.5\n",
       "Replay  2.1  592811.9  592809.8"
      ]
     },
     "execution_count": 29,
     "metadata": {},
     "output_type": "execute_result"
    }
   ],
   "source": [
    "time_group = df.groupby(['Label'])['Time'].agg(['min','max'])\n",
    "time_group['duration'] = time_group['max'] - time_group['min']\n",
    "time_group"
   ]
  },
  {
   "cell_type": "code",
   "execution_count": 121,
   "metadata": {},
   "outputs": [
    {
     "data": {
      "text/plain": [
       "<AxesSubplot:xlabel='Label', ylabel='Time_Gap'>"
      ]
     },
     "execution_count": 121,
     "metadata": {},
     "output_type": "execute_result"
    },
    {
     "data": {
      "image/png": "[encoded data removed]",
      "text/plain": [
       "<Figure size 720x720 with 1 Axes>"
      ]
     },
     "metadata": {
      "needs_background": "light"
     },
     "output_type": "display_data"
    }
   ],
   "source": [
    "plt.figure(figsize=(10, 10))\n",
    "sns.boxplot(x = 'Label', y=\"Time_Gap\", data = df)"
   ]
  },
  {
   "cell_type": "code",
   "execution_count": 119,
   "metadata": {},
   "outputs": [
    {
     "data": {
      "text/html": [
       "<div>\n",
       "<style scoped>\n",
       "    .dataframe tbody tr th:only-of-type {\n",
       "        vertical-align: middle;\n",
       "    }\n",
       "\n",
       "    .dataframe tbody tr th {\n",
       "        vertical-align: top;\n",
       "    }\n",
       "\n",
       "    .dataframe thead th {\n",
       "        text-align: right;\n",
       "    }\n",
       "</style>\n",
       "<table border=\"1\" class=\"dataframe\">\n",
       "  <thead>\n",
       "    <tr style=\"text-align: right;\">\n",
       "      <th></th>\n",
       "      <th>Time</th>\n",
       "      <th>Time_Gap</th>\n",
       "    </tr>\n",
       "  </thead>\n",
       "  <tbody>\n",
       "    <tr>\n",
       "      <th>297609</th>\n",
       "      <td>123341.6</td>\n",
       "      <td>10.4</td>\n",
       "    </tr>\n",
       "    <tr>\n",
       "      <th>297625</th>\n",
       "      <td>123411.2</td>\n",
       "      <td>10.1</td>\n",
       "    </tr>\n",
       "    <tr>\n",
       "      <th>300281</th>\n",
       "      <td>125341.2</td>\n",
       "      <td>10.3</td>\n",
       "    </tr>\n",
       "    <tr>\n",
       "      <th>300307</th>\n",
       "      <td>125461.2</td>\n",
       "      <td>10.3</td>\n",
       "    </tr>\n",
       "    <tr>\n",
       "      <th>300315</th>\n",
       "      <td>125491.0</td>\n",
       "      <td>10.3</td>\n",
       "    </tr>\n",
       "    <tr>\n",
       "      <th>...</th>\n",
       "      <td>...</td>\n",
       "      <td>...</td>\n",
       "    </tr>\n",
       "    <tr>\n",
       "      <th>825072</th>\n",
       "      <td>319726.3</td>\n",
       "      <td>10.2</td>\n",
       "    </tr>\n",
       "    <tr>\n",
       "      <th>825084</th>\n",
       "      <td>319776.4</td>\n",
       "      <td>10.2</td>\n",
       "    </tr>\n",
       "    <tr>\n",
       "      <th>826488</th>\n",
       "      <td>320655.9</td>\n",
       "      <td>10.1</td>\n",
       "    </tr>\n",
       "    <tr>\n",
       "      <th>826496</th>\n",
       "      <td>320686.3</td>\n",
       "      <td>10.1</td>\n",
       "    </tr>\n",
       "    <tr>\n",
       "      <th>826805</th>\n",
       "      <td>320945.9</td>\n",
       "      <td>10.1</td>\n",
       "    </tr>\n",
       "  </tbody>\n",
       "</table>\n",
       "<p>94 rows × 2 columns</p>\n",
       "</div>"
      ],
      "text/plain": [
       "            Time  Time_Gap\n",
       "297609  123341.6      10.4\n",
       "297625  123411.2      10.1\n",
       "300281  125341.2      10.3\n",
       "300307  125461.2      10.3\n",
       "300315  125491.0      10.3\n",
       "...          ...       ...\n",
       "825072  319726.3      10.2\n",
       "825084  319776.4      10.2\n",
       "826488  320655.9      10.1\n",
       "826496  320686.3      10.1\n",
       "826805  320945.9      10.1\n",
       "\n",
       "[94 rows x 2 columns]"
      ]
     },
     "execution_count": 119,
     "metadata": {},
     "output_type": "execute_result"
    }
   ],
   "source": [
    "dt = df[df.Label == 'DoS']\n",
    "dt.loc[dt.index[dt['Time_Gap'] > 10]][['Time', 'Time_Gap']]"
   ]
  },
  {
   "cell_type": "code",
   "execution_count": 34,
   "metadata": {},
   "outputs": [
    {
     "name": "stdout",
     "output_type": "stream",
     "text": [
      "Normal : 45\n",
      " DoS : 212\n",
      " Fuzzy : 320\n",
      " Replay : 46\n",
      "\n"
     ]
    }
   ],
   "source": [
    "print(*(f'{name} : {len(data[\"ID\"].unique())}\\n' for name, data in df_dict.items()))"
   ]
  },
  {
   "cell_type": "code",
   "execution_count": 21,
   "metadata": {},
   "outputs": [
    {
     "data": {
      "image/png": "[encoded data removed]",
      "text/plain": [
       "<Figure size 1800x1152 with 4 Axes>"
      ]
     },
     "metadata": {
      "needs_background": "light"
     },
     "output_type": "display_data"
    }
   ],
   "source": [
    "fig, ax = plt.subplots(nrows=4, ncols=1, figsize=(25, 16))\n",
    "for i, (name, data) in enumerate(df_dict.items()):\n",
    "    ax[i].plot(data['Time_Gap'][:])\n",
    "    ax[i].set_title(name)"
   ]
  },
  {
   "cell_type": "code",
   "execution_count": 24,
   "metadata": {},
   "outputs": [
    {
     "data": {
      "image/png": "[encoded data removed]",
      "text/plain": [
       "<Figure size 1800x576 with 1 Axes>"
      ]
     },
     "metadata": {
      "needs_background": "light"
     },
     "output_type": "display_data"
    }
   ],
   "source": [
    "fig, ax = plt.subplots(nrows=1, ncols=1, figsize=(25, 8))\n",
    "# for i, (name, data) in enumerate(df_dict.items()):\n",
    "i = 0\n",
    "name = 'Normal'\n",
    "data = df_dict['Normal']\n",
    "order = data['ID'].value_counts().sort_index().sort_values().index\n",
    "sub_ax = sns.countplot(x=\"ID\", data=data, order = order, ax=ax)\n",
    "sub_ax.set_title(name)\n",
    "for p in sub_ax.patches:\n",
    "    sub_ax.annotate(f'\\n{p.get_height()}', (p.get_x()+0.4, p.get_height()+3000), ha='center', va='top', color='black', size=10)"
   ]
  },
  {
   "cell_type": "code",
   "execution_count": null,
   "metadata": {},
   "outputs": [],
   "source": []
  }
 ],
 "metadata": {
  "kernelspec": {
   "display_name": "Python 3.9.12 ('tf2.0')",
   "language": "python",
   "name": "python3"
  },
  "language_info": {
   "codemirror_mode": {
    "name": "ipython",
    "version": 3
   },
   "file_extension": ".py",
   "mimetype": "text/x-python",
   "name": "python",
   "nbconvert_exporter": "python",
   "pygments_lexer": "ipython3",
   "version": "3.9.12"
  },
  "orig_nbformat": 4,
  "vscode": {
   "interpreter": {
    "hash": "633e618ea0626381a8522b80a98a5c09b28ff4c1b151ae5dfd3915bbd9504c70"
   }
  }
 },
 "nbformat": 4,
 "nbformat_minor": 2
}
