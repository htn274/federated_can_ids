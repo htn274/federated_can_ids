{
 "cells": [
  {
   "cell_type": "code",
   "execution_count": 1,
   "metadata": {},
   "outputs": [],
   "source": [
    "%load_ext autoreload\n",
    "%autoreload 2\n",
    "import os\n",
    "import sys\n",
    "sys.path.append(os.path.abspath('../src/'))\n",
    "sys.path.append(os.path.abspath('../'))"
   ]
  },
  {
   "cell_type": "code",
   "execution_count": 2,
   "metadata": {},
   "outputs": [
    {
     "name": "stderr",
     "output_type": "stream",
     "text": [
      "/Users/htnu/opt/miniconda3/envs/torch/lib/python3.8/site-packages/scipy/__init__.py:146: UserWarning: A NumPy version >=1.16.5 and <1.23.0 is required for this version of SciPy (detected version 1.23.1\n",
      "  warnings.warn(f\"A NumPy version >={np_minversion} and <{np_maxversion}\"\n"
     ]
    }
   ],
   "source": [
    "from src.classifier import Classifier\n",
    "from src.utils import cal_metric, print_results\n",
    "from src.dataset import CANDataset\n",
    "from torch.utils.data import DataLoader\n",
    "import pytorch_lightning as pl\n",
    "import numpy as np"
   ]
  },
  {
   "cell_type": "code",
   "execution_count": 9,
   "metadata": {},
   "outputs": [
    {
     "name": "stderr",
     "output_type": "stream",
     "text": [
      "GPU available: True (mps), used: False\n",
      "TPU available: False, using: 0 TPU cores\n",
      "IPU available: False, using: 0 IPUs\n",
      "HPU available: False, using: 0 HPUs\n",
      "/Users/htnu/opt/miniconda3/envs/torch/lib/python3.8/site-packages/pytorch_lightning/trainer/trainer.py:1789: UserWarning: MPS available but not used. Set `accelerator` and `devices` using `Trainer(accelerator='mps', devices=1)`.\n",
      "  rank_zero_warn(\n",
      "/Users/htnu/opt/miniconda3/envs/torch/lib/python3.8/site-packages/pytorch_lightning/trainer/connectors/data_connector.py:225: PossibleUserWarning: The dataloader, predict_dataloader 0, does not have many workers which may be a bottleneck. Consider increasing the value of the `num_workers` argument` (try 10 which is the number of cpus on this machine) in the `DataLoader` init to improve performance.\n",
      "  rank_zero_warn(\n"
     ]
    },
    {
     "data": {
      "application/vnd.jupyter.widget-view+json": {
       "model_id": "c1728b6268644e14b32e3dc39990e9bd",
       "version_major": 2,
       "version_minor": 0
      },
      "text/plain": [
       "Predicting: 0it [00:00, ?it/s]"
      ]
     },
     "metadata": {},
     "output_type": "display_data"
    }
   ],
   "source": [
    "data_dir = '../../Data/LISA/Federated_Data/Preprocessed_Data/Kia/1/'\n",
    "ckpt_files = '../save/lightning_logs/version_0/checkpoints/epoch=49-step=32250.ckpt'\n",
    "model = Classifier.load_from_checkpoint(ckpt_files, num_classes=3, data_dir=data_dir)\n",
    "transform = None\n",
    "test_dataset = CANDataset(root_dir=data_dir, is_train=False, transform=transform)\n",
    "test_loader = DataLoader(test_dataset, batch_size=128, shuffle=False, \n",
    "                        pin_memory=True, sampler=None)\n",
    "trainer = pl.Trainer(enable_checkpointing=False, logger=False)\n",
    "results = trainer.predict(model, dataloaders=test_loader)"
   ]
  },
  {
   "cell_type": "code",
   "execution_count": 10,
   "metadata": {},
   "outputs": [],
   "source": [
    "labels = np.concatenate([x['labels'] for x in results])\n",
    "preds = np.concatenate([x['preds'] for x in results])\n",
    "cm, metrics = cal_metric(labels, preds)"
   ]
  },
  {
   "cell_type": "code",
   "execution_count": 11,
   "metadata": {},
   "outputs": [
    {
     "name": "stdout",
     "output_type": "stream",
     "text": [
      "\tfnr\trec\tpre\tf1\n",
      "Normal\t0.0331\t0.9997\t0.9989\t0.9993\n",
      "Fuzzy\t0.0\t1.0\t1.0\t1.0\n",
      "Replay\t7.0312\t0.9297\t0.9781\t0.9533\n"
     ]
    }
   ],
   "source": [
    "classes = ['Normal', 'Fuzzy', 'Replay']\n",
    "print_results(metrics, classes)"
   ]
  }
 ],
 "metadata": {
  "kernelspec": {
   "display_name": "Python 3.8.13 ('torch')",
   "language": "python",
   "name": "python3"
  },
  "language_info": {
   "codemirror_mode": {
    "name": "ipython",
    "version": 3
   },
   "file_extension": ".py",
   "mimetype": "text/x-python",
   "name": "python",
   "nbconvert_exporter": "python",
   "pygments_lexer": "ipython3",
   "version": "3.8.13"
  },
  "orig_nbformat": 4,
  "vscode": {
   "interpreter": {
    "hash": "78a29cc2c05d3ee8d935820ad86792723c958d8c7f217aee9aa88e38f878a5d1"
   }
  }
 },
 "nbformat": 4,
 "nbformat_minor": 2
}
