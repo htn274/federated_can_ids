{
 "cells": [
  {
   "cell_type": "code",
   "execution_count": 1,
   "metadata": {},
   "outputs": [],
   "source": [
    "%load_ext autoreload\n",
    "%autoreload 2"
   ]
  },
  {
   "cell_type": "code",
   "execution_count": 2,
   "metadata": {},
   "outputs": [],
   "source": [
    "import pandas as pd\n",
    "import numpy as np\n",
    "from matplotlib import pyplot as plt\n",
    "from cmath import nan\n",
    "import pywt\n",
    "import torch\n",
    "import pywt\n",
    "from pandarallel import pandarallel\n",
    "import tqdm\n",
    "from functools import partial\n",
    "import glob\n",
    "import json\n",
    "from pathlib import Path\n",
    "from numpy.lib.stride_tricks import as_strided\n",
    "# pandarallel.initialize(progress_bar=True)"
   ]
  },
  {
   "cell_type": "markdown",
   "metadata": {},
   "source": [
    "## Label attack data"
   ]
  },
  {
   "cell_type": "code",
   "execution_count": 3,
   "metadata": {},
   "outputs": [
    {
     "data": {
      "text/html": [
       "<div>\n",
       "<style scoped>\n",
       "    .dataframe tbody tr th:only-of-type {\n",
       "        vertical-align: middle;\n",
       "    }\n",
       "\n",
       "    .dataframe tbody tr th {\n",
       "        vertical-align: top;\n",
       "    }\n",
       "\n",
       "    .dataframe thead th {\n",
       "        text-align: right;\n",
       "    }\n",
       "</style>\n",
       "<table border=\"1\" class=\"dataframe\">\n",
       "  <thead>\n",
       "    <tr style=\"text-align: right;\">\n",
       "      <th></th>\n",
       "      <th>description</th>\n",
       "      <th>elapsed_sec</th>\n",
       "      <th>injection_data_str</th>\n",
       "      <th>injection_id</th>\n",
       "      <th>injection_interval</th>\n",
       "      <th>modified</th>\n",
       "      <th>on_dyno</th>\n",
       "    </tr>\n",
       "  </thead>\n",
       "  <tbody>\n",
       "    <tr>\n",
       "      <th>accelerator_attack_drive_1</th>\n",
       "      <td>start from park; drive; car accelerates until ...</td>\n",
       "      <td>86.462910</td>\n",
       "      <td>None</td>\n",
       "      <td>None</td>\n",
       "      <td>None</td>\n",
       "      <td>False</td>\n",
       "      <td>True</td>\n",
       "    </tr>\n",
       "    <tr>\n",
       "      <th>accelerator_attack_drive_2</th>\n",
       "      <td>start from park; drive; car accelerates until ...</td>\n",
       "      <td>72.868275</td>\n",
       "      <td>None</td>\n",
       "      <td>None</td>\n",
       "      <td>None</td>\n",
       "      <td>False</td>\n",
       "      <td>True</td>\n",
       "    </tr>\n",
       "    <tr>\n",
       "      <th>accelerator_attack_reverse_1</th>\n",
       "      <td>start from park; reverse; car accelerates unti...</td>\n",
       "      <td>86.134490</td>\n",
       "      <td>None</td>\n",
       "      <td>None</td>\n",
       "      <td>None</td>\n",
       "      <td>False</td>\n",
       "      <td>True</td>\n",
       "    </tr>\n",
       "    <tr>\n",
       "      <th>accelerator_attack_reverse_2</th>\n",
       "      <td>start from park; reverse; car accelerates unti...</td>\n",
       "      <td>105.438372</td>\n",
       "      <td>None</td>\n",
       "      <td>None</td>\n",
       "      <td>None</td>\n",
       "      <td>False</td>\n",
       "      <td>True</td>\n",
       "    </tr>\n",
       "    <tr>\n",
       "      <th>correlated_signal_attack_1</th>\n",
       "      <td>start from driving; accelerate; start injectin...</td>\n",
       "      <td>33.101852</td>\n",
       "      <td>595945450000FFFF</td>\n",
       "      <td>0x6e0</td>\n",
       "      <td>[9.191851, 30.050109]</td>\n",
       "      <td>False</td>\n",
       "      <td>True</td>\n",
       "    </tr>\n",
       "    <tr>\n",
       "      <th>correlated_signal_attack_1_masquerade</th>\n",
       "      <td>start from driving; accelerate; start injectin...</td>\n",
       "      <td>33.101852</td>\n",
       "      <td>595945450000FFFF</td>\n",
       "      <td>0x6e0</td>\n",
       "      <td>[9.191851, 30.050109]</td>\n",
       "      <td>True</td>\n",
       "      <td>True</td>\n",
       "    </tr>\n",
       "    <tr>\n",
       "      <th>correlated_signal_attack_2</th>\n",
       "      <td>start from driving; accelerate; start injectin...</td>\n",
       "      <td>28.226893</td>\n",
       "      <td>595945450000FFFF</td>\n",
       "      <td>0x6e0</td>\n",
       "      <td>[6.830477, 28.225908]</td>\n",
       "      <td>False</td>\n",
       "      <td>True</td>\n",
       "    </tr>\n",
       "    <tr>\n",
       "      <th>correlated_signal_attack_2_masquerade</th>\n",
       "      <td>start from driving; accelerate; start injectin...</td>\n",
       "      <td>28.226893</td>\n",
       "      <td>595945450000FFFF</td>\n",
       "      <td>0x6e0</td>\n",
       "      <td>[6.830477, 28.225908]</td>\n",
       "      <td>True</td>\n",
       "      <td>True</td>\n",
       "    </tr>\n",
       "    <tr>\n",
       "      <th>correlated_signal_attack_3</th>\n",
       "      <td>start from driving; accelerate; start injectin...</td>\n",
       "      <td>16.963905</td>\n",
       "      <td>595945450000FFFF</td>\n",
       "      <td>0x6e0</td>\n",
       "      <td>[4.318482, 16.95706]</td>\n",
       "      <td>False</td>\n",
       "      <td>True</td>\n",
       "    </tr>\n",
       "    <tr>\n",
       "      <th>correlated_signal_attack_3_masquerade</th>\n",
       "      <td>start from driving; accelerate; start injectin...</td>\n",
       "      <td>16.963905</td>\n",
       "      <td>595945450000FFFF</td>\n",
       "      <td>0x6e0</td>\n",
       "      <td>[4.318482, 16.95706]</td>\n",
       "      <td>True</td>\n",
       "      <td>True</td>\n",
       "    </tr>\n",
       "    <tr>\n",
       "      <th>fuzzing_attack_1</th>\n",
       "      <td>start from driving; accelerate; start injectin...</td>\n",
       "      <td>20.338949</td>\n",
       "      <td>FFFFFFFFFFFFFFFF</td>\n",
       "      <td>XXX</td>\n",
       "      <td>[4.622975, 7.958234]</td>\n",
       "      <td>False</td>\n",
       "      <td>True</td>\n",
       "    </tr>\n",
       "    <tr>\n",
       "      <th>fuzzing_attack_2</th>\n",
       "      <td>start from park; reverse; accelerate; start in...</td>\n",
       "      <td>13.365329</td>\n",
       "      <td>FFFFFFFFFFFFFFFF</td>\n",
       "      <td>XXX</td>\n",
       "      <td>[11.367798, 13.346811]</td>\n",
       "      <td>False</td>\n",
       "      <td>True</td>\n",
       "    </tr>\n",
       "    <tr>\n",
       "      <th>fuzzing_attack_3</th>\n",
       "      <td>start from driving; accelerate; start injectin...</td>\n",
       "      <td>5.482837</td>\n",
       "      <td>FFFFFFFFFFFFFFFF</td>\n",
       "      <td>XXX</td>\n",
       "      <td>[4.824447, 5.470669]</td>\n",
       "      <td>False</td>\n",
       "      <td>True</td>\n",
       "    </tr>\n",
       "    <tr>\n",
       "      <th>max_engine_coolant_temp_attack</th>\n",
       "      <td>start from drive/idle; accelerate; decelerate;...</td>\n",
       "      <td>25.875548</td>\n",
       "      <td>XXXXXXXXXXFFXXXX</td>\n",
       "      <td>0x4e7</td>\n",
       "      <td>[19.979078, 24.170183]</td>\n",
       "      <td>False</td>\n",
       "      <td>True</td>\n",
       "    </tr>\n",
       "    <tr>\n",
       "      <th>max_engine_coolant_temp_attack_masquerade</th>\n",
       "      <td>start from drive/idle; drive; accelerate; dece...</td>\n",
       "      <td>25.875548</td>\n",
       "      <td>XXXXXXXXXXFFXXXX</td>\n",
       "      <td>0x4e7</td>\n",
       "      <td>[19.979078, 24.170183]</td>\n",
       "      <td>True</td>\n",
       "      <td>True</td>\n",
       "    </tr>\n",
       "    <tr>\n",
       "      <th>max_speedometer_attack_1</th>\n",
       "      <td>start from park; drive; accelerate; start inje...</td>\n",
       "      <td>88.021577</td>\n",
       "      <td>XXXXXXXXXXFFXXXX</td>\n",
       "      <td>0xd0</td>\n",
       "      <td>[42.009204, 66.449011]</td>\n",
       "      <td>False</td>\n",
       "      <td>True</td>\n",
       "    </tr>\n",
       "    <tr>\n",
       "      <th>max_speedometer_attack_1_masquerade</th>\n",
       "      <td>start from park; drive; accelerate; start inje...</td>\n",
       "      <td>88.021577</td>\n",
       "      <td>XXXXXXXXXXFFXXXX</td>\n",
       "      <td>0xd0</td>\n",
       "      <td>[42.009204, 66.449011]</td>\n",
       "      <td>True</td>\n",
       "      <td>True</td>\n",
       "    </tr>\n",
       "    <tr>\n",
       "      <th>max_speedometer_attack_2</th>\n",
       "      <td>start from driving; accelerate; start injectin...</td>\n",
       "      <td>59.696973</td>\n",
       "      <td>XXXXXXXXXXFFXXXX</td>\n",
       "      <td>0xd0</td>\n",
       "      <td>[16.009225, 47.408246]</td>\n",
       "      <td>False</td>\n",
       "      <td>True</td>\n",
       "    </tr>\n",
       "    <tr>\n",
       "      <th>max_speedometer_attack_2_masquerade</th>\n",
       "      <td>start from driving; accelerate; start injectin...</td>\n",
       "      <td>59.696973</td>\n",
       "      <td>XXXXXXXXXXFFXXXX</td>\n",
       "      <td>0xd0</td>\n",
       "      <td>[16.009225, 47.408246]</td>\n",
       "      <td>True</td>\n",
       "      <td>True</td>\n",
       "    </tr>\n",
       "    <tr>\n",
       "      <th>max_speedometer_attack_3</th>\n",
       "      <td>start from driving; start injecting; speedomet...</td>\n",
       "      <td>86.766667</td>\n",
       "      <td>XXXXXXXXXXFFXXXX</td>\n",
       "      <td>0xd0</td>\n",
       "      <td>[9.516489, 70.587285]</td>\n",
       "      <td>False</td>\n",
       "      <td>True</td>\n",
       "    </tr>\n",
       "    <tr>\n",
       "      <th>max_speedometer_attack_3_masquerade</th>\n",
       "      <td>start from driving; start injecting; speedomet...</td>\n",
       "      <td>86.766667</td>\n",
       "      <td>XXXXXXXXXXFFXXXX</td>\n",
       "      <td>0xd0</td>\n",
       "      <td>[9.516489, 70.587285]</td>\n",
       "      <td>True</td>\n",
       "      <td>True</td>\n",
       "    </tr>\n",
       "    <tr>\n",
       "      <th>reverse_light_off_attack_1</th>\n",
       "      <td>start from park; reverse; reverse lights turn ...</td>\n",
       "      <td>28.109869</td>\n",
       "      <td>XXXX04XXXXXXXXXX</td>\n",
       "      <td>0xd0</td>\n",
       "      <td>[16.627923, 23.347311]</td>\n",
       "      <td>False</td>\n",
       "      <td>True</td>\n",
       "    </tr>\n",
       "    <tr>\n",
       "      <th>reverse_light_off_attack_1_masquerade</th>\n",
       "      <td>start from park; reverse; reverse lights turn ...</td>\n",
       "      <td>28.109869</td>\n",
       "      <td>XXXX04XXXXXXXXXX</td>\n",
       "      <td>0xd0</td>\n",
       "      <td>[16.627923, 23.347311]</td>\n",
       "      <td>True</td>\n",
       "      <td>True</td>\n",
       "    </tr>\n",
       "    <tr>\n",
       "      <th>reverse_light_off_attack_2</th>\n",
       "      <td>start from park; reverse; reverse lights turn ...</td>\n",
       "      <td>40.665296</td>\n",
       "      <td>XXXX04XXXXXXXXXX</td>\n",
       "      <td>0xd0</td>\n",
       "      <td>[13.168608, 36.87663]</td>\n",
       "      <td>False</td>\n",
       "      <td>True</td>\n",
       "    </tr>\n",
       "    <tr>\n",
       "      <th>reverse_light_off_attack_2_masquerade</th>\n",
       "      <td>start from park; reverse; reverse lights turn ...</td>\n",
       "      <td>40.665296</td>\n",
       "      <td>XXXX04XXXXXXXXXX</td>\n",
       "      <td>0xd0</td>\n",
       "      <td>[13.168608, 36.87663]</td>\n",
       "      <td>True</td>\n",
       "      <td>True</td>\n",
       "    </tr>\n",
       "    <tr>\n",
       "      <th>reverse_light_off_attack_3</th>\n",
       "      <td>start from park; reverse; reverse lights turn ...</td>\n",
       "      <td>57.884882</td>\n",
       "      <td>XXXX04XXXXXXXXXX</td>\n",
       "      <td>0xd0</td>\n",
       "      <td>[16.524085, 40.862015]</td>\n",
       "      <td>False</td>\n",
       "      <td>True</td>\n",
       "    </tr>\n",
       "    <tr>\n",
       "      <th>reverse_light_off_attack_3_masquerade</th>\n",
       "      <td>start from park; reverse; reverse lights turn ...</td>\n",
       "      <td>57.884882</td>\n",
       "      <td>XXXX04XXXXXXXXXX</td>\n",
       "      <td>0xd0</td>\n",
       "      <td>[16.524085, 40.862015]</td>\n",
       "      <td>True</td>\n",
       "      <td>True</td>\n",
       "    </tr>\n",
       "    <tr>\n",
       "      <th>reverse_light_on_attack_1</th>\n",
       "      <td>start from park; drive (reverse lights turn on...</td>\n",
       "      <td>54.850207</td>\n",
       "      <td>XXXX0CXXXXXXXXXX</td>\n",
       "      <td>0xd0</td>\n",
       "      <td>[18.929177, 38.836015]</td>\n",
       "      <td>False</td>\n",
       "      <td>True</td>\n",
       "    </tr>\n",
       "    <tr>\n",
       "      <th>reverse_light_on_attack_1_masquerade</th>\n",
       "      <td>start from park; drive (reverse lights turn on...</td>\n",
       "      <td>54.850207</td>\n",
       "      <td>XXXX0CXXXXXXXXXX</td>\n",
       "      <td>0xd0</td>\n",
       "      <td>[18.929177, 38.836015]</td>\n",
       "      <td>True</td>\n",
       "      <td>True</td>\n",
       "    </tr>\n",
       "    <tr>\n",
       "      <th>reverse_light_on_attack_2</th>\n",
       "      <td>start from park; drive (reverse lights turn on...</td>\n",
       "      <td>72.020905</td>\n",
       "      <td>XXXX0CXXXXXXXXXX</td>\n",
       "      <td>0xd0</td>\n",
       "      <td>[20.407134, 57.297253]</td>\n",
       "      <td>False</td>\n",
       "      <td>True</td>\n",
       "    </tr>\n",
       "    <tr>\n",
       "      <th>reverse_light_on_attack_2_masquerade</th>\n",
       "      <td>start from park; drive (reverse lights turn on...</td>\n",
       "      <td>72.020905</td>\n",
       "      <td>XXXX0CXXXXXXXXXX</td>\n",
       "      <td>0xd0</td>\n",
       "      <td>[20.407134, 57.297253]</td>\n",
       "      <td>True</td>\n",
       "      <td>True</td>\n",
       "    </tr>\n",
       "    <tr>\n",
       "      <th>reverse_light_on_attack_3</th>\n",
       "      <td>start from park; drive (reverse lights turn on...</td>\n",
       "      <td>64.258771</td>\n",
       "      <td>XXXX0CXXXXXXXXXX</td>\n",
       "      <td>0xd0</td>\n",
       "      <td>[23.070278, 46.580686]</td>\n",
       "      <td>False</td>\n",
       "      <td>True</td>\n",
       "    </tr>\n",
       "    <tr>\n",
       "      <th>reverse_light_on_attack_3_masquerade</th>\n",
       "      <td>start from park; drive (reverse lights turn on...</td>\n",
       "      <td>64.258771</td>\n",
       "      <td>XXXX0CXXXXXXXXXX</td>\n",
       "      <td>0xd0</td>\n",
       "      <td>[23.070278, 46.580686]</td>\n",
       "      <td>True</td>\n",
       "      <td>True</td>\n",
       "    </tr>\n",
       "  </tbody>\n",
       "</table>\n",
       "</div>"
      ],
      "text/plain": [
       "                                                                                 description  \\\n",
       "accelerator_attack_drive_1                 start from park; drive; car accelerates until ...   \n",
       "accelerator_attack_drive_2                 start from park; drive; car accelerates until ...   \n",
       "accelerator_attack_reverse_1               start from park; reverse; car accelerates unti...   \n",
       "accelerator_attack_reverse_2               start from park; reverse; car accelerates unti...   \n",
       "correlated_signal_attack_1                 start from driving; accelerate; start injectin...   \n",
       "correlated_signal_attack_1_masquerade      start from driving; accelerate; start injectin...   \n",
       "correlated_signal_attack_2                 start from driving; accelerate; start injectin...   \n",
       "correlated_signal_attack_2_masquerade      start from driving; accelerate; start injectin...   \n",
       "correlated_signal_attack_3                 start from driving; accelerate; start injectin...   \n",
       "correlated_signal_attack_3_masquerade      start from driving; accelerate; start injectin...   \n",
       "fuzzing_attack_1                           start from driving; accelerate; start injectin...   \n",
       "fuzzing_attack_2                           start from park; reverse; accelerate; start in...   \n",
       "fuzzing_attack_3                           start from driving; accelerate; start injectin...   \n",
       "max_engine_coolant_temp_attack             start from drive/idle; accelerate; decelerate;...   \n",
       "max_engine_coolant_temp_attack_masquerade  start from drive/idle; drive; accelerate; dece...   \n",
       "max_speedometer_attack_1                   start from park; drive; accelerate; start inje...   \n",
       "max_speedometer_attack_1_masquerade        start from park; drive; accelerate; start inje...   \n",
       "max_speedometer_attack_2                   start from driving; accelerate; start injectin...   \n",
       "max_speedometer_attack_2_masquerade        start from driving; accelerate; start injectin...   \n",
       "max_speedometer_attack_3                   start from driving; start injecting; speedomet...   \n",
       "max_speedometer_attack_3_masquerade        start from driving; start injecting; speedomet...   \n",
       "reverse_light_off_attack_1                 start from park; reverse; reverse lights turn ...   \n",
       "reverse_light_off_attack_1_masquerade      start from park; reverse; reverse lights turn ...   \n",
       "reverse_light_off_attack_2                 start from park; reverse; reverse lights turn ...   \n",
       "reverse_light_off_attack_2_masquerade      start from park; reverse; reverse lights turn ...   \n",
       "reverse_light_off_attack_3                 start from park; reverse; reverse lights turn ...   \n",
       "reverse_light_off_attack_3_masquerade      start from park; reverse; reverse lights turn ...   \n",
       "reverse_light_on_attack_1                  start from park; drive (reverse lights turn on...   \n",
       "reverse_light_on_attack_1_masquerade       start from park; drive (reverse lights turn on...   \n",
       "reverse_light_on_attack_2                  start from park; drive (reverse lights turn on...   \n",
       "reverse_light_on_attack_2_masquerade       start from park; drive (reverse lights turn on...   \n",
       "reverse_light_on_attack_3                  start from park; drive (reverse lights turn on...   \n",
       "reverse_light_on_attack_3_masquerade       start from park; drive (reverse lights turn on...   \n",
       "\n",
       "                                           elapsed_sec injection_data_str  \\\n",
       "accelerator_attack_drive_1                   86.462910               None   \n",
       "accelerator_attack_drive_2                   72.868275               None   \n",
       "accelerator_attack_reverse_1                 86.134490               None   \n",
       "accelerator_attack_reverse_2                105.438372               None   \n",
       "correlated_signal_attack_1                   33.101852   595945450000FFFF   \n",
       "correlated_signal_attack_1_masquerade        33.101852   595945450000FFFF   \n",
       "correlated_signal_attack_2                   28.226893   595945450000FFFF   \n",
       "correlated_signal_attack_2_masquerade        28.226893   595945450000FFFF   \n",
       "correlated_signal_attack_3                   16.963905   595945450000FFFF   \n",
       "correlated_signal_attack_3_masquerade        16.963905   595945450000FFFF   \n",
       "fuzzing_attack_1                             20.338949   FFFFFFFFFFFFFFFF   \n",
       "fuzzing_attack_2                             13.365329   FFFFFFFFFFFFFFFF   \n",
       "fuzzing_attack_3                              5.482837   FFFFFFFFFFFFFFFF   \n",
       "max_engine_coolant_temp_attack               25.875548   XXXXXXXXXXFFXXXX   \n",
       "max_engine_coolant_temp_attack_masquerade    25.875548   XXXXXXXXXXFFXXXX   \n",
       "max_speedometer_attack_1                     88.021577   XXXXXXXXXXFFXXXX   \n",
       "max_speedometer_attack_1_masquerade          88.021577   XXXXXXXXXXFFXXXX   \n",
       "max_speedometer_attack_2                     59.696973   XXXXXXXXXXFFXXXX   \n",
       "max_speedometer_attack_2_masquerade          59.696973   XXXXXXXXXXFFXXXX   \n",
       "max_speedometer_attack_3                     86.766667   XXXXXXXXXXFFXXXX   \n",
       "max_speedometer_attack_3_masquerade          86.766667   XXXXXXXXXXFFXXXX   \n",
       "reverse_light_off_attack_1                   28.109869   XXXX04XXXXXXXXXX   \n",
       "reverse_light_off_attack_1_masquerade        28.109869   XXXX04XXXXXXXXXX   \n",
       "reverse_light_off_attack_2                   40.665296   XXXX04XXXXXXXXXX   \n",
       "reverse_light_off_attack_2_masquerade        40.665296   XXXX04XXXXXXXXXX   \n",
       "reverse_light_off_attack_3                   57.884882   XXXX04XXXXXXXXXX   \n",
       "reverse_light_off_attack_3_masquerade        57.884882   XXXX04XXXXXXXXXX   \n",
       "reverse_light_on_attack_1                    54.850207   XXXX0CXXXXXXXXXX   \n",
       "reverse_light_on_attack_1_masquerade         54.850207   XXXX0CXXXXXXXXXX   \n",
       "reverse_light_on_attack_2                    72.020905   XXXX0CXXXXXXXXXX   \n",
       "reverse_light_on_attack_2_masquerade         72.020905   XXXX0CXXXXXXXXXX   \n",
       "reverse_light_on_attack_3                    64.258771   XXXX0CXXXXXXXXXX   \n",
       "reverse_light_on_attack_3_masquerade         64.258771   XXXX0CXXXXXXXXXX   \n",
       "\n",
       "                                          injection_id  \\\n",
       "accelerator_attack_drive_1                        None   \n",
       "accelerator_attack_drive_2                        None   \n",
       "accelerator_attack_reverse_1                      None   \n",
       "accelerator_attack_reverse_2                      None   \n",
       "correlated_signal_attack_1                       0x6e0   \n",
       "correlated_signal_attack_1_masquerade            0x6e0   \n",
       "correlated_signal_attack_2                       0x6e0   \n",
       "correlated_signal_attack_2_masquerade            0x6e0   \n",
       "correlated_signal_attack_3                       0x6e0   \n",
       "correlated_signal_attack_3_masquerade            0x6e0   \n",
       "fuzzing_attack_1                                   XXX   \n",
       "fuzzing_attack_2                                   XXX   \n",
       "fuzzing_attack_3                                   XXX   \n",
       "max_engine_coolant_temp_attack                   0x4e7   \n",
       "max_engine_coolant_temp_attack_masquerade        0x4e7   \n",
       "max_speedometer_attack_1                          0xd0   \n",
       "max_speedometer_attack_1_masquerade               0xd0   \n",
       "max_speedometer_attack_2                          0xd0   \n",
       "max_speedometer_attack_2_masquerade               0xd0   \n",
       "max_speedometer_attack_3                          0xd0   \n",
       "max_speedometer_attack_3_masquerade               0xd0   \n",
       "reverse_light_off_attack_1                        0xd0   \n",
       "reverse_light_off_attack_1_masquerade             0xd0   \n",
       "reverse_light_off_attack_2                        0xd0   \n",
       "reverse_light_off_attack_2_masquerade             0xd0   \n",
       "reverse_light_off_attack_3                        0xd0   \n",
       "reverse_light_off_attack_3_masquerade             0xd0   \n",
       "reverse_light_on_attack_1                         0xd0   \n",
       "reverse_light_on_attack_1_masquerade              0xd0   \n",
       "reverse_light_on_attack_2                         0xd0   \n",
       "reverse_light_on_attack_2_masquerade              0xd0   \n",
       "reverse_light_on_attack_3                         0xd0   \n",
       "reverse_light_on_attack_3_masquerade              0xd0   \n",
       "\n",
       "                                               injection_interval  modified  \\\n",
       "accelerator_attack_drive_1                                   None     False   \n",
       "accelerator_attack_drive_2                                   None     False   \n",
       "accelerator_attack_reverse_1                                 None     False   \n",
       "accelerator_attack_reverse_2                                 None     False   \n",
       "correlated_signal_attack_1                  [9.191851, 30.050109]     False   \n",
       "correlated_signal_attack_1_masquerade       [9.191851, 30.050109]      True   \n",
       "correlated_signal_attack_2                  [6.830477, 28.225908]     False   \n",
       "correlated_signal_attack_2_masquerade       [6.830477, 28.225908]      True   \n",
       "correlated_signal_attack_3                   [4.318482, 16.95706]     False   \n",
       "correlated_signal_attack_3_masquerade        [4.318482, 16.95706]      True   \n",
       "fuzzing_attack_1                             [4.622975, 7.958234]     False   \n",
       "fuzzing_attack_2                           [11.367798, 13.346811]     False   \n",
       "fuzzing_attack_3                             [4.824447, 5.470669]     False   \n",
       "max_engine_coolant_temp_attack             [19.979078, 24.170183]     False   \n",
       "max_engine_coolant_temp_attack_masquerade  [19.979078, 24.170183]      True   \n",
       "max_speedometer_attack_1                   [42.009204, 66.449011]     False   \n",
       "max_speedometer_attack_1_masquerade        [42.009204, 66.449011]      True   \n",
       "max_speedometer_attack_2                   [16.009225, 47.408246]     False   \n",
       "max_speedometer_attack_2_masquerade        [16.009225, 47.408246]      True   \n",
       "max_speedometer_attack_3                    [9.516489, 70.587285]     False   \n",
       "max_speedometer_attack_3_masquerade         [9.516489, 70.587285]      True   \n",
       "reverse_light_off_attack_1                 [16.627923, 23.347311]     False   \n",
       "reverse_light_off_attack_1_masquerade      [16.627923, 23.347311]      True   \n",
       "reverse_light_off_attack_2                  [13.168608, 36.87663]     False   \n",
       "reverse_light_off_attack_2_masquerade       [13.168608, 36.87663]      True   \n",
       "reverse_light_off_attack_3                 [16.524085, 40.862015]     False   \n",
       "reverse_light_off_attack_3_masquerade      [16.524085, 40.862015]      True   \n",
       "reverse_light_on_attack_1                  [18.929177, 38.836015]     False   \n",
       "reverse_light_on_attack_1_masquerade       [18.929177, 38.836015]      True   \n",
       "reverse_light_on_attack_2                  [20.407134, 57.297253]     False   \n",
       "reverse_light_on_attack_2_masquerade       [20.407134, 57.297253]      True   \n",
       "reverse_light_on_attack_3                  [23.070278, 46.580686]     False   \n",
       "reverse_light_on_attack_3_masquerade       [23.070278, 46.580686]      True   \n",
       "\n",
       "                                           on_dyno  \n",
       "accelerator_attack_drive_1                    True  \n",
       "accelerator_attack_drive_2                    True  \n",
       "accelerator_attack_reverse_1                  True  \n",
       "accelerator_attack_reverse_2                  True  \n",
       "correlated_signal_attack_1                    True  \n",
       "correlated_signal_attack_1_masquerade         True  \n",
       "correlated_signal_attack_2                    True  \n",
       "correlated_signal_attack_2_masquerade         True  \n",
       "correlated_signal_attack_3                    True  \n",
       "correlated_signal_attack_3_masquerade         True  \n",
       "fuzzing_attack_1                              True  \n",
       "fuzzing_attack_2                              True  \n",
       "fuzzing_attack_3                              True  \n",
       "max_engine_coolant_temp_attack                True  \n",
       "max_engine_coolant_temp_attack_masquerade     True  \n",
       "max_speedometer_attack_1                      True  \n",
       "max_speedometer_attack_1_masquerade           True  \n",
       "max_speedometer_attack_2                      True  \n",
       "max_speedometer_attack_2_masquerade           True  \n",
       "max_speedometer_attack_3                      True  \n",
       "max_speedometer_attack_3_masquerade           True  \n",
       "reverse_light_off_attack_1                    True  \n",
       "reverse_light_off_attack_1_masquerade         True  \n",
       "reverse_light_off_attack_2                    True  \n",
       "reverse_light_off_attack_2_masquerade         True  \n",
       "reverse_light_off_attack_3                    True  \n",
       "reverse_light_off_attack_3_masquerade         True  \n",
       "reverse_light_on_attack_1                     True  \n",
       "reverse_light_on_attack_1_masquerade          True  \n",
       "reverse_light_on_attack_2                     True  \n",
       "reverse_light_on_attack_2_masquerade          True  \n",
       "reverse_light_on_attack_3                     True  \n",
       "reverse_light_on_attack_3_masquerade          True  "
      ]
     },
     "execution_count": 3,
     "metadata": {},
     "output_type": "execute_result"
    }
   ],
   "source": [
    "data_folder = '../../../Data/road/attacks/'\n",
    "meta_file = data_folder + '/capture_metadata.json'\n",
    "meta_data = json.load(open(meta_file))\n",
    "meta_df = pd.DataFrame.from_dict(meta_data, orient='index')\n",
    "meta_df"
   ]
  },
  {
   "cell_type": "code",
   "execution_count": 4,
   "metadata": {},
   "outputs": [],
   "source": [
    "# attack_name = 'max_speedometer_attack_1'\n",
    "def read_data(attack_name: str):\n",
    "    input_file = Path(data_folder) / f'{attack_name}.log'\n",
    "    df = pd.read_csv(input_file, sep=\" \", header=None, names=['timestamp', 'interface', 'frame'])\n",
    "    df['timestamp'] = df['timestamp'].apply(lambda x: float(x[1:-1]))\n",
    "    df['timestamp'] = df['timestamp'] - df.iloc[0]['timestamp']\n",
    "    df['id'] = df['frame'].apply(lambda x: x.split('#')[0])\n",
    "    df['data'] = df['frame'].apply(lambda x: x.split('#')[1])\n",
    "    df['label'] = False\n",
    "    df = df.drop(['frame', 'interface'], axis=1)\n",
    "    return df"
   ]
  },
  {
   "cell_type": "code",
   "execution_count": 5,
   "metadata": {},
   "outputs": [],
   "source": [
    "def read_info_attack(attack_name:str):\n",
    "    start_injected, end_injected = meta_df.loc[attack_name].injection_interval\n",
    "    print(f'The attack {attack_name} starts from {start_injected} to {end_injected}')\n",
    "    injection_id = meta_df.loc[attack_name].injection_id\n",
    "    injection_data = meta_df.loc[attack_name].injection_data_str\n",
    "    injection_id = (injection_id[2:].upper()).zfill(3)\n",
    "    return start_injected, end_injected, injection_id, injection_data"
   ]
  },
  {
   "cell_type": "code",
   "execution_count": 6,
   "metadata": {},
   "outputs": [],
   "source": [
    "def find_change_byte(data_str):\n",
    "    for idx, ch in enumerate(data_str):\n",
    "        if ch != 'X': return idx\n",
    "    return -1"
   ]
  },
  {
   "cell_type": "code",
   "execution_count": 7,
   "metadata": {},
   "outputs": [],
   "source": [
    "def label_data(df, start_injected, end_injected, injection_id, injection_data):\n",
    "    idx = find_change_byte(injection_data)\n",
    "    if idx == -1:\n",
    "        regex_pattern = injection_data\n",
    "    else:\n",
    "        regex_pattern = \"(.{\" + str(idx) + \"}\" + injection_data[idx:idx+2] + \".{\" + str(len(injection_data) - idx - 2) + \"})\"\n",
    "    \n",
    "    time_mask = ((df.timestamp >= start_injected) & (df.timestamp <= end_injected))\n",
    "    attack_mask = ((df.data.str.match(regex_pattern)) & (df.id == injection_id))\n",
    "    attack_indices = df[time_mask & attack_mask].index\n",
    "    df.loc[attack_indices, 'label'] = True\n",
    "    return df"
   ]
  },
  {
   "cell_type": "code",
   "execution_count": 8,
   "metadata": {},
   "outputs": [],
   "source": [
    "def convert_canid_bits(cid):\n",
    "    try:\n",
    "        s = bin(int(str(cid), 16))[2:].zfill(29)\n",
    "    except:\n",
    "        s = bin(int(str(int(float(cid))), 16))[2:].zfill(29)\n",
    "    bits = np.array(list(map(int, list(s))))\n",
    "    return bits"
   ]
  },
  {
   "cell_type": "code",
   "execution_count": 9,
   "metadata": {},
   "outputs": [],
   "source": [
    "def sliding_window(data, win=29, s=1):\n",
    "    itemsize  = data.itemsize\n",
    "    N = len(data)\n",
    "    sliding_data = as_strided(data, shape=((N - win) // s + 1, win), strides=(itemsize*s, itemsize))\n",
    "    return sliding_data"
   ]
  },
  {
   "cell_type": "code",
   "execution_count": 10,
   "metadata": {},
   "outputs": [],
   "source": [
    "def preprocess_data(attack_name, output_path):\n",
    "    df = read_data(attack_name)\n",
    "    start_injected, end_injected, injection_id, injection_data = read_info_attack(attack_name)\n",
    "    df = label_data(df, start_injected, end_injected, injection_id, injection_data)\n",
    "    df['can_id'] = df.id.apply(convert_canid_bits)\n",
    "    df['label'] = df['label'].astype(int)\n",
    "    window_size = 29 \n",
    "    strided = 10\n",
    "    can_id_sequences = sliding_window(df.can_id.to_numpy(), win=window_size, s=strided)\n",
    "    can_id_sequences = np.array([np.stack(x) for x in can_id_sequences]).astype('int8')\n",
    "    label_sequences = sliding_window(df.label.to_numpy(), win=window_size, s=strided)\n",
    "    labels = np.any(label_sequences, axis=1).astype('int8')\n",
    "    normal_indices = np.where(labels == 0)\n",
    "    attack_indices = np.where(~(labels == 0)) \n",
    "    output_path = Path(output_path)\n",
    "    output_path.mkdir(parents=True, exist_ok=True)\n",
    "    file_name = f'{attack_name}.npz'\n",
    "    # Save normal\n",
    "    print('Save to: ', output_path / ('Normal_' + file_name))\n",
    "    np.savez_compressed(output_path / ('Normal_' + file_name), \n",
    "                        X=can_id_sequences[normal_indices], y=labels[normal_indices])\n",
    "    # Save attack\n",
    "    print('Save to: ', output_path / (file_name))\n",
    "    np.savez_compressed(output_path / file_name, X=can_id_sequences[attack_indices], y=labels[attack_indices])\n",
    "    return np.unique(labels, return_counts=True)[1]"
   ]
  },
  {
   "cell_type": "code",
   "execution_count": 11,
   "metadata": {},
   "outputs": [],
   "source": [
    "attacks_list = meta_df.index.to_list()"
   ]
  },
  {
   "cell_type": "code",
   "execution_count": 12,
   "metadata": {},
   "outputs": [
    {
     "data": {
      "text/plain": [
       "['correlated_signal_attack_1_masquerade',\n",
       " 'correlated_signal_attack_2_masquerade',\n",
       " 'correlated_signal_attack_3_masquerade',\n",
       " 'max_engine_coolant_temp_attack_masquerade',\n",
       " 'max_speedometer_attack_1_masquerade',\n",
       " 'max_speedometer_attack_2_masquerade',\n",
       " 'max_speedometer_attack_3_masquerade',\n",
       " 'reverse_light_off_attack_1_masquerade',\n",
       " 'reverse_light_off_attack_2_masquerade',\n",
       " 'reverse_light_off_attack_3_masquerade',\n",
       " 'reverse_light_on_attack_1_masquerade',\n",
       " 'reverse_light_on_attack_2_masquerade',\n",
       " 'reverse_light_on_attack_3_masquerade']"
      ]
     },
     "execution_count": 12,
     "metadata": {},
     "output_type": "execute_result"
    }
   ],
   "source": [
    "masquerade_attacks = [x for x in attacks_list if 'masquerade' in x]\n",
    "masquerade_attacks"
   ]
  },
  {
   "cell_type": "code",
   "execution_count": 16,
   "metadata": {},
   "outputs": [],
   "source": [
    "Path(output_path).mkdir(parents=True, exist_ok=True)"
   ]
  },
  {
   "cell_type": "code",
   "execution_count": 13,
   "metadata": {},
   "outputs": [
    {
     "name": "stdout",
     "output_type": "stream",
     "text": [
      "The attack correlated_signal_attack_1_masquerade starts from 9.191851 to 30.050109\n",
      "Save to:  ../../../Data/road/Preprocessed_Data/Normal_correlated_signal_attack_1_masquerade.npz\n",
      "Save to:  ../../../Data/road/Preprocessed_Data/correlated_signal_attack_1_masquerade.npz\n",
      "The attack correlated_signal_attack_2_masquerade starts from 6.830477 to 28.225908\n",
      "Save to:  ../../../Data/road/Preprocessed_Data/Normal_correlated_signal_attack_2_masquerade.npz\n",
      "Save to:  ../../../Data/road/Preprocessed_Data/correlated_signal_attack_2_masquerade.npz\n",
      "The attack correlated_signal_attack_3_masquerade starts from 4.318482 to 16.95706\n",
      "Save to:  ../../../Data/road/Preprocessed_Data/Normal_correlated_signal_attack_3_masquerade.npz\n",
      "Save to:  ../../../Data/road/Preprocessed_Data/correlated_signal_attack_3_masquerade.npz\n",
      "The attack max_engine_coolant_temp_attack_masquerade starts from 19.979078 to 24.170183\n",
      "Save to:  ../../../Data/road/Preprocessed_Data/Normal_max_engine_coolant_temp_attack_masquerade.npz\n",
      "Save to:  ../../../Data/road/Preprocessed_Data/max_engine_coolant_temp_attack_masquerade.npz\n",
      "The attack max_speedometer_attack_1_masquerade starts from 42.009204 to 66.449011\n",
      "Save to:  ../../../Data/road/Preprocessed_Data/Normal_max_speedometer_attack_1_masquerade.npz\n",
      "Save to:  ../../../Data/road/Preprocessed_Data/max_speedometer_attack_1_masquerade.npz\n",
      "The attack max_speedometer_attack_2_masquerade starts from 16.009225 to 47.408246\n",
      "Save to:  ../../../Data/road/Preprocessed_Data/Normal_max_speedometer_attack_2_masquerade.npz\n",
      "Save to:  ../../../Data/road/Preprocessed_Data/max_speedometer_attack_2_masquerade.npz\n",
      "The attack max_speedometer_attack_3_masquerade starts from 9.516489 to 70.587285\n",
      "Save to:  ../../../Data/road/Preprocessed_Data/Normal_max_speedometer_attack_3_masquerade.npz\n",
      "Save to:  ../../../Data/road/Preprocessed_Data/max_speedometer_attack_3_masquerade.npz\n",
      "The attack reverse_light_off_attack_1_masquerade starts from 16.627923 to 23.347311\n",
      "Save to:  ../../../Data/road/Preprocessed_Data/Normal_reverse_light_off_attack_1_masquerade.npz\n",
      "Save to:  ../../../Data/road/Preprocessed_Data/reverse_light_off_attack_1_masquerade.npz\n",
      "The attack reverse_light_off_attack_2_masquerade starts from 13.168608 to 36.87663\n",
      "Save to:  ../../../Data/road/Preprocessed_Data/Normal_reverse_light_off_attack_2_masquerade.npz\n",
      "Save to:  ../../../Data/road/Preprocessed_Data/reverse_light_off_attack_2_masquerade.npz\n",
      "The attack reverse_light_off_attack_3_masquerade starts from 16.524085 to 40.862015\n",
      "Save to:  ../../../Data/road/Preprocessed_Data/Normal_reverse_light_off_attack_3_masquerade.npz\n",
      "Save to:  ../../../Data/road/Preprocessed_Data/reverse_light_off_attack_3_masquerade.npz\n",
      "The attack reverse_light_on_attack_1_masquerade starts from 18.929177 to 38.836015\n",
      "Save to:  ../../../Data/road/Preprocessed_Data/Normal_reverse_light_on_attack_1_masquerade.npz\n",
      "Save to:  ../../../Data/road/Preprocessed_Data/reverse_light_on_attack_1_masquerade.npz\n",
      "The attack reverse_light_on_attack_2_masquerade starts from 20.407134 to 57.297253\n",
      "Save to:  ../../../Data/road/Preprocessed_Data/Normal_reverse_light_on_attack_2_masquerade.npz\n",
      "Save to:  ../../../Data/road/Preprocessed_Data/reverse_light_on_attack_2_masquerade.npz\n",
      "The attack reverse_light_on_attack_3_masquerade starts from 23.070278 to 46.580686\n",
      "Save to:  ../../../Data/road/Preprocessed_Data/Normal_reverse_light_on_attack_3_masquerade.npz\n",
      "Save to:  ../../../Data/road/Preprocessed_Data/reverse_light_on_attack_3_masquerade.npz\n"
     ]
    }
   ],
   "source": [
    "output_path = '../../../Data/road/Preprocessed_Data/'\n",
    "label_cnt = np.zeros(2, dtype=int)\n",
    "for a in masquerade_attacks:\n",
    "    label_cnt += preprocess_data(attack_name=a, output_path=output_path)"
   ]
  },
  {
   "cell_type": "code",
   "execution_count": 14,
   "metadata": {},
   "outputs": [
    {
     "data": {
      "text/plain": [
       "array([87928, 69081])"
      ]
     },
     "execution_count": 14,
     "metadata": {},
     "output_type": "execute_result"
    }
   ],
   "source": [
    "label_cnt"
   ]
  },
  {
   "cell_type": "markdown",
   "metadata": {},
   "source": [
    "## Train test split"
   ]
  },
  {
   "cell_type": "code",
   "execution_count": 17,
   "metadata": {},
   "outputs": [],
   "source": [
    "import sys\n",
    "sys.path.append('../../')\n",
    "from src.preprocessing import train_test_split as tts\n"
   ]
  },
  {
   "cell_type": "code",
   "execution_count": 18,
   "metadata": {},
   "outputs": [],
   "source": [
    "indir = '../../../Data/road/Preprocessed_Data/'\n",
    "outdir = '../../../Data/road/Preprocessed_Data/'\n",
    "sid = 1 \n",
    "f = 0.3"
   ]
  },
  {
   "cell_type": "code",
   "execution_count": 19,
   "metadata": {},
   "outputs": [
    {
     "name": "stdout",
     "output_type": "stream",
     "text": [
      "Processing:  ../../../Data/road/Preprocessed_Data/correlated_signal_attack_1_masquerade.npz\n",
      "Start writing to:  ../../../Data/road/Preprocessed_Data/1/train\n"
     ]
    },
    {
     "name": "stderr",
     "output_type": "stream",
     "text": [
      "3092it [00:00, 3613.35it/s]\n"
     ]
    },
    {
     "name": "stdout",
     "output_type": "stream",
     "text": [
      "Start writing to:  ../../../Data/road/Preprocessed_Data/1/val\n"
     ]
    },
    {
     "name": "stderr",
     "output_type": "stream",
     "text": [
      "1324it [00:00, 3673.71it/s]\n"
     ]
    },
    {
     "name": "stdout",
     "output_type": "stream",
     "text": [
      "Train size: 3092, Test size: 1324\n",
      "Processing:  ../../../Data/road/Preprocessed_Data/correlated_signal_attack_2_masquerade.npz\n",
      "Start writing to:  ../../../Data/road/Preprocessed_Data/1/train\n"
     ]
    },
    {
     "name": "stderr",
     "output_type": "stream",
     "text": [
      "3175it [00:00, 4063.07it/s]\n"
     ]
    },
    {
     "name": "stdout",
     "output_type": "stream",
     "text": [
      "Start writing to:  ../../../Data/road/Preprocessed_Data/1/val\n"
     ]
    },
    {
     "name": "stderr",
     "output_type": "stream",
     "text": [
      "1360it [00:00, 3979.91it/s]\n"
     ]
    },
    {
     "name": "stdout",
     "output_type": "stream",
     "text": [
      "Train size: 3175, Test size: 1360\n",
      "Processing:  ../../../Data/road/Preprocessed_Data/correlated_signal_attack_3_masquerade.npz\n",
      "Start writing to:  ../../../Data/road/Preprocessed_Data/1/train\n"
     ]
    },
    {
     "name": "stderr",
     "output_type": "stream",
     "text": [
      "1987it [00:00, 3942.28it/s]\n"
     ]
    },
    {
     "name": "stdout",
     "output_type": "stream",
     "text": [
      "Start writing to:  ../../../Data/road/Preprocessed_Data/1/val\n"
     ]
    },
    {
     "name": "stderr",
     "output_type": "stream",
     "text": [
      "851it [00:00, 4182.25it/s]\n"
     ]
    },
    {
     "name": "stdout",
     "output_type": "stream",
     "text": [
      "Train size: 1987, Test size: 851\n",
      "Processing:  ../../../Data/road/Preprocessed_Data/max_engine_coolant_temp_attack_masquerade.npz\n",
      "Start writing to:  ../../../Data/road/Preprocessed_Data/1/train\n"
     ]
    },
    {
     "name": "stderr",
     "output_type": "stream",
     "text": [
      "86it [00:00, 4685.40it/s]\n"
     ]
    },
    {
     "name": "stdout",
     "output_type": "stream",
     "text": [
      "Start writing to:  ../../../Data/road/Preprocessed_Data/1/val\n"
     ]
    },
    {
     "name": "stderr",
     "output_type": "stream",
     "text": [
      "36it [00:00, 2050.14it/s]\n"
     ]
    },
    {
     "name": "stdout",
     "output_type": "stream",
     "text": [
      "Train size: 86, Test size: 36\n",
      "Processing:  ../../../Data/road/Preprocessed_Data/max_speedometer_attack_1_masquerade.npz\n",
      "Start writing to:  ../../../Data/road/Preprocessed_Data/1/train\n"
     ]
    },
    {
     "name": "stderr",
     "output_type": "stream",
     "text": [
      "3746it [00:01, 3671.85it/s]\n"
     ]
    },
    {
     "name": "stdout",
     "output_type": "stream",
     "text": [
      "Start writing to:  ../../../Data/road/Preprocessed_Data/1/val\n"
     ]
    },
    {
     "name": "stderr",
     "output_type": "stream",
     "text": [
      "1605it [00:00, 4290.85it/s]\n"
     ]
    },
    {
     "name": "stdout",
     "output_type": "stream",
     "text": [
      "Train size: 3746, Test size: 1605\n",
      "Processing:  ../../../Data/road/Preprocessed_Data/max_speedometer_attack_2_masquerade.npz\n",
      "Start writing to:  ../../../Data/road/Preprocessed_Data/1/train\n"
     ]
    },
    {
     "name": "stderr",
     "output_type": "stream",
     "text": [
      "4791it [00:00, 5108.99it/s]\n"
     ]
    },
    {
     "name": "stdout",
     "output_type": "stream",
     "text": [
      "Start writing to:  ../../../Data/road/Preprocessed_Data/1/val\n"
     ]
    },
    {
     "name": "stderr",
     "output_type": "stream",
     "text": [
      "2052it [00:00, 5940.87it/s]\n"
     ]
    },
    {
     "name": "stdout",
     "output_type": "stream",
     "text": [
      "Train size: 4791, Test size: 2052\n",
      "Processing:  ../../../Data/road/Preprocessed_Data/max_speedometer_attack_3_masquerade.npz\n",
      "Start writing to:  ../../../Data/road/Preprocessed_Data/1/train\n"
     ]
    },
    {
     "name": "stderr",
     "output_type": "stream",
     "text": [
      "9881it [00:02, 4465.05it/s]\n"
     ]
    },
    {
     "name": "stdout",
     "output_type": "stream",
     "text": [
      "Start writing to:  ../../../Data/road/Preprocessed_Data/1/val\n"
     ]
    },
    {
     "name": "stderr",
     "output_type": "stream",
     "text": [
      "4234it [00:01, 3676.09it/s]\n"
     ]
    },
    {
     "name": "stdout",
     "output_type": "stream",
     "text": [
      "Train size: 9881, Test size: 4234\n",
      "Processing:  ../../../Data/road/Preprocessed_Data/reverse_light_off_attack_1_masquerade.npz\n",
      "Start writing to:  ../../../Data/road/Preprocessed_Data/1/train\n"
     ]
    },
    {
     "name": "stderr",
     "output_type": "stream",
     "text": [
      "1084it [00:00, 3971.79it/s]\n"
     ]
    },
    {
     "name": "stdout",
     "output_type": "stream",
     "text": [
      "Start writing to:  ../../../Data/road/Preprocessed_Data/1/val\n"
     ]
    },
    {
     "name": "stderr",
     "output_type": "stream",
     "text": [
      "464it [00:00, 5422.97it/s]\n"
     ]
    },
    {
     "name": "stdout",
     "output_type": "stream",
     "text": [
      "Train size: 1084, Test size: 464\n",
      "Processing:  ../../../Data/road/Preprocessed_Data/reverse_light_off_attack_2_masquerade.npz\n",
      "Start writing to:  ../../../Data/road/Preprocessed_Data/1/train\n"
     ]
    },
    {
     "name": "stderr",
     "output_type": "stream",
     "text": [
      "3728it [00:00, 4307.38it/s]\n"
     ]
    },
    {
     "name": "stdout",
     "output_type": "stream",
     "text": [
      "Start writing to:  ../../../Data/road/Preprocessed_Data/1/val\n"
     ]
    },
    {
     "name": "stderr",
     "output_type": "stream",
     "text": [
      "1597it [00:00, 3679.79it/s]\n"
     ]
    },
    {
     "name": "stdout",
     "output_type": "stream",
     "text": [
      "Train size: 3728, Test size: 1597\n",
      "Processing:  ../../../Data/road/Preprocessed_Data/reverse_light_off_attack_3_masquerade.npz\n",
      "Start writing to:  ../../../Data/road/Preprocessed_Data/1/train\n"
     ]
    },
    {
     "name": "stderr",
     "output_type": "stream",
     "text": [
      "3758it [00:01, 3694.15it/s]\n"
     ]
    },
    {
     "name": "stdout",
     "output_type": "stream",
     "text": [
      "Start writing to:  ../../../Data/road/Preprocessed_Data/1/val\n"
     ]
    },
    {
     "name": "stderr",
     "output_type": "stream",
     "text": [
      "1610it [00:00, 3180.32it/s]\n"
     ]
    },
    {
     "name": "stdout",
     "output_type": "stream",
     "text": [
      "Train size: 3758, Test size: 1610\n",
      "Processing:  ../../../Data/road/Preprocessed_Data/reverse_light_on_attack_1_masquerade.npz\n",
      "Start writing to:  ../../../Data/road/Preprocessed_Data/1/train\n"
     ]
    },
    {
     "name": "stderr",
     "output_type": "stream",
     "text": [
      "3185it [00:00, 4521.75it/s]\n"
     ]
    },
    {
     "name": "stdout",
     "output_type": "stream",
     "text": [
      "Start writing to:  ../../../Data/road/Preprocessed_Data/1/val\n"
     ]
    },
    {
     "name": "stderr",
     "output_type": "stream",
     "text": [
      "1365it [00:00, 3882.44it/s]\n"
     ]
    },
    {
     "name": "stdout",
     "output_type": "stream",
     "text": [
      "Train size: 3185, Test size: 1365\n",
      "Processing:  ../../../Data/road/Preprocessed_Data/reverse_light_on_attack_2_masquerade.npz\n",
      "Start writing to:  ../../../Data/road/Preprocessed_Data/1/train\n"
     ]
    },
    {
     "name": "stderr",
     "output_type": "stream",
     "text": [
      "6020it [00:01, 4293.32it/s]\n"
     ]
    },
    {
     "name": "stdout",
     "output_type": "stream",
     "text": [
      "Start writing to:  ../../../Data/road/Preprocessed_Data/1/val\n"
     ]
    },
    {
     "name": "stderr",
     "output_type": "stream",
     "text": [
      "2580it [00:00, 4390.90it/s]\n"
     ]
    },
    {
     "name": "stdout",
     "output_type": "stream",
     "text": [
      "Train size: 6020, Test size: 2580\n",
      "Processing:  ../../../Data/road/Preprocessed_Data/reverse_light_on_attack_3_masquerade.npz\n",
      "Start writing to:  ../../../Data/road/Preprocessed_Data/1/train\n"
     ]
    },
    {
     "name": "stderr",
     "output_type": "stream",
     "text": [
      "3829it [00:00, 4877.08it/s]\n"
     ]
    },
    {
     "name": "stdout",
     "output_type": "stream",
     "text": [
      "Start writing to:  ../../../Data/road/Preprocessed_Data/1/val\n"
     ]
    },
    {
     "name": "stderr",
     "output_type": "stream",
     "text": [
      "1641it [00:00, 4876.97it/s]\n"
     ]
    },
    {
     "name": "stdout",
     "output_type": "stream",
     "text": [
      "Train size: 3829, Test size: 1641\n",
      "Processing:  ../../../Data/road/Preprocessed_Data/Normal_correlated_signal_attack_1_masquerade.npz\n",
      "Start writing to:  ../../../Data/road/Preprocessed_Data/1/train\n"
     ]
    },
    {
     "name": "stderr",
     "output_type": "stream",
     "text": [
      "2450it [00:00, 4161.50it/s]\n"
     ]
    },
    {
     "name": "stdout",
     "output_type": "stream",
     "text": [
      "Start writing to:  ../../../Data/road/Preprocessed_Data/1/val\n"
     ]
    },
    {
     "name": "stderr",
     "output_type": "stream",
     "text": [
      "1049it [00:00, 4282.03it/s]\n"
     ]
    },
    {
     "name": "stdout",
     "output_type": "stream",
     "text": [
      "Train size: 2450, Test size: 1049\n",
      "Processing:  ../../../Data/road/Preprocessed_Data/Normal_correlated_signal_attack_2_masquerade.npz\n",
      "Start writing to:  ../../../Data/road/Preprocessed_Data/1/train\n"
     ]
    },
    {
     "name": "stderr",
     "output_type": "stream",
     "text": [
      "1550it [00:00, 3970.24it/s]\n"
     ]
    },
    {
     "name": "stdout",
     "output_type": "stream",
     "text": [
      "Start writing to:  ../../../Data/road/Preprocessed_Data/1/val\n"
     ]
    },
    {
     "name": "stderr",
     "output_type": "stream",
     "text": [
      "664it [00:00, 4315.19it/s]\n"
     ]
    },
    {
     "name": "stdout",
     "output_type": "stream",
     "text": [
      "Train size: 1550, Test size: 664\n",
      "Processing:  ../../../Data/road/Preprocessed_Data/Normal_correlated_signal_attack_3_masquerade.npz\n",
      "Start writing to:  ../../../Data/road/Preprocessed_Data/1/train\n"
     ]
    },
    {
     "name": "stderr",
     "output_type": "stream",
     "text": [
      "852it [00:00, 4048.43it/s]\n"
     ]
    },
    {
     "name": "stdout",
     "output_type": "stream",
     "text": [
      "Start writing to:  ../../../Data/road/Preprocessed_Data/1/val\n"
     ]
    },
    {
     "name": "stderr",
     "output_type": "stream",
     "text": [
      "364it [00:00, 3474.02it/s]\n"
     ]
    },
    {
     "name": "stdout",
     "output_type": "stream",
     "text": [
      "Train size: 852, Test size: 364\n",
      "Processing:  ../../../Data/road/Preprocessed_Data/Normal_max_engine_coolant_temp_attack_masquerade.npz\n",
      "Start writing to:  ../../../Data/road/Preprocessed_Data/1/train\n"
     ]
    },
    {
     "name": "stderr",
     "output_type": "stream",
     "text": [
      "4245it [00:01, 4187.43it/s]\n"
     ]
    },
    {
     "name": "stdout",
     "output_type": "stream",
     "text": [
      "Start writing to:  ../../../Data/road/Preprocessed_Data/1/val\n"
     ]
    },
    {
     "name": "stderr",
     "output_type": "stream",
     "text": [
      "1819it [00:00, 4261.66it/s]\n"
     ]
    },
    {
     "name": "stdout",
     "output_type": "stream",
     "text": [
      "Train size: 4245, Test size: 1819\n",
      "Processing:  ../../../Data/road/Preprocessed_Data/Normal_max_speedometer_attack_1_masquerade.npz\n",
      "Start writing to:  ../../../Data/road/Preprocessed_Data/1/train\n"
     ]
    },
    {
     "name": "stderr",
     "output_type": "stream",
     "text": [
      "11020it [00:02, 4010.45it/s]\n"
     ]
    },
    {
     "name": "stdout",
     "output_type": "stream",
     "text": [
      "Start writing to:  ../../../Data/road/Preprocessed_Data/1/val\n"
     ]
    },
    {
     "name": "stderr",
     "output_type": "stream",
     "text": [
      "4722it [00:01, 4611.34it/s]\n"
     ]
    },
    {
     "name": "stdout",
     "output_type": "stream",
     "text": [
      "Train size: 11020, Test size: 4722\n",
      "Processing:  ../../../Data/road/Preprocessed_Data/Normal_max_speedometer_attack_2_masquerade.npz\n",
      "Start writing to:  ../../../Data/road/Preprocessed_Data/1/train\n"
     ]
    },
    {
     "name": "stderr",
     "output_type": "stream",
     "text": [
      "5201it [00:01, 4129.41it/s]\n"
     ]
    },
    {
     "name": "stdout",
     "output_type": "stream",
     "text": [
      "Start writing to:  ../../../Data/road/Preprocessed_Data/1/val\n"
     ]
    },
    {
     "name": "stderr",
     "output_type": "stream",
     "text": [
      "2229it [00:00, 4379.94it/s]\n"
     ]
    },
    {
     "name": "stdout",
     "output_type": "stream",
     "text": [
      "Train size: 5201, Test size: 2229\n",
      "Processing:  ../../../Data/road/Preprocessed_Data/Normal_max_speedometer_attack_3_masquerade.npz\n",
      "Start writing to:  ../../../Data/road/Preprocessed_Data/1/train\n"
     ]
    },
    {
     "name": "stderr",
     "output_type": "stream",
     "text": [
      "4639it [00:01, 4482.96it/s]\n"
     ]
    },
    {
     "name": "stdout",
     "output_type": "stream",
     "text": [
      "Start writing to:  ../../../Data/road/Preprocessed_Data/1/val\n"
     ]
    },
    {
     "name": "stderr",
     "output_type": "stream",
     "text": [
      "1988it [00:00, 4917.65it/s]\n"
     ]
    },
    {
     "name": "stdout",
     "output_type": "stream",
     "text": [
      "Train size: 4639, Test size: 1988\n",
      "Processing:  ../../../Data/road/Preprocessed_Data/Normal_reverse_light_off_attack_1_masquerade.npz\n",
      "Start writing to:  ../../../Data/road/Preprocessed_Data/1/train\n"
     ]
    },
    {
     "name": "stderr",
     "output_type": "stream",
     "text": [
      "3622it [00:01, 3400.39it/s]\n"
     ]
    },
    {
     "name": "stdout",
     "output_type": "stream",
     "text": [
      "Start writing to:  ../../../Data/road/Preprocessed_Data/1/val\n"
     ]
    },
    {
     "name": "stderr",
     "output_type": "stream",
     "text": [
      "1551it [00:00, 3585.99it/s]\n"
     ]
    },
    {
     "name": "stdout",
     "output_type": "stream",
     "text": [
      "Train size: 3622, Test size: 1551\n",
      "Processing:  ../../../Data/road/Preprocessed_Data/Normal_reverse_light_off_attack_2_masquerade.npz\n",
      "Start writing to:  ../../../Data/road/Preprocessed_Data/1/train\n"
     ]
    },
    {
     "name": "stderr",
     "output_type": "stream",
     "text": [
      "3079it [00:00, 3225.53it/s]\n"
     ]
    },
    {
     "name": "stdout",
     "output_type": "stream",
     "text": [
      "Start writing to:  ../../../Data/road/Preprocessed_Data/1/val\n"
     ]
    },
    {
     "name": "stderr",
     "output_type": "stream",
     "text": [
      "1319it [00:00, 4133.26it/s]\n"
     ]
    },
    {
     "name": "stdout",
     "output_type": "stream",
     "text": [
      "Train size: 3079, Test size: 1319\n",
      "Processing:  ../../../Data/road/Preprocessed_Data/Normal_reverse_light_off_attack_3_masquerade.npz\n",
      "Start writing to:  ../../../Data/road/Preprocessed_Data/1/train\n"
     ]
    },
    {
     "name": "stderr",
     "output_type": "stream",
     "text": [
      "5931it [00:01, 3458.08it/s]\n"
     ]
    },
    {
     "name": "stdout",
     "output_type": "stream",
     "text": [
      "Start writing to:  ../../../Data/road/Preprocessed_Data/1/val\n"
     ]
    },
    {
     "name": "stderr",
     "output_type": "stream",
     "text": [
      "2541it [00:00, 3822.76it/s]\n"
     ]
    },
    {
     "name": "stdout",
     "output_type": "stream",
     "text": [
      "Train size: 5931, Test size: 2541\n",
      "Processing:  ../../../Data/road/Preprocessed_Data/Normal_reverse_light_on_attack_1_masquerade.npz\n",
      "Start writing to:  ../../../Data/road/Preprocessed_Data/1/train\n"
     ]
    },
    {
     "name": "stderr",
     "output_type": "stream",
     "text": [
      "6001it [00:01, 3528.82it/s]\n"
     ]
    },
    {
     "name": "stdout",
     "output_type": "stream",
     "text": [
      "Start writing to:  ../../../Data/road/Preprocessed_Data/1/val\n"
     ]
    },
    {
     "name": "stderr",
     "output_type": "stream",
     "text": [
      "2571it [00:00, 3984.92it/s]\n"
     ]
    },
    {
     "name": "stdout",
     "output_type": "stream",
     "text": [
      "Train size: 6001, Test size: 2571\n",
      "Processing:  ../../../Data/road/Preprocessed_Data/Normal_reverse_light_on_attack_2_masquerade.npz\n",
      "Start writing to:  ../../../Data/road/Preprocessed_Data/1/train\n"
     ]
    },
    {
     "name": "stderr",
     "output_type": "stream",
     "text": [
      "6037it [00:01, 3603.91it/s]\n"
     ]
    },
    {
     "name": "stdout",
     "output_type": "stream",
     "text": [
      "Start writing to:  ../../../Data/road/Preprocessed_Data/1/val\n"
     ]
    },
    {
     "name": "stderr",
     "output_type": "stream",
     "text": [
      "2586it [00:00, 4269.49it/s]\n"
     ]
    },
    {
     "name": "stdout",
     "output_type": "stream",
     "text": [
      "Train size: 6037, Test size: 2586\n",
      "Processing:  ../../../Data/road/Preprocessed_Data/Normal_reverse_light_on_attack_3_masquerade.npz\n",
      "Start writing to:  ../../../Data/road/Preprocessed_Data/1/train\n"
     ]
    },
    {
     "name": "stderr",
     "output_type": "stream",
     "text": [
      "6929it [00:02, 3131.80it/s]\n"
     ]
    },
    {
     "name": "stdout",
     "output_type": "stream",
     "text": [
      "Start writing to:  ../../../Data/road/Preprocessed_Data/1/val\n"
     ]
    },
    {
     "name": "stderr",
     "output_type": "stream",
     "text": [
      "2969it [00:00, 3870.16it/s]"
     ]
    },
    {
     "name": "stdout",
     "output_type": "stream",
     "text": [
      "Train size: 6929, Test size: 2969\n"
     ]
    },
    {
     "name": "stderr",
     "output_type": "stream",
     "text": [
      "\n"
     ]
    }
   ],
   "source": [
    "tts.main(indir, outdir, masquerade_attacks, split_id=1, test_fraction=0.3)"
   ]
  }
 ],
 "metadata": {
  "kernelspec": {
   "display_name": "Python 3.8.13 ('torch')",
   "language": "python",
   "name": "python3"
  },
  "language_info": {
   "codemirror_mode": {
    "name": "ipython",
    "version": 3
   },
   "file_extension": ".py",
   "mimetype": "text/x-python",
   "name": "python",
   "nbconvert_exporter": "python",
   "pygments_lexer": "ipython3",
   "version": "3.8.13"
  },
  "orig_nbformat": 4,
  "vscode": {
   "interpreter": {
    "hash": "78a29cc2c05d3ee8d935820ad86792723c958d8c7f217aee9aa88e38f878a5d1"
   }
  }
 },
 "nbformat": 4,
 "nbformat_minor": 2
}
