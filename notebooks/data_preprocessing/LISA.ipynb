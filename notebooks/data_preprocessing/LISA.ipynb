{
 "cells": [
  {
   "cell_type": "code",
   "execution_count": 1,
   "metadata": {},
   "outputs": [],
   "source": [
    "%load_ext autoreload\n",
    "%autoreload 2"
   ]
  },
  {
   "cell_type": "code",
   "execution_count": 2,
   "metadata": {},
   "outputs": [
    {
     "name": "stderr",
     "output_type": "stream",
     "text": [
      "/Users/htnu/opt/miniconda3/envs/torch/lib/python3.8/site-packages/scipy/__init__.py:146: UserWarning: A NumPy version >=1.16.5 and <1.23.0 is required for this version of SciPy (detected version 1.23.1\n",
      "  warnings.warn(f\"A NumPy version >={np_minversion} and <{np_maxversion}\"\n"
     ]
    },
    {
     "name": "stdout",
     "output_type": "stream",
     "text": [
      "INFO: Pandarallel will run on 10 workers.\n",
      "INFO: Pandarallel will use standard multiprocessing data transfer (pipe) to transfer data between the main process and workers.\n"
     ]
    }
   ],
   "source": [
    "import pandas as pd\n",
    "import numpy as np\n",
    "from matplotlib import pyplot as plt\n",
    "from cmath import nan\n",
    "import pywt\n",
    "import torch\n",
    "import pywt\n",
    "from pandarallel import pandarallel\n",
    "import tqdm\n",
    "from functools import partial\n",
    "from pathlib import Path\n",
    "pandarallel.initialize(progress_bar=True)"
   ]
  },
  {
   "cell_type": "code",
   "execution_count": 3,
   "metadata": {},
   "outputs": [],
   "source": [
    "from numpy.lib.stride_tricks import as_strided\n",
    "\n",
    "def sliding_window(data, win=29, s=1):\n",
    "    itemsize  = data.itemsize\n",
    "    N = len(data)\n",
    "    sliding_data = as_strided(data, shape=((N - win) // s + 1, win), strides=(itemsize*s, itemsize))\n",
    "    return sliding_data"
   ]
  },
  {
   "cell_type": "code",
   "execution_count": 4,
   "metadata": {},
   "outputs": [],
   "source": [
    "def convert_canid_bits(cid):\n",
    "    try:\n",
    "        s = bin(int(str(cid), 16))[2:].zfill(29)\n",
    "    except:\n",
    "        s = bin(int(str(int(float(cid))), 16))[2:].zfill(29)\n",
    "    bits = np.array(list(map(int, list(s))))\n",
    "    return bits"
   ]
  },
  {
   "cell_type": "code",
   "execution_count": 5,
   "metadata": {},
   "outputs": [],
   "source": [
    "label_to_num = {\n",
    "    'Normal': 0,\n",
    "    'Fuzzing': 1, \n",
    "    'Replay': 2\n",
    "   }\n",
    "def preprocess_per_row(sample):\n",
    "   sample['bid']  = convert_canid_bits(sample['CAN_ID'])\n",
    "   sample['label'] = label_to_num[sample['Label']]\n",
    "   return sample"
   ]
  },
  {
   "cell_type": "code",
   "execution_count": 35,
   "metadata": {},
   "outputs": [
    {
     "data": {
      "text/html": [
       "<div>\n",
       "<style scoped>\n",
       "    .dataframe tbody tr th:only-of-type {\n",
       "        vertical-align: middle;\n",
       "    }\n",
       "\n",
       "    .dataframe tbody tr th {\n",
       "        vertical-align: top;\n",
       "    }\n",
       "\n",
       "    .dataframe thead th {\n",
       "        text-align: right;\n",
       "    }\n",
       "</style>\n",
       "<table border=\"1\" class=\"dataframe\">\n",
       "  <thead>\n",
       "    <tr style=\"text-align: right;\">\n",
       "      <th></th>\n",
       "      <th>Time_Ofset</th>\n",
       "      <th>Type</th>\n",
       "      <th>CAN_ID</th>\n",
       "      <th>Data_Length</th>\n",
       "      <th>Data_0</th>\n",
       "      <th>Data_1</th>\n",
       "      <th>Data_2</th>\n",
       "      <th>Data_3</th>\n",
       "      <th>Data_4</th>\n",
       "      <th>Data_5</th>\n",
       "      <th>Data_6</th>\n",
       "      <th>Data_7</th>\n",
       "      <th>Time_Gap</th>\n",
       "      <th>Scaled_CAN_ID</th>\n",
       "      <th>Label</th>\n",
       "    </tr>\n",
       "  </thead>\n",
       "  <tbody>\n",
       "    <tr>\n",
       "      <th>0</th>\n",
       "      <td>188809.0</td>\n",
       "      <td>Rx</td>\n",
       "      <td>038D</td>\n",
       "      <td>7</td>\n",
       "      <td>41</td>\n",
       "      <td>00</td>\n",
       "      <td>00</td>\n",
       "      <td>00</td>\n",
       "      <td>00</td>\n",
       "      <td>40</td>\n",
       "      <td>46</td>\n",
       "      <td>NaN</td>\n",
       "      <td>0.1</td>\n",
       "      <td>50</td>\n",
       "      <td>Replay</td>\n",
       "    </tr>\n",
       "    <tr>\n",
       "      <th>1</th>\n",
       "      <td>188809.0</td>\n",
       "      <td>Rx</td>\n",
       "      <td>0105</td>\n",
       "      <td>8</td>\n",
       "      <td>00</td>\n",
       "      <td>00</td>\n",
       "      <td>00</td>\n",
       "      <td>00</td>\n",
       "      <td>40</td>\n",
       "      <td>06</td>\n",
       "      <td>00</td>\n",
       "      <td>4C</td>\n",
       "      <td>0.0</td>\n",
       "      <td>4</td>\n",
       "      <td>Replay</td>\n",
       "    </tr>\n",
       "    <tr>\n",
       "      <th>2</th>\n",
       "      <td>188809.0</td>\n",
       "      <td>Rx</td>\n",
       "      <td>011D</td>\n",
       "      <td>8</td>\n",
       "      <td>9E</td>\n",
       "      <td>00</td>\n",
       "      <td>00</td>\n",
       "      <td>00</td>\n",
       "      <td>00</td>\n",
       "      <td>00</td>\n",
       "      <td>80</td>\n",
       "      <td>00</td>\n",
       "      <td>0.0</td>\n",
       "      <td>10</td>\n",
       "      <td>Replay</td>\n",
       "    </tr>\n",
       "    <tr>\n",
       "      <th>3</th>\n",
       "      <td>188809.0</td>\n",
       "      <td>Rx</td>\n",
       "      <td>0129</td>\n",
       "      <td>8</td>\n",
       "      <td>1B</td>\n",
       "      <td>2B</td>\n",
       "      <td>38</td>\n",
       "      <td>62</td>\n",
       "      <td>1C</td>\n",
       "      <td>20</td>\n",
       "      <td>FF</td>\n",
       "      <td>3F</td>\n",
       "      <td>0.0</td>\n",
       "      <td>11</td>\n",
       "      <td>Replay</td>\n",
       "    </tr>\n",
       "    <tr>\n",
       "      <th>4</th>\n",
       "      <td>188810.0</td>\n",
       "      <td>Rx</td>\n",
       "      <td>0145</td>\n",
       "      <td>8</td>\n",
       "      <td>5B</td>\n",
       "      <td>40</td>\n",
       "      <td>00</td>\n",
       "      <td>2F</td>\n",
       "      <td>A4</td>\n",
       "      <td>00</td>\n",
       "      <td>02</td>\n",
       "      <td>00</td>\n",
       "      <td>1.0</td>\n",
       "      <td>14</td>\n",
       "      <td>Replay</td>\n",
       "    </tr>\n",
       "    <tr>\n",
       "      <th>...</th>\n",
       "      <td>...</td>\n",
       "      <td>...</td>\n",
       "      <td>...</td>\n",
       "      <td>...</td>\n",
       "      <td>...</td>\n",
       "      <td>...</td>\n",
       "      <td>...</td>\n",
       "      <td>...</td>\n",
       "      <td>...</td>\n",
       "      <td>...</td>\n",
       "      <td>...</td>\n",
       "      <td>...</td>\n",
       "      <td>...</td>\n",
       "      <td>...</td>\n",
       "      <td>...</td>\n",
       "    </tr>\n",
       "    <tr>\n",
       "      <th>77995</th>\n",
       "      <td>372966.8</td>\n",
       "      <td>Rx</td>\n",
       "      <td>0118</td>\n",
       "      <td>8</td>\n",
       "      <td>95</td>\n",
       "      <td>0B</td>\n",
       "      <td>85</td>\n",
       "      <td>18</td>\n",
       "      <td>54</td>\n",
       "      <td>80</td>\n",
       "      <td>00</td>\n",
       "      <td>00</td>\n",
       "      <td>0.0</td>\n",
       "      <td>7</td>\n",
       "      <td>Replay</td>\n",
       "    </tr>\n",
       "    <tr>\n",
       "      <th>77996</th>\n",
       "      <td>372966.9</td>\n",
       "      <td>Rx</td>\n",
       "      <td>0206</td>\n",
       "      <td>8</td>\n",
       "      <td>00</td>\n",
       "      <td>00</td>\n",
       "      <td>00</td>\n",
       "      <td>00</td>\n",
       "      <td>00</td>\n",
       "      <td>00</td>\n",
       "      <td>60</td>\n",
       "      <td>68</td>\n",
       "      <td>0.1</td>\n",
       "      <td>23</td>\n",
       "      <td>Replay</td>\n",
       "    </tr>\n",
       "    <tr>\n",
       "      <th>77997</th>\n",
       "      <td>372966.9</td>\n",
       "      <td>Rx</td>\n",
       "      <td>0148</td>\n",
       "      <td>8</td>\n",
       "      <td>B7</td>\n",
       "      <td>06</td>\n",
       "      <td>00</td>\n",
       "      <td>40</td>\n",
       "      <td>12</td>\n",
       "      <td>00</td>\n",
       "      <td>16</td>\n",
       "      <td>00</td>\n",
       "      <td>0.0</td>\n",
       "      <td>15</td>\n",
       "      <td>Replay</td>\n",
       "    </tr>\n",
       "    <tr>\n",
       "      <th>77998</th>\n",
       "      <td>372968.0</td>\n",
       "      <td>Rx</td>\n",
       "      <td>0257</td>\n",
       "      <td>8</td>\n",
       "      <td>51</td>\n",
       "      <td>F6</td>\n",
       "      <td>3D</td>\n",
       "      <td>27</td>\n",
       "      <td>9E</td>\n",
       "      <td>00</td>\n",
       "      <td>00</td>\n",
       "      <td>00</td>\n",
       "      <td>1.1</td>\n",
       "      <td>29</td>\n",
       "      <td>Replay</td>\n",
       "    </tr>\n",
       "    <tr>\n",
       "      <th>77999</th>\n",
       "      <td>372968.2</td>\n",
       "      <td>Rx</td>\n",
       "      <td>0119</td>\n",
       "      <td>8</td>\n",
       "      <td>70</td>\n",
       "      <td>06</td>\n",
       "      <td>00</td>\n",
       "      <td>00</td>\n",
       "      <td>00</td>\n",
       "      <td>00</td>\n",
       "      <td>00</td>\n",
       "      <td>50</td>\n",
       "      <td>0.2</td>\n",
       "      <td>8</td>\n",
       "      <td>Replay</td>\n",
       "    </tr>\n",
       "  </tbody>\n",
       "</table>\n",
       "<p>78000 rows × 15 columns</p>\n",
       "</div>"
      ],
      "text/plain": [
       "       Time_Ofset Type CAN_ID  Data_Length Data_0 Data_1 Data_2 Data_3 Data_4  \\\n",
       "0        188809.0   Rx   038D            7     41     00     00     00     00   \n",
       "1        188809.0   Rx   0105            8     00     00     00     00     40   \n",
       "2        188809.0   Rx   011D            8     9E     00     00     00     00   \n",
       "3        188809.0   Rx   0129            8     1B     2B     38     62     1C   \n",
       "4        188810.0   Rx   0145            8     5B     40     00     2F     A4   \n",
       "...           ...  ...    ...          ...    ...    ...    ...    ...    ...   \n",
       "77995    372966.8   Rx   0118            8     95     0B     85     18     54   \n",
       "77996    372966.9   Rx   0206            8     00     00     00     00     00   \n",
       "77997    372966.9   Rx   0148            8     B7     06     00     40     12   \n",
       "77998    372968.0   Rx   0257            8     51     F6     3D     27     9E   \n",
       "77999    372968.2   Rx   0119            8     70     06     00     00     00   \n",
       "\n",
       "      Data_5 Data_6 Data_7  Time_Gap  Scaled_CAN_ID   Label  \n",
       "0         40     46    NaN       0.1             50  Replay  \n",
       "1         06     00     4C       0.0              4  Replay  \n",
       "2         00     80     00       0.0             10  Replay  \n",
       "3         20     FF     3F       0.0             11  Replay  \n",
       "4         00     02     00       1.0             14  Replay  \n",
       "...      ...    ...    ...       ...            ...     ...  \n",
       "77995     80     00     00       0.0              7  Replay  \n",
       "77996     00     60     68       0.1             23  Replay  \n",
       "77997     00     16     00       0.0             15  Replay  \n",
       "77998     00     00     00       1.1             29  Replay  \n",
       "77999     00     00     50       0.2              8  Replay  \n",
       "\n",
       "[78000 rows x 15 columns]"
      ]
     },
     "execution_count": 35,
     "metadata": {},
     "output_type": "execute_result"
    }
   ],
   "source": [
    "data_path = Path('../../../Data/LISA/Federated_Data/Labeled data/')\n",
    "car_model = 'Tesla'\n",
    "label = 'Replay'\n",
    "file_id = 1\n",
    "file_name = f'{car_model}_{label}_{file_id}.csv'\n",
    "df = pd.read_csv(data_path / file_name)\n",
    "df.CAN_ID = df.CAN_ID.astype(str)\n",
    "# df = df.drop(['Time_Gap'], axis=1)\n",
    "df"
   ]
  },
  {
   "cell_type": "code",
   "execution_count": 36,
   "metadata": {},
   "outputs": [
    {
     "data": {
      "application/vnd.jupyter.widget-view+json": {
       "model_id": "5ddfc0e04b4c4baca9f155601676b85f",
       "version_major": 2,
       "version_minor": 0
      },
      "text/plain": [
       "VBox(children=(HBox(children=(IntProgress(value=0, description='0.00%', max=7800), Label(value='0 / 7800'))), …"
      ]
     },
     "metadata": {},
     "output_type": "display_data"
    }
   ],
   "source": [
    "df = df.parallel_apply(preprocess_per_row, axis=1)"
   ]
  },
  {
   "cell_type": "code",
   "execution_count": 37,
   "metadata": {},
   "outputs": [],
   "source": [
    "window_size = 29 \n",
    "strided = 13\n",
    "can_id_sequences = sliding_window(df.bid.to_numpy(), win=window_size, s=strided)\n",
    "can_id_sequences = np.array([np.stack(x) for x in can_id_sequences]).astype('int8')\n",
    "label_sequences = sliding_window(df.label.to_numpy(), win=window_size, s=strided)\n",
    "labels = np.any(label_sequences, axis=1).astype('int8')\n",
    "labels[np.where(labels > 0)] = label_sequences[0][0]"
   ]
  },
  {
   "cell_type": "code",
   "execution_count": 38,
   "metadata": {},
   "outputs": [],
   "source": [
    "output_path = Path('../../../Data/LISA/Federated_Data/Preprocessed_Data/')\n",
    "output_path.mkdir(parents=True, exist_ok=True)\n",
    "np.savez_compressed(output_path / file_name[:-4], X=can_id_sequences, y=labels)"
   ]
  },
  {
   "cell_type": "markdown",
   "metadata": {},
   "source": [
    "## Load data"
   ]
  },
  {
   "cell_type": "code",
   "execution_count": 22,
   "metadata": {},
   "outputs": [],
   "source": [
    "data_path = Path('../../../Data/LISA/Federated_Data/Preprocessed_Data/')\n",
    "car_model = 'Kia'\n",
    "label = 'Fuzz'\n",
    "file_id = 1\n",
    "file_name = f'{car_model}_{label}_{file_id}.npz'"
   ]
  },
  {
   "cell_type": "code",
   "execution_count": 23,
   "metadata": {},
   "outputs": [],
   "source": [
    "data = np.load(data_path / file_name)"
   ]
  },
  {
   "cell_type": "code",
   "execution_count": 24,
   "metadata": {},
   "outputs": [
    {
     "name": "stdout",
     "output_type": "stream",
     "text": [
      "(35868, 29, 29)\n",
      "(35868,)\n"
     ]
    }
   ],
   "source": [
    "X, y = data['X'], data['y']\n",
    "print(X.shape)\n",
    "print(y.shape)"
   ]
  }
 ],
 "metadata": {
  "kernelspec": {
   "display_name": "Python 3.8.13 ('torch')",
   "language": "python",
   "name": "python3"
  },
  "language_info": {
   "codemirror_mode": {
    "name": "ipython",
    "version": 3
   },
   "file_extension": ".py",
   "mimetype": "text/x-python",
   "name": "python",
   "nbconvert_exporter": "python",
   "pygments_lexer": "ipython3",
   "version": "3.8.13"
  },
  "orig_nbformat": 4,
  "vscode": {
   "interpreter": {
    "hash": "78a29cc2c05d3ee8d935820ad86792723c958d8c7f217aee9aa88e38f878a5d1"
   }
  }
 },
 "nbformat": 4,
 "nbformat_minor": 2
}
