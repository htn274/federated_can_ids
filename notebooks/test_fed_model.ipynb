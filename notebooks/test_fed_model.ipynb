{
 "cells": [
  {
   "cell_type": "code",
   "execution_count": 1,
   "metadata": {},
   "outputs": [],
   "source": [
    "%load_ext autoreload\n",
    "%autoreload 2\n",
    "import os\n",
    "import sys\n",
    "sys.path.append(os.path.abspath('../src/'))\n",
    "sys.path.append(os.path.abspath('../'))"
   ]
  },
  {
   "cell_type": "code",
   "execution_count": 2,
   "metadata": {},
   "outputs": [],
   "source": [
    "from src.central_ids import IDS\n",
    "from src.utils import print_results\n",
    "from src.dataset import CANDataset\n",
    "from torch.utils.data import DataLoader\n",
    "import pytorch_lightning as pl\n",
    "import numpy as np\n",
    "from pathlib import Path\n",
    "from sklearn.metrics import f1_score\n",
    "import pickle\n",
    "import torch\n",
    "from flwr.common.parameter import parameters_to_ndarrays\n",
    "from collections import OrderedDict\n",
    "from utils import set_parameters"
   ]
  },
  {
   "cell_type": "code",
   "execution_count": 3,
   "metadata": {},
   "outputs": [],
   "source": [
    "rnd = 50\n",
    "ckpt_file = f'../save/FedAvg/train20000_50rnds_15epochs_lr0.0005/ckpt-rnd{rnd}.npz'\n",
    "tensors = np.load(ckpt_file, allow_pickle=True)['arr_0'][()]\n",
    "model = IDS(C = 2)"
   ]
  },
  {
   "cell_type": "code",
   "execution_count": 4,
   "metadata": {},
   "outputs": [
    {
     "data": {
      "text/plain": [
       "<All keys matched successfully>"
      ]
     },
     "execution_count": 4,
     "metadata": {},
     "output_type": "execute_result"
    }
   ],
   "source": [
    "weights = parameters_to_ndarrays(tensors)\n",
    "params_dict = zip(model.state_dict().keys(), weights)\n",
    "state_dict = OrderedDict({k: torch.tensor(v) for k, v in params_dict})\n",
    "model.load_state_dict(state_dict, strict=True)"
   ]
  },
  {
   "cell_type": "code",
   "execution_count": 6,
   "metadata": {},
   "outputs": [],
   "source": [
    "def evaluate(model):\n",
    "    transform = None\n",
    "    data_dir = '../../Data/LISA/{}/test_10000'\n",
    "    car_models = ['Kia', 'Tesla', 'BMW']\n",
    "    res = []\n",
    "    total_labels = np.array([])\n",
    "    total_preds = np.array([])\n",
    "    for car_model in car_models:\n",
    "        print(f'Run test on {car_model} dataset')\n",
    "        test_dataset = CANDataset(root_dir=Path(data_dir.format(car_model)), is_binary=True, transform=transform)\n",
    "        test_loader = DataLoader(test_dataset, batch_size=512, shuffle=False, \n",
    "                                pin_memory=True, sampler=None)\n",
    "        trainer = pl.Trainer(enable_checkpointing=False, logger=False, gpus=[0])\n",
    "        results = trainer.predict(model, dataloaders=test_loader)\n",
    "        labels = np.concatenate([x['labels'] for x in results])\n",
    "        preds = np.concatenate([x['preds'] for x in results])\n",
    "        f1 = f1_score(labels, preds)\n",
    "        res.append(f1)\n",
    "        total_labels = np.concatenate([total_labels, labels])\n",
    "        total_preds = np.concatenate([total_preds, preds])\n",
    "    car_models.append('Global')\n",
    "    f1_global = f1_score(total_labels, total_preds)\n",
    "    res.append(f1_global)\n",
    "    return (car_models, res)"
   ]
  },
  {
   "cell_type": "code",
   "execution_count": 7,
   "metadata": {},
   "outputs": [
    {
     "name": "stdout",
     "output_type": "stream",
     "text": [
      "Run test on Kia dataset\n"
     ]
    },
    {
     "name": "stderr",
     "output_type": "stream",
     "text": [
      "/home/dhkim1/miniconda3/envs/torch/lib/python3.7/site-packages/pytorch_lightning/trainer/connectors/accelerator_connector.py:448: LightningDeprecationWarning: Setting `Trainer(gpus=[0])` is deprecated in v1.7 and will be removed in v2.0. Please use `Trainer(accelerator='gpu', devices=[0])` instead.\n",
      "  f\"Setting `Trainer(gpus={gpus!r})` is deprecated in v1.7 and will be removed\"\n",
      "GPU available: True (cuda), used: True\n",
      "TPU available: False, using: 0 TPU cores\n",
      "IPU available: False, using: 0 IPUs\n",
      "HPU available: False, using: 0 HPUs\n",
      "LOCAL_RANK: 0 - CUDA_VISIBLE_DEVICES: [0,1,2,3]\n",
      "/home/dhkim1/miniconda3/envs/torch/lib/python3.7/site-packages/pytorch_lightning/trainer/connectors/data_connector.py:241: PossibleUserWarning: The dataloader, predict_dataloader 0, does not have many workers which may be a bottleneck. Consider increasing the value of the `num_workers` argument` (try 32 which is the number of cpus on this machine) in the `DataLoader` init to improve performance.\n",
      "  category=PossibleUserWarning,\n"
     ]
    },
    {
     "data": {
      "application/vnd.jupyter.widget-view+json": {
       "model_id": "1c516f2826314d8690121a60c6dbc423",
       "version_major": 2,
       "version_minor": 0
      },
      "text/plain": [
       "Predicting: 0it [00:00, ?it/s]"
      ]
     },
     "metadata": {},
     "output_type": "display_data"
    },
    {
     "name": "stdout",
     "output_type": "stream",
     "text": [
      "Run test on Tesla dataset\n"
     ]
    },
    {
     "name": "stderr",
     "output_type": "stream",
     "text": [
      "/home/dhkim1/miniconda3/envs/torch/lib/python3.7/site-packages/pytorch_lightning/trainer/connectors/accelerator_connector.py:448: LightningDeprecationWarning: Setting `Trainer(gpus=[0])` is deprecated in v1.7 and will be removed in v2.0. Please use `Trainer(accelerator='gpu', devices=[0])` instead.\n",
      "  f\"Setting `Trainer(gpus={gpus!r})` is deprecated in v1.7 and will be removed\"\n",
      "GPU available: True (cuda), used: True\n",
      "TPU available: False, using: 0 TPU cores\n",
      "IPU available: False, using: 0 IPUs\n",
      "HPU available: False, using: 0 HPUs\n",
      "LOCAL_RANK: 0 - CUDA_VISIBLE_DEVICES: [0,1,2,3]\n",
      "/home/dhkim1/miniconda3/envs/torch/lib/python3.7/site-packages/pytorch_lightning/trainer/connectors/data_connector.py:241: PossibleUserWarning: The dataloader, predict_dataloader 0, does not have many workers which may be a bottleneck. Consider increasing the value of the `num_workers` argument` (try 32 which is the number of cpus on this machine) in the `DataLoader` init to improve performance.\n",
      "  category=PossibleUserWarning,\n"
     ]
    },
    {
     "data": {
      "application/vnd.jupyter.widget-view+json": {
       "model_id": "4ee6f46d66704b72937600a1b6ed062b",
       "version_major": 2,
       "version_minor": 0
      },
      "text/plain": [
       "Predicting: 0it [00:00, ?it/s]"
      ]
     },
     "metadata": {},
     "output_type": "display_data"
    },
    {
     "name": "stdout",
     "output_type": "stream",
     "text": [
      "Run test on BMW dataset\n"
     ]
    },
    {
     "name": "stderr",
     "output_type": "stream",
     "text": [
      "/home/dhkim1/miniconda3/envs/torch/lib/python3.7/site-packages/pytorch_lightning/trainer/connectors/accelerator_connector.py:448: LightningDeprecationWarning: Setting `Trainer(gpus=[0])` is deprecated in v1.7 and will be removed in v2.0. Please use `Trainer(accelerator='gpu', devices=[0])` instead.\n",
      "  f\"Setting `Trainer(gpus={gpus!r})` is deprecated in v1.7 and will be removed\"\n",
      "GPU available: True (cuda), used: True\n",
      "TPU available: False, using: 0 TPU cores\n",
      "IPU available: False, using: 0 IPUs\n",
      "HPU available: False, using: 0 HPUs\n",
      "LOCAL_RANK: 0 - CUDA_VISIBLE_DEVICES: [0,1,2,3]\n",
      "/home/dhkim1/miniconda3/envs/torch/lib/python3.7/site-packages/pytorch_lightning/trainer/connectors/data_connector.py:241: PossibleUserWarning: The dataloader, predict_dataloader 0, does not have many workers which may be a bottleneck. Consider increasing the value of the `num_workers` argument` (try 32 which is the number of cpus on this machine) in the `DataLoader` init to improve performance.\n",
      "  category=PossibleUserWarning,\n"
     ]
    },
    {
     "data": {
      "application/vnd.jupyter.widget-view+json": {
       "model_id": "d2050d0c2a86429a8a8851946976171b",
       "version_major": 2,
       "version_minor": 0
      },
      "text/plain": [
       "Predicting: 0it [00:00, ?it/s]"
      ]
     },
     "metadata": {},
     "output_type": "display_data"
    }
   ],
   "source": [
    "car_models, res = evaluate(model)"
   ]
  },
  {
   "cell_type": "code",
   "execution_count": 9,
   "metadata": {},
   "outputs": [
    {
     "name": "stdout",
     "output_type": "stream",
     "text": [
      "Kia 0.7319\n",
      "Tesla 0.8117\n",
      "BMW 0.553\n",
      "Global 0.7041\n",
      "Avg  0.7001653596681899\n"
     ]
    }
   ],
   "source": [
    "for name, value in zip(car_models, res):\n",
    "    print(name, round(value, 4))\n",
    "\n",
    "print('Avg ', np.mean(res))"
   ]
  },
  {
   "cell_type": "code",
   "execution_count": 5,
   "metadata": {},
   "outputs": [
    {
     "data": {
      "text/plain": [
       "['../save/FedAvg/train10000_50rnds_15epochs_lr0.0005/hist.pkl',\n",
       " '../save/FedAvg/train10000_50rnds_30epochs_lr0.0005/hist.pkl',\n",
       " '../save/FedAvg/train20000_50rnds_15epochs_lr0.0005/hist.pkl',\n",
       " '../save/FedAvg/train30000_50rnds_15epochs_lr0.0005/hist.pkl',\n",
       " '../save/FedAvg/train40000_50rnds_15epochs_lr0.0005/hist.pkl',\n",
       " '../save/FedAvg/train50000_50rnds_15epochs_lr0.0005/hist.pkl']"
      ]
     },
     "execution_count": 5,
     "metadata": {},
     "output_type": "execute_result"
    }
   ],
   "source": [
    "import glob\n",
    "files = sorted(glob.glob('../save/FedAvg/train10*/hist.pkl'))\n",
    "files"
   ]
  },
  {
   "cell_type": "code",
   "execution_count": 9,
   "metadata": {},
   "outputs": [],
   "source": [
    "def get_f1(file_name):\n",
    "    f = open(file_name, 'rb')\n",
    "    hist = pickle.load(f)\n",
    "    f.close()\n",
    "    f1_avg = hist.metrics_centralized['f1_avg']\n",
    "    f1_avg = [x[1] for x in f1_avg]\n",
    "    return f1_avg"
   ]
  },
  {
   "cell_type": "code",
   "execution_count": 10,
   "metadata": {},
   "outputs": [
    {
     "data": {
      "text/plain": [
       "['train10000_50rnds_15epochs_lr0.0005',\n",
       " 'train20000_50rnds_15epochs_lr0.0005',\n",
       " 'train30000_50rnds_15epochs_lr0.0005',\n",
       " 'train40000_50rnds_15epochs_lr0.0005',\n",
       " 'train50000_50rnds_15epochs_lr0.0005']"
      ]
     },
     "execution_count": 10,
     "metadata": {},
     "output_type": "execute_result"
    }
   ],
   "source": [
    "models_accs = list(map(get_f1, files))\n",
    "models_names = [x.split('/')[-2] for x in files]\n",
    "models_names"
   ]
  },
  {
   "cell_type": "code",
   "execution_count": 11,
   "metadata": {},
   "outputs": [
    {
     "data": {
      "text/plain": [
       "<matplotlib.legend.Legend at 0x7f8f54bf4350>"
      ]
     },
     "execution_count": 11,
     "metadata": {},
     "output_type": "execute_result"
    },
    {
     "data": {
      "image/png": "[encoded data removed]",
      "text/plain": [
       "<Figure size 720x360 with 1 Axes>"
      ]
     },
     "metadata": {
      "needs_background": "light"
     },
     "output_type": "display_data"
    }
   ],
   "source": [
    "import matplotlib.pyplot as plt\n",
    "R = 50\n",
    "plt.figure(figsize=(10, 5))\n",
    "for name, acc in zip(models_names, models_accs):\n",
    "    plt.plot(range(R + 1), acc, label = name)\n",
    "plt.legend()"
   ]
  },
  {
   "cell_type": "code",
   "execution_count": 13,
   "metadata": {},
   "outputs": [],
   "source": [
    "def acc_info(acc):\n",
    "    print('Accuracy at the last round: ', acc[-1])\n",
    "    print('Best Accuracy: ', max(acc), ' at round ', np.argmax(acc) + 1)"
   ]
  },
  {
   "cell_type": "code",
   "execution_count": 14,
   "metadata": {},
   "outputs": [
    {
     "name": "stdout",
     "output_type": "stream",
     "text": [
      "train10000_50rnds_15epochs_lr0.0005\n",
      "Accuracy at the last round:  0.6887792210074161\n",
      "Best Accuracy:  0.6887792210074161  at round  51\n",
      "train20000_50rnds_15epochs_lr0.0005\n",
      "Accuracy at the last round:  0.7424701976444413\n",
      "Best Accuracy:  0.7427998722506207  at round  48\n",
      "train30000_50rnds_15epochs_lr0.0005\n",
      "Accuracy at the last round:  0.7002541302962407\n",
      "Best Accuracy:  0.7375332313939676  at round  46\n",
      "train40000_50rnds_15epochs_lr0.0005\n",
      "Accuracy at the last round:  0.7133596549534156\n",
      "Best Accuracy:  0.7152841437588826  at round  50\n",
      "train50000_50rnds_15epochs_lr0.0005\n",
      "Accuracy at the last round:  0.695767572210809\n",
      "Best Accuracy:  0.6992454583470155  at round  49\n"
     ]
    }
   ],
   "source": [
    "for name, acc in zip(models_names, models_accs):\n",
    "    print(name)\n",
    "    acc_info(acc)"
   ]
  },
  {
   "cell_type": "code",
   "execution_count": null,
   "metadata": {},
   "outputs": [],
   "source": []
  }
 ],
 "metadata": {
  "kernelspec": {
   "display_name": "Python 3.7.10 ('torch')",
   "language": "python",
   "name": "python3"
  },
  "language_info": {
   "codemirror_mode": {
    "name": "ipython",
    "version": 3
   },
   "file_extension": ".py",
   "mimetype": "text/x-python",
   "name": "python",
   "nbconvert_exporter": "python",
   "pygments_lexer": "ipython3",
   "version": "3.7.10"
  },
  "orig_nbformat": 4,
  "vscode": {
   "interpreter": {
    "hash": "ec8a7a313ab33d199c8aa698bb86bd912b8385ce4922a6e184e3f5edd5eb95f6"
   }
  }
 },
 "nbformat": 4,
 "nbformat_minor": 2
}
