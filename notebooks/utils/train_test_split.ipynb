{
 "cells": [
  {
   "cell_type": "code",
   "execution_count": 1,
   "metadata": {},
   "outputs": [],
   "source": [
    "%load_ext autoreload\n",
    "%autoreload 2\n",
    "import os\n",
    "import sys\n",
    "sys.path.append(os.path.abspath('../../src/'))\n",
    "sys.path.append(os.path.abspath('../../'))"
   ]
  },
  {
   "cell_type": "code",
   "execution_count": 2,
   "metadata": {},
   "outputs": [],
   "source": [
    "import numpy as np\n",
    "from preprocessing.train_test_split import train_test_split\n",
    "import itertools\n",
    "from pathlib import Path\n",
    "\n",
    "from src.preprocessing.train_test_split import Writer\n",
    "from src.preprocessing.train_test_split import write_to_file"
   ]
  },
  {
   "cell_type": "code",
   "execution_count": 3,
   "metadata": {},
   "outputs": [],
   "source": [
    "data_dir = '../../../Data/LISA/'\n",
    "car_models = ['Kia', 'BMW', 'Tesla']\n",
    "classes = ['Normal', 'Fuzzy', 'Replay']"
   ]
  },
  {
   "cell_type": "markdown",
   "metadata": {},
   "source": [
    "## Generate train/val/test file"
   ]
  },
  {
   "cell_type": "code",
   "execution_count": 4,
   "metadata": {},
   "outputs": [
    {
     "name": "stdout",
     "output_type": "stream",
     "text": [
      "Car: Kia - Class Normal size = 80658\n",
      "train size:  56462\n",
      "val size:  8065\n",
      "test size:  16131\n",
      "Car: Kia - Class Fuzzy size = 35868\n",
      "train size:  25109\n",
      "val size:  3586\n",
      "test size:  7173\n",
      "Car: Kia - Class Replay size = 1282\n",
      "train size:  898\n",
      "val size:  128\n",
      "test size:  256\n",
      "Car: BMW - Class Normal size = 43194\n",
      "train size:  30237\n",
      "val size:  4319\n",
      "test size:  8638\n",
      "Car: BMW - Class Fuzzy size = 80938\n",
      "train size:  56658\n",
      "val size:  8093\n",
      "test size:  16187\n",
      "Car: BMW - Class Replay size = 38493\n",
      "train size:  26946\n",
      "val size:  3849\n",
      "test size:  7698\n",
      "Car: Tesla - Class Normal size = 157987\n",
      "train size:  110592\n",
      "val size:  15798\n",
      "test size:  31597\n",
      "Car: Tesla - Class Fuzzy size = 34960\n",
      "train size:  24472\n",
      "val size:  3496\n",
      "test size:  6992\n",
      "Car: Tesla - Class Replay size = 5998\n",
      "train size:  4200\n",
      "val size:  599\n",
      "test size:  1199\n"
     ]
    }
   ],
   "source": [
    "for cm, c in itertools.product(car_models, classes):\n",
    "    file_name = Path(data_dir) / f'{cm}/{c}.npz'\n",
    "    data = np.load(file_name)\n",
    "    X, y = data['X'], data['y']\n",
    "    print(f'Car: {cm} - Class {c} size = {len(X)}')\n",
    "    indices_lists = train_test_split(len(X), test_fraction=0.2, val_fraction=0.1) \n",
    "    prefix = ['train', 'val', 'test']\n",
    "    for prefix, indices in zip(prefix, indices_lists):\n",
    "        print(f'{prefix} size: ', len(indices))\n",
    "        X_subset = X[indices] \n",
    "        y_subset = y[indices]\n",
    "        save_file = Path(data_dir) / f'{cm}/{prefix}_{c}.npz'\n",
    "        # np.savez_compressed(save_file, X=X_subset, y=y_subset)"
   ]
  },
  {
   "cell_type": "markdown",
   "metadata": {},
   "source": [
    "## Generate train/val/test folder"
   ]
  },
  {
   "cell_type": "code",
   "execution_count": 5,
   "metadata": {},
   "outputs": [],
   "source": [
    "def generate_indices(N, portion=None, size=None):\n",
    "    if portion is None: S = size\n",
    "    else: S = int(N * portion)\n",
    "    S = min(S, N)\n",
    "    replace = False #(S > N)\n",
    "    indices = np.random.choice(N, S, replace=replace)\n",
    "    return indices\n",
    "\n",
    "def extract_and_write_sample(filename, out_dir, writer, \n",
    "                                portion=None, size=None):\n",
    "    if ('Normal' in str(filename)) and not (size is None): \n",
    "            size = size * 2\n",
    "    data = np.load(filename)\n",
    "    X, y = data['X'], data['y']\n",
    "    indices = generate_indices(len(X), portion=portion, size=size)\n",
    "    X, y = X[indices], y[indices]\n",
    "    print('Size: ', len(X))\n",
    "    return write_to_file(writer, X, y)"
   ]
  },
  {
   "cell_type": "code",
   "execution_count": 6,
   "metadata": {},
   "outputs": [],
   "source": [
    "def create_folder_from_npz_file(in_path, out_path, dir_type, portion=None, size=None):\n",
    "    writer = Writer(outdir=out_path, type_name=dir_type + (\"\" if size is None else str(size)))\n",
    "    attack_list = ['Normal', 'Fuzzy', 'Replay']\n",
    "    for a in attack_list:\n",
    "        filename = f'{dir_type}_{a}.npz'\n",
    "        filename = in_path / filename\n",
    "        extract_and_write_sample(filename, out_path, writer, portion=portion, size=size)"
   ]
  },
  {
   "cell_type": "code",
   "execution_count": 8,
   "metadata": {},
   "outputs": [
    {
     "name": "stdout",
     "output_type": "stream",
     "text": [
      "CAR: Kia ===============\n",
      "TEST\n",
      "Size:  16131\n",
      "Start writing to:  ../../../Data/LISA/Kia/test\n"
     ]
    },
    {
     "name": "stderr",
     "output_type": "stream",
     "text": [
      "16131it [00:11, 1433.01it/s]\n"
     ]
    },
    {
     "name": "stdout",
     "output_type": "stream",
     "text": [
      "Size:  7173\n",
      "Start writing to:  ../../../Data/LISA/Kia/test\n"
     ]
    },
    {
     "name": "stderr",
     "output_type": "stream",
     "text": [
      "7173it [00:04, 1473.56it/s]\n"
     ]
    },
    {
     "name": "stdout",
     "output_type": "stream",
     "text": [
      "Size:  256\n",
      "Start writing to:  ../../../Data/LISA/Kia/test\n"
     ]
    },
    {
     "name": "stderr",
     "output_type": "stream",
     "text": [
      "256it [00:00, 1429.27it/s]\n"
     ]
    },
    {
     "name": "stdout",
     "output_type": "stream",
     "text": [
      "VAL\n",
      "Size:  8065\n",
      "Start writing to:  ../../../Data/LISA/Kia/val\n"
     ]
    },
    {
     "name": "stderr",
     "output_type": "stream",
     "text": [
      "8065it [00:05, 1430.80it/s]\n"
     ]
    },
    {
     "name": "stdout",
     "output_type": "stream",
     "text": [
      "Size:  3586\n",
      "Start writing to:  ../../../Data/LISA/Kia/val\n"
     ]
    },
    {
     "name": "stderr",
     "output_type": "stream",
     "text": [
      "3586it [00:02, 1488.57it/s]\n"
     ]
    },
    {
     "name": "stdout",
     "output_type": "stream",
     "text": [
      "Size:  128\n",
      "Start writing to:  ../../../Data/LISA/Kia/val\n"
     ]
    },
    {
     "name": "stderr",
     "output_type": "stream",
     "text": [
      "128it [00:00, 1454.17it/s]\n"
     ]
    },
    {
     "name": "stdout",
     "output_type": "stream",
     "text": [
      "TRAIN\n",
      "Size:  2000\n",
      "Start writing to:  ../../../Data/LISA/Kia/1000\n"
     ]
    },
    {
     "name": "stderr",
     "output_type": "stream",
     "text": [
      "2000it [00:01, 1677.16it/s]\n"
     ]
    },
    {
     "name": "stdout",
     "output_type": "stream",
     "text": [
      "Size:  1000\n",
      "Start writing to:  ../../../Data/LISA/Kia/1000\n"
     ]
    },
    {
     "name": "stderr",
     "output_type": "stream",
     "text": [
      "1000it [00:00, 1702.15it/s]\n"
     ]
    },
    {
     "name": "stdout",
     "output_type": "stream",
     "text": [
      "Size:  1000\n",
      "Start writing to:  ../../../Data/LISA/Kia/1000\n"
     ]
    },
    {
     "name": "stderr",
     "output_type": "stream",
     "text": [
      "1000it [00:00, 1667.87it/s]\n"
     ]
    },
    {
     "name": "stdout",
     "output_type": "stream",
     "text": [
      "CAR: BMW ===============\n",
      "TEST\n",
      "Size:  8638\n",
      "Start writing to:  ../../../Data/LISA/BMW/test\n"
     ]
    },
    {
     "name": "stderr",
     "output_type": "stream",
     "text": [
      "8638it [00:05, 1630.62it/s]\n"
     ]
    },
    {
     "name": "stdout",
     "output_type": "stream",
     "text": [
      "Size:  16187\n",
      "Start writing to:  ../../../Data/LISA/BMW/test\n"
     ]
    },
    {
     "name": "stderr",
     "output_type": "stream",
     "text": [
      "16187it [00:09, 1652.00it/s]\n"
     ]
    },
    {
     "name": "stdout",
     "output_type": "stream",
     "text": [
      "Size:  7698\n",
      "Start writing to:  ../../../Data/LISA/BMW/test\n"
     ]
    },
    {
     "name": "stderr",
     "output_type": "stream",
     "text": [
      "7698it [00:04, 1638.43it/s]\n"
     ]
    },
    {
     "name": "stdout",
     "output_type": "stream",
     "text": [
      "VAL\n",
      "Size:  4319\n",
      "Start writing to:  ../../../Data/LISA/BMW/val\n"
     ]
    },
    {
     "name": "stderr",
     "output_type": "stream",
     "text": [
      "4319it [00:02, 1608.42it/s]\n"
     ]
    },
    {
     "name": "stdout",
     "output_type": "stream",
     "text": [
      "Size:  8093\n",
      "Start writing to:  ../../../Data/LISA/BMW/val\n"
     ]
    },
    {
     "name": "stderr",
     "output_type": "stream",
     "text": [
      "8093it [00:04, 1655.79it/s]\n"
     ]
    },
    {
     "name": "stdout",
     "output_type": "stream",
     "text": [
      "Size:  3849\n",
      "Start writing to:  ../../../Data/LISA/BMW/val\n"
     ]
    },
    {
     "name": "stderr",
     "output_type": "stream",
     "text": [
      "3849it [00:02, 1585.46it/s]\n"
     ]
    },
    {
     "name": "stdout",
     "output_type": "stream",
     "text": [
      "TRAIN\n",
      "Size:  2000\n",
      "Start writing to:  ../../../Data/LISA/BMW/1000\n"
     ]
    },
    {
     "name": "stderr",
     "output_type": "stream",
     "text": [
      "2000it [00:01, 1626.03it/s]\n"
     ]
    },
    {
     "name": "stdout",
     "output_type": "stream",
     "text": [
      "Size:  1000\n",
      "Start writing to:  ../../../Data/LISA/BMW/1000\n"
     ]
    },
    {
     "name": "stderr",
     "output_type": "stream",
     "text": [
      "1000it [00:00, 1687.50it/s]\n"
     ]
    },
    {
     "name": "stdout",
     "output_type": "stream",
     "text": [
      "Size:  1000\n",
      "Start writing to:  ../../../Data/LISA/BMW/1000\n"
     ]
    },
    {
     "name": "stderr",
     "output_type": "stream",
     "text": [
      "1000it [00:00, 1654.77it/s]\n"
     ]
    },
    {
     "name": "stdout",
     "output_type": "stream",
     "text": [
      "CAR: Tesla ===============\n",
      "TEST\n",
      "Size:  31597\n",
      "Start writing to:  ../../../Data/LISA/Tesla/test\n"
     ]
    },
    {
     "name": "stderr",
     "output_type": "stream",
     "text": [
      "31597it [00:19, 1601.52it/s]\n"
     ]
    },
    {
     "name": "stdout",
     "output_type": "stream",
     "text": [
      "Size:  6992\n",
      "Start writing to:  ../../../Data/LISA/Tesla/test\n"
     ]
    },
    {
     "name": "stderr",
     "output_type": "stream",
     "text": [
      "6992it [00:04, 1648.22it/s]\n"
     ]
    },
    {
     "name": "stdout",
     "output_type": "stream",
     "text": [
      "Size:  1199\n",
      "Start writing to:  ../../../Data/LISA/Tesla/test\n"
     ]
    },
    {
     "name": "stderr",
     "output_type": "stream",
     "text": [
      "1199it [00:00, 1570.43it/s]\n"
     ]
    },
    {
     "name": "stdout",
     "output_type": "stream",
     "text": [
      "VAL\n",
      "Size:  15798\n",
      "Start writing to:  ../../../Data/LISA/Tesla/val\n"
     ]
    },
    {
     "name": "stderr",
     "output_type": "stream",
     "text": [
      "6270it [00:03, 1597.19it/s]\n"
     ]
    },
    {
     "name": "stdout",
     "output_type": "stream",
     "text": [
      "Size:  3496\n",
      "Start writing to:  ../../../Data/LISA/Tesla/val\n"
     ]
    },
    {
     "name": "stderr",
     "output_type": "stream",
     "text": [
      "3496it [00:02, 1644.08it/s]\n"
     ]
    },
    {
     "name": "stdout",
     "output_type": "stream",
     "text": [
      "Size:  599\n",
      "Start writing to:  ../../../Data/LISA/Tesla/val\n"
     ]
    },
    {
     "name": "stderr",
     "output_type": "stream",
     "text": [
      "599it [00:00, 1634.02it/s]\n"
     ]
    },
    {
     "name": "stdout",
     "output_type": "stream",
     "text": [
      "TRAIN\n",
      "Size:  2000\n",
      "Start writing to:  ../../../Data/LISA/Tesla/1000\n"
     ]
    },
    {
     "name": "stderr",
     "output_type": "stream",
     "text": [
      "2000it [00:01, 1616.96it/s]\n"
     ]
    },
    {
     "name": "stdout",
     "output_type": "stream",
     "text": [
      "Size:  1000\n",
      "Start writing to:  ../../../Data/LISA/Tesla/1000\n"
     ]
    },
    {
     "name": "stderr",
     "output_type": "stream",
     "text": [
      "1000it [00:00, 1675.99it/s]\n"
     ]
    },
    {
     "name": "stdout",
     "output_type": "stream",
     "text": [
      "Size:  1000\n",
      "Start writing to:  ../../../Data/LISA/Tesla/1000\n"
     ]
    },
    {
     "name": "stderr",
     "output_type": "stream",
     "text": [
      "1000it [00:00, 1612.08it/s]\n"
     ]
    }
   ],
   "source": [
    "out_dir = '../../../Data/LISA/{}/'\n",
    "in_dir = '../../../Data/LISA/{}/'\n",
    "for car_model in car_models:\n",
    "    print(f'CAR: {car_model} ===============')\n",
    "    in_path = Path(in_dir.format(car_model))\n",
    "    out_path = Path(out_dir.format(car_model))\n",
    "    print('TEST')\n",
    "    create_folder_from_npz_file(in_path=in_path, out_path=out_path, dir_type='test', portion=1.0)\n",
    "    print('VAL')\n",
    "    create_folder_from_npz_file(in_path=in_path, out_path=out_path, dir_type='val', portion=1.0)\n",
    "    print('TRAIN')\n",
    "    create_folder_from_npz_file(in_path=in_path, out_path=out_path, dir_type='train', portion=1.0)"
   ]
  }
 ],
 "metadata": {
  "kernelspec": {
   "display_name": "Python 3.7.10 ('torch')",
   "language": "python",
   "name": "python3"
  },
  "language_info": {
   "codemirror_mode": {
    "name": "ipython",
    "version": 3
   },
   "file_extension": ".py",
   "mimetype": "text/x-python",
   "name": "python",
   "nbconvert_exporter": "python",
   "pygments_lexer": "ipython3",
   "version": "3.7.10"
  },
  "orig_nbformat": 4,
  "vscode": {
   "interpreter": {
    "hash": "ec8a7a313ab33d199c8aa698bb86bd912b8385ce4922a6e184e3f5edd5eb95f6"
   }
  }
 },
 "nbformat": 4,
 "nbformat_minor": 2
}
