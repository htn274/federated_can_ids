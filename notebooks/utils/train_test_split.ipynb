{
 "cells": [
  {
   "cell_type": "code",
   "execution_count": 1,
   "metadata": {},
   "outputs": [],
   "source": [
    "%load_ext autoreload\n",
    "%autoreload 2\n",
    "import os\n",
    "import sys\n",
    "sys.path.append(os.path.abspath('../../src/'))\n",
    "sys.path.append(os.path.abspath('../../'))"
   ]
  },
  {
   "cell_type": "code",
   "execution_count": 2,
   "metadata": {},
   "outputs": [],
   "source": [
    "import numpy as np\n",
    "from preprocessing.train_test_split import train_test_split, resampling_data\n",
    "import itertools\n",
    "from pathlib import Path\n",
    "import random\n",
    "\n",
    "from src.preprocessing.train_test_split import Writer\n",
    "from src.preprocessing.train_test_split import write_to_file"
   ]
  },
  {
   "cell_type": "markdown",
   "metadata": {},
   "source": [
    "## Generate train/val/test file"
   ]
  },
  {
   "cell_type": "code",
   "execution_count": 3,
   "metadata": {},
   "outputs": [],
   "source": [
    "data_dir = '../../../Data/LISA/'\n",
    "car_models = ['Kia', 'BMW', 'Tesla']\n",
    "classes = ['Normal', 'Fuzzy', 'Replay']"
   ]
  },
  {
   "cell_type": "code",
   "execution_count": 4,
   "metadata": {},
   "outputs": [
    {
     "name": "stdout",
     "output_type": "stream",
     "text": [
      "Car: Kia - Class Normal size = 80658\n",
      "train size:  56462\n",
      "val size:  8065\n",
      "test size:  16131\n",
      "Car: Kia - Class Fuzzy size = 35868\n",
      "train size:  25109\n",
      "val size:  3586\n",
      "test size:  7173\n",
      "Car: Kia - Class Replay size = 1282\n",
      "train size:  898\n",
      "val size:  128\n",
      "test size:  256\n",
      "Car: BMW - Class Normal size = 43194\n",
      "train size:  30237\n",
      "val size:  4319\n",
      "test size:  8638\n",
      "Car: BMW - Class Fuzzy size = 80938\n",
      "train size:  56658\n",
      "val size:  8093\n",
      "test size:  16187\n",
      "Car: BMW - Class Replay size = 38493\n",
      "train size:  26946\n",
      "val size:  3849\n",
      "test size:  7698\n",
      "Car: Tesla - Class Normal size = 157987\n",
      "train size:  110592\n",
      "val size:  15798\n",
      "test size:  31597\n",
      "Car: Tesla - Class Fuzzy size = 34960\n",
      "train size:  24472\n",
      "val size:  3496\n",
      "test size:  6992\n",
      "Car: Tesla - Class Replay size = 5998\n",
      "train size:  4200\n",
      "val size:  599\n",
      "test size:  1199\n"
     ]
    }
   ],
   "source": [
    "for cm, c in itertools.product(car_models, classes):\n",
    "    file_name = Path(data_dir) / f'{cm}/{c}.npz'\n",
    "    data = np.load(file_name)\n",
    "    X, y = data['X'], data['y']\n",
    "    print(f'Car: {cm} - Class {c} size = {len(X)}')\n",
    "    indices_lists = train_test_split(len(X), test_fraction=0.2, val_fraction=0.1) \n",
    "    prefix = ['train', 'val', 'test']\n",
    "    for prefix, indices in zip(prefix, indices_lists):\n",
    "        print(f'{prefix} size: ', len(indices))\n",
    "        X_subset = X[indices] \n",
    "        y_subset = y[indices]\n",
    "        save_file = Path(data_dir) / f'{cm}/{prefix}_{c}.npz'\n",
    "        # np.savez_compressed(save_file, X=X_subset, y=y_subset)"
   ]
  },
  {
   "cell_type": "markdown",
   "metadata": {},
   "source": [
    "# Generate train/test/folder"
   ]
  },
  {
   "cell_type": "code",
   "execution_count": 3,
   "metadata": {},
   "outputs": [],
   "source": [
    "def create_folder_from_npz_file(car_model, in_dir, out_dir, dir_type, size, attack_normal_ratio):\n",
    "    # Resample data\n",
    "    class_dist, class_size, Xs, ys = resampling_data(car_model=car_model, in_dir=in_dir, \n",
    "                                    file_type=dir_type, N_samples=size, attack_normal_ratio=attack_normal_ratio)\n",
    "    X = np.concatenate(Xs)\n",
    "    y = np.concatenate(ys)\n",
    "    print('Resample data info')\n",
    "    print('Distribution: ', class_dist)\n",
    "    print('Size: ', [len(Xi) for Xi in Xs])\n",
    "    print('Total size: ', len(X))\n",
    "    out_dir = out_dir + '/{}/'  # to adapt with car_model\n",
    "    out_path = Path(out_dir.format(car_model))\n",
    "    writer = Writer(outdir=out_path, type_name=f'{dir_type}_{size}')\n",
    "    # return write_to_file(writer, X, y)\n"
   ]
  },
  {
   "cell_type": "code",
   "execution_count": 4,
   "metadata": {},
   "outputs": [
    {
     "name": "stdout",
     "output_type": "stream",
     "text": [
      "Model:  Kia\n",
      "Resample data info\n",
      "Distribution:  [0.76230784 0.11884608 0.11884608]\n",
      "Size:  [38115  5942  5942]\n",
      "Total size:  44955\n",
      "Model:  BMW\n",
      "Resample data info\n",
      "Distribution:  [0.77154821 0.1142259  0.1142259 ]\n",
      "Size:  [38577  5711  5711]\n",
      "Total size:  41659\n",
      "Model:  Tesla\n",
      "Resample data info\n",
      "Distribution:  [0.75256223 0.12371889 0.12371889]\n",
      "Size:  [37628  6185  6185]\n",
      "Total size:  48013\n"
     ]
    }
   ],
   "source": [
    "in_dir = '../../../Data/LISA/'\n",
    "out_dir = '../../../Data/LISA/'\n",
    "car_model = ['Kia', 'BMW', 'Tesla']\n",
    "for cm in car_model:\n",
    "    print('Model: ', cm)\n",
    "    # Generate the attack/normal ratio\n",
    "    attack_normal_ratio = random.uniform(0.2, 0.3)\n",
    "    create_folder_from_npz_file(car_model=cm, in_dir=in_dir, out_dir=out_dir, \n",
    "                                dir_type='train', size=50000, attack_normal_ratio=attack_normal_ratio)\n",
    "    # create_folder_from_npz_file(car_model=cm, in_dir=in_dir, out_dir=out_dir, \n",
    "                                # dir_type='test', size=10000, attack_normal_ratio=attack_normal_ratio)\n",
    "    # create_folder_from_npz_file(car_model=cm, in_dir=in_dir, out_dir=out_dir, \n",
    "    #                             dir_type='val', size=10000, attack_normal_ratio=attack_normal_ratio)"
   ]
  },
  {
   "cell_type": "code",
   "execution_count": null,
   "metadata": {},
   "outputs": [],
   "source": []
  }
 ],
 "metadata": {
  "kernelspec": {
   "display_name": "Python 3.7.10 ('torch')",
   "language": "python",
   "name": "python3"
  },
  "language_info": {
   "codemirror_mode": {
    "name": "ipython",
    "version": 3
   },
   "file_extension": ".py",
   "mimetype": "text/x-python",
   "name": "python",
   "nbconvert_exporter": "python",
   "pygments_lexer": "ipython3",
   "version": "3.7.10"
  },
  "orig_nbformat": 4,
  "vscode": {
   "interpreter": {
    "hash": "ec8a7a313ab33d199c8aa698bb86bd912b8385ce4922a6e184e3f5edd5eb95f6"
   }
  }
 },
 "nbformat": 4,
 "nbformat_minor": 2
}
