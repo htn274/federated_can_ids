{
 "cells": [
  {
   "cell_type": "code",
   "execution_count": 17,
   "metadata": {},
   "outputs": [],
   "source": [
    "import torch\n",
    "import pandas as pd\n",
    "import numpy as np\n",
    "from pathlib import Path\n",
    "from sklearn.model_selection import StratifiedShuffleSplit"
   ]
  },
  {
   "cell_type": "code",
   "execution_count": 18,
   "metadata": {},
   "outputs": [],
   "source": [
    "class Writer:\n",
    "    def __init__(self, outdir, start_idx=0):\n",
    "        self.outdir = Path(outdir)\n",
    "        self.outdir.mkdir(parents=True, exist_ok=True)\n",
    "        self.idx = start_idx\n",
    "    def write(self, X, y):\n",
    "        save_file = self.outdir / f'{self.idx}.pt'\n",
    "        # torch.save((X, y), save_file)\n",
    "        np.savez_compressed(save_file, X=X, y=y)\n",
    "        self.idx += 1"
   ]
  },
  {
   "cell_type": "code",
   "execution_count": 19,
   "metadata": {},
   "outputs": [],
   "source": [
    "def write_to_file(writer, X, y):\n",
    "    try:\n",
    "        for xi, yi in zip(X, y):\n",
    "            writer.write(xi, yi)\n",
    "    except: return False\n",
    "    return True"
   ]
  },
  {
   "cell_type": "code",
   "execution_count": 20,
   "metadata": {},
   "outputs": [],
   "source": [
    "data_dir = '../Data/CHD_w29_s14_ID_Data/wavelet/'\n",
    "data = np.load(Path(data_dir) / 'DoS.npz')\n",
    "X, y = data['X'], data['y']"
   ]
  },
  {
   "cell_type": "code",
   "execution_count": 27,
   "metadata": {},
   "outputs": [
    {
     "data": {
      "text/plain": [
       "(array([ 9280, 30432,  8873, ...,  5671, 28750, 32409]),\n",
       " array([45281, 29792,  9544, ..., 34303, 21388, 45809]))"
      ]
     },
     "execution_count": 27,
     "metadata": {},
     "output_type": "execute_result"
    }
   ],
   "source": [
    "y = y.squeeze()\n",
    "test_fraction = 0.3\n",
    "test_size = int(y.shape[0] * test_fraction)\n",
    "indices = np.random.permutation(y.shape[0])\n",
    "test_idx, train_idx = indices[:test_size], indices[test_size:]"
   ]
  },
  {
   "cell_type": "code",
   "execution_count": 30,
   "metadata": {},
   "outputs": [
    {
     "data": {
      "text/plain": [
       "(array([60, 80, 90, 68, 51, 27, 18, 56, 63, 74,  1, 61, 42, 41,  4, 15, 17,\n",
       "        40, 38,  5, 91, 59,  0, 34, 28, 50, 11, 35, 23, 52, 10, 31, 66, 57,\n",
       "        79, 85, 32, 84, 14, 89, 19, 29, 49, 97, 98, 69, 20, 94, 72, 77, 25,\n",
       "        37, 81, 46, 39, 65, 58, 12, 88, 70, 87, 36, 21, 83,  9, 96, 67, 64,\n",
       "        47, 44]),\n",
       " array([26, 86,  2, 55, 75, 93, 16, 73, 54, 95, 53, 92, 78, 13,  7, 30, 22,\n",
       "        24, 33,  8, 43, 62,  3, 71, 45, 48,  6, 99, 82, 76]))"
      ]
     },
     "execution_count": 30,
     "metadata": {},
     "output_type": "execute_result"
    }
   ],
   "source": [
    "data = np.load('../Data/CHD_w29_s14_ID_Data/1/idex.npz')\n",
    "data['train'], data['test']"
   ]
  },
  {
   "cell_type": "code",
   "execution_count": 5,
   "metadata": {},
   "outputs": [
    {
     "data": {
      "text/plain": [
       "5"
      ]
     },
     "execution_count": 5,
     "metadata": {},
     "output_type": "execute_result"
    }
   ],
   "source": [
    "num_splits = 5\n",
    "test_size = 0.3\n",
    "outdir = '../Data/CHD_w29_s14_ID_Data/'\n",
    "train_writers = [Writer(outdir=outdir + f'train/{i + 1}/') for i in range(num_splits)]\n",
    "val_writers = [Writer(outdir=outdir + f'val/{i + 1}/') for i in range(num_splits)]\n",
    "sss = StratifiedShuffleSplit(n_splits=num_splits, test_size=test_size)\n",
    "sss.get_n_splits(X, y)"
   ]
  },
  {
   "cell_type": "code",
   "execution_count": 6,
   "metadata": {},
   "outputs": [
    {
     "name": "stdout",
     "output_type": "stream",
     "text": [
      "0 231084 99036\n",
      "1 231084 99036\n",
      "2 231084 99036\n",
      "3 231084 99036\n",
      "4 231084 99036\n",
      "Sucess: 10 - Fails: 0\n"
     ]
    }
   ],
   "source": [
    "from asyncio import as_completed\n",
    "from concurrent import futures\n",
    "\n",
    "\n",
    "with futures.ProcessPoolExecutor(num_splits) as exec:\n",
    "    todo = []\n",
    "    for i, (train_idx, test_idx) in enumerate(sss.split(X, y)):\n",
    "        print(i, len(train_idx), len(test_idx))\n",
    "        X_train = X[train_idx]\n",
    "        y_train = y[train_idx]\n",
    "        X_val = X[test_idx]\n",
    "        y_val = y[test_idx]\n",
    "        future = exec.submit(write_to_file, train_writers[i], X_train, y_train)\n",
    "        todo.append(future)\n",
    "        future = exec.submit(write_to_file, val_writers[i], X_val, y_val)\n",
    "        todo.append(future)\n",
    "\n",
    "    results = []\n",
    "    sucess = 0\n",
    "    fail = 0\n",
    "    for future in futures.as_completed(todo):\n",
    "        res = future.result()\n",
    "        if res:\n",
    "            sucess += 1\n",
    "        else:\n",
    "            fail += 1\n",
    "print(f'Sucess: {sucess} - Fails: {fail}')"
   ]
  },
  {
   "cell_type": "code",
   "execution_count": null,
   "metadata": {},
   "outputs": [],
   "source": [
    "torch.load('./')"
   ]
  }
 ],
 "metadata": {
  "kernelspec": {
   "display_name": "Python 3.10.5 64-bit",
   "language": "python",
   "name": "python3"
  },
  "language_info": {
   "codemirror_mode": {
    "name": "ipython",
    "version": 3
   },
   "file_extension": ".py",
   "mimetype": "text/x-python",
   "name": "python",
   "nbconvert_exporter": "python",
   "pygments_lexer": "ipython3",
   "version": "3.10.5"
  },
  "orig_nbformat": 4,
  "vscode": {
   "interpreter": {
    "hash": "610c699f0cd8c4f129acd9140687fff6866bed0eb8e82f249fc8848b827b628c"
   }
  }
 },
 "nbformat": 4,
 "nbformat_minor": 2
}
