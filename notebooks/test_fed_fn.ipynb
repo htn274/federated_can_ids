{
 "cells": [
  {
   "cell_type": "code",
   "execution_count": 1,
   "metadata": {},
   "outputs": [],
   "source": [
    "%load_ext autoreload\n",
    "%autoreload 2\n",
    "import os\n",
    "import sys\n",
    "sys.path.append(os.path.abspath('../src/'))\n",
    "sys.path.append(os.path.abspath('../'))"
   ]
  },
  {
   "cell_type": "code",
   "execution_count": 2,
   "metadata": {},
   "outputs": [],
   "source": [
    "from src.central_ids import IDS\n",
    "from src.utils import print_results\n",
    "from src.dataset import CANDataset\n",
    "from torch.utils.data import DataLoader\n",
    "import pytorch_lightning as pl\n",
    "import numpy as np\n",
    "from pathlib import Path\n",
    "from sklearn.metrics import f1_score, confusion_matrix\n",
    "import pickle\n",
    "import torch\n",
    "from flwr.common.parameter import parameters_to_ndarrays\n",
    "from collections import OrderedDict\n",
    "from utils import set_parameters, test_model\n",
    "\n",
    "from pytorch_lightning import loggers\n",
    "from pytorch_lightning.callbacks import ModelCheckpoint"
   ]
  },
  {
   "cell_type": "code",
   "execution_count": 3,
   "metadata": {},
   "outputs": [],
   "source": [
    "car_model = 'BMW'\n",
    "rnd = 50\n",
    "args = {\n",
    "    'ckpt_file' : f'../save/FedAvg/All/train50000_50rnds_15epochs_lr0.0005/ckpt-rnd{rnd}.npz',\n",
    "    'train_dir': f'../../Data/LISA/{car_model}/train_20000/',\n",
    "    'val_dir': f'../../Data/LISA/{car_model}/val_10000/',\n",
    "    'save_dir': f'../save/FedAvg_FN/{car_model}/',\n",
    "    'C': 2,\n",
    "    'batch_size': 64,\n",
    "    'epochs': 10,\n",
    "    'val_freq': 1,\n",
    "    'lr': 0.001,\n",
    "    'weight_decay': 1e-4\n",
    "}"
   ]
  },
  {
   "cell_type": "markdown",
   "metadata": {},
   "source": [
    "# Run model from checkpoint"
   ]
  },
  {
   "cell_type": "markdown",
   "metadata": {},
   "source": [
    "## Kia"
   ]
  },
  {
   "cell_type": "code",
   "execution_count": 4,
   "metadata": {},
   "outputs": [
    {
     "name": "stdout",
     "output_type": "stream",
     "text": [
      "Test set: \n"
     ]
    },
    {
     "name": "stderr",
     "output_type": "stream",
     "text": [
      "GPU available: True (cuda), used: False\n",
      "TPU available: False, using: 0 TPU cores\n",
      "IPU available: False, using: 0 IPUs\n",
      "HPU available: False, using: 0 HPUs\n",
      "/home/dhkim1/miniconda3/envs/torch/lib/python3.7/site-packages/pytorch_lightning/trainer/trainer.py:1767: PossibleUserWarning: GPU available but not used. Set `accelerator` and `devices` using `Trainer(accelerator='gpu', devices=4)`.\n",
      "  category=PossibleUserWarning,\n",
      "/home/dhkim1/miniconda3/envs/torch/lib/python3.7/site-packages/pytorch_lightning/trainer/connectors/data_connector.py:241: PossibleUserWarning: The dataloader, predict_dataloader 0, does not have many workers which may be a bottleneck. Consider increasing the value of the `num_workers` argument` (try 32 which is the number of cpus on this machine) in the `DataLoader` init to improve performance.\n",
      "  category=PossibleUserWarning,\n"
     ]
    },
    {
     "data": {
      "application/vnd.jupyter.widget-view+json": {
       "model_id": "49f57e0c81784ee58a7be20b4579c6c0",
       "version_major": 2,
       "version_minor": 0
      },
      "text/plain": [
       "Predicting: 0it [00:00, ?it/s]"
      ]
     },
     "metadata": {},
     "output_type": "display_data"
    },
    {
     "name": "stdout",
     "output_type": "stream",
     "text": [
      "(0.0024023396699394193, 0.0002781254345709915, 0.9991539763113367, 0.9911875786823332, 0.9951548346323994)\n"
     ]
    }
   ],
   "source": [
    "train_file = 'train_50000'\n",
    "ckpt_files = '../save/FedAvg_FN/Kia/lightning_logs/version_5/checkpoints/epoch=09-val_loss=0.00-val_f1=0.9980.ckpt'\n",
    "fedavg_model = IDS.load_from_checkpoint(ckpt_files, **args)\n",
    "data_dir = f'../../Data/LISA/Kia/'\n",
    "# print('Training set: ')\n",
    "# print(test_model(Path(data_dir) / train_file, fedavg_model))\n",
    "print('Test set: ')\n",
    "print(test_model(Path(data_dir) / 'test_10000', fedavg_model))"
   ]
  },
  {
   "cell_type": "markdown",
   "metadata": {},
   "source": [
    "## Tesla"
   ]
  },
  {
   "cell_type": "code",
   "execution_count": 5,
   "metadata": {},
   "outputs": [
    {
     "name": "stdout",
     "output_type": "stream",
     "text": [
      "Test set: \n"
     ]
    },
    {
     "name": "stderr",
     "output_type": "stream",
     "text": [
      "GPU available: True (cuda), used: False\n",
      "TPU available: False, using: 0 TPU cores\n",
      "IPU available: False, using: 0 IPUs\n",
      "HPU available: False, using: 0 HPUs\n",
      "/home/dhkim1/miniconda3/envs/torch/lib/python3.7/site-packages/pytorch_lightning/trainer/trainer.py:1767: PossibleUserWarning: GPU available but not used. Set `accelerator` and `devices` using `Trainer(accelerator='gpu', devices=4)`.\n",
      "  category=PossibleUserWarning,\n",
      "/home/dhkim1/miniconda3/envs/torch/lib/python3.7/site-packages/pytorch_lightning/trainer/connectors/data_connector.py:241: PossibleUserWarning: The dataloader, predict_dataloader 0, does not have many workers which may be a bottleneck. Consider increasing the value of the `num_workers` argument` (try 32 which is the number of cpus on this machine) in the `DataLoader` init to improve performance.\n",
      "  category=PossibleUserWarning,\n"
     ]
    },
    {
     "data": {
      "application/vnd.jupyter.widget-view+json": {
       "model_id": "d1db2c72ca3e4dd884d41b8741d20508",
       "version_major": 2,
       "version_minor": 0
      },
      "text/plain": [
       "Predicting: 0it [00:00, ?it/s]"
      ]
     },
     "metadata": {},
     "output_type": "display_data"
    },
    {
     "name": "stdout",
     "output_type": "stream",
     "text": [
      "(0.0035007001400280055, 0.0024465619366469227, 0.9914988814317673, 0.992831541218638, 0.9921647638235954)\n"
     ]
    }
   ],
   "source": [
    "ckpt_files = '../save/FedAvg_FN/Tesla/lightning_logs/version_5/checkpoints/epoch=09-val_loss=0.02-val_f1=0.9921.ckpt'\n",
    "fedavg_model = IDS.load_from_checkpoint(ckpt_files, **args)\n",
    "data_dir = f'../../Data/LISA/Tesla/'\n",
    "# print('Training set: ')\n",
    "# print(test_model(Path(data_dir) / train_file, fedavg_model))\n",
    "print('Test set: ')\n",
    "print(test_model(Path(data_dir) / 'test_10000', fedavg_model))"
   ]
  },
  {
   "cell_type": "markdown",
   "metadata": {},
   "source": [
    "## BMW"
   ]
  },
  {
   "cell_type": "code",
   "execution_count": 6,
   "metadata": {},
   "outputs": [
    {
     "name": "stdout",
     "output_type": "stream",
     "text": [
      "Test set: \n"
     ]
    },
    {
     "name": "stderr",
     "output_type": "stream",
     "text": [
      "GPU available: True (cuda), used: False\n",
      "TPU available: False, using: 0 TPU cores\n",
      "IPU available: False, using: 0 IPUs\n",
      "HPU available: False, using: 0 HPUs\n",
      "/home/dhkim1/miniconda3/envs/torch/lib/python3.7/site-packages/pytorch_lightning/trainer/trainer.py:1767: PossibleUserWarning: GPU available but not used. Set `accelerator` and `devices` using `Trainer(accelerator='gpu', devices=4)`.\n",
      "  category=PossibleUserWarning,\n",
      "/home/dhkim1/miniconda3/envs/torch/lib/python3.7/site-packages/pytorch_lightning/trainer/connectors/data_connector.py:241: PossibleUserWarning: The dataloader, predict_dataloader 0, does not have many workers which may be a bottleneck. Consider increasing the value of the `num_workers` argument` (try 32 which is the number of cpus on this machine) in the `DataLoader` init to improve performance.\n",
      "  category=PossibleUserWarning,\n"
     ]
    },
    {
     "data": {
      "application/vnd.jupyter.widget-view+json": {
       "model_id": "48baa781dc994e98a7da2e2c6c9dfbf9",
       "version_major": 2,
       "version_minor": 0
      },
      "text/plain": [
       "Predicting: 0it [00:00, ?it/s]"
      ]
     },
     "metadata": {},
     "output_type": "display_data"
    },
    {
     "name": "stdout",
     "output_type": "stream",
     "text": [
      "(0.0089008900890089, 0.0027325959661678597, 0.9907366563740626, 0.9706136560069144, 0.9805719275267408)\n"
     ]
    }
   ],
   "source": [
    "ckpt_files = '../save/FedAvg_FN/BMW/lightning_logs/version_5/checkpoints/epoch=09-val_loss=0.03-val_f1=0.9852.ckpt'\n",
    "fedavg_model = IDS.load_from_checkpoint(ckpt_files, **args)\n",
    "data_dir = f'../../Data/LISA/BMW/'\n",
    "# print('Training set: ')\n",
    "# print(test_model(Path(data_dir) / train_file, fedavg_model))\n",
    "print('Test set: ')\n",
    "print(test_model(Path(data_dir) / 'test_10000', fedavg_model))"
   ]
  },
  {
   "cell_type": "code",
   "execution_count": null,
   "metadata": {},
   "outputs": [],
   "source": []
  }
 ],
 "metadata": {
  "kernelspec": {
   "display_name": "Python 3.7.10 ('torch')",
   "language": "python",
   "name": "python3"
  },
  "language_info": {
   "codemirror_mode": {
    "name": "ipython",
    "version": 3
   },
   "file_extension": ".py",
   "mimetype": "text/x-python",
   "name": "python",
   "nbconvert_exporter": "python",
   "pygments_lexer": "ipython3",
   "version": "3.7.10"
  },
  "orig_nbformat": 4,
  "vscode": {
   "interpreter": {
    "hash": "ec8a7a313ab33d199c8aa698bb86bd912b8385ce4922a6e184e3f5edd5eb95f6"
   }
  }
 },
 "nbformat": 4,
 "nbformat_minor": 2
}
