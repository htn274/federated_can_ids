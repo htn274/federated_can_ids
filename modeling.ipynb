{
 "cells": [
  {
   "cell_type": "code",
   "execution_count": 8,
   "metadata": {},
   "outputs": [],
   "source": [
    "import numpy as np\n",
    "import torch\n",
    "import os\n",
    "from torch.utils.data import Dataset\n",
    "from pathlib import Path\n",
    "from matplotlib import pyplot as plt\n",
    "from torchvision import transforms"
   ]
  },
  {
   "cell_type": "code",
   "execution_count": 7,
   "metadata": {},
   "outputs": [],
   "source": [
    "class CANDataset(Dataset):\n",
    "    def __init__(self, root_dir, is_train=True, transform=None):\n",
    "        self.root_dir = Path(root_dir) / ('train' if is_train else 'val')\n",
    "        self.is_train = is_train\n",
    "        self.transform = transform\n",
    "        self.total_size = len(os.listdir(self.root_dir))\n",
    "            \n",
    "    def __getitem__(self, idx):\n",
    "        filename = f'{idx}.npz'\n",
    "        filename = self.root_dir / filename\n",
    "        data = np.load(filename)\n",
    "        X, y = data['X'], data['y']\n",
    "        X_tensor = torch.tensor(X, dtype=torch.float32)\n",
    "        y_tensor = torch.tensor(y, dtype=torch.long)\n",
    "        if self.transform:\n",
    "            X_tensor = self.transform(X_tensor)\n",
    "        return X_tensor, y_tensor\n",
    "    \n",
    "    def __len__(self):\n",
    "        return self.total_size"
   ]
  },
  {
   "cell_type": "code",
   "execution_count": 16,
   "metadata": {},
   "outputs": [],
   "source": [
    "data_dir = '../Data/CHD_w29_s14_ID_Data/1/'\n",
    "transform = transforms.Normalize(\n",
    "                            mean=(126.8058,  10.4403,   8.1874,   7.2068,  13.9896,   9.2265,  10.9938, 4.6789, 9.6320), \n",
    "                            std =(510.3837,  67.7702,  43.0419,  53.2845,  79.1804,  60.3768,  60.1881, 48.7489,  70.4148))\n",
    "train_dataset = CANDataset(root_dir=data_dir, is_train=True, transform=transform)\n",
    "train_dataloader = torch.utils.data.DataLoader(\n",
    "    train_dataset, batch_size=128,\n",
    "    shuffle=True, num_workers=8, \n",
    "    pin_memory=True, sampler=None\n",
    ")"
   ]
  },
  {
   "cell_type": "code",
   "execution_count": 17,
   "metadata": {},
   "outputs": [],
   "source": [
    "X, y = next(iter(train_dataloader))"
   ]
  },
  {
   "cell_type": "code",
   "execution_count": 6,
   "metadata": {},
   "outputs": [],
   "source": [
    "filename = '../Data/CHD_w29_s14_ID_Data/1/train/1.npz'\n",
    "data = np.load(filename)\n",
    "X, y = data['X'], data['y']"
   ]
  },
  {
   "cell_type": "code",
   "execution_count": 74,
   "metadata": {},
   "outputs": [
    {
     "data": {
      "text/plain": [
       "128"
      ]
     },
     "execution_count": 74,
     "metadata": {},
     "output_type": "execute_result"
    }
   ],
   "source": [
    "train_dataloader.batch_size"
   ]
  },
  {
   "cell_type": "code",
   "execution_count": 4,
   "metadata": {},
   "outputs": [],
   "source": [
    "def get_mean_and_std(dataloader):\n",
    "    channels_sum, channels_squared_sum, num_batches = 0, 0, 0\n",
    "    for data, _ in dataloader:\n",
    "        this_batch_size = data.size()[0]\n",
    "        weight = this_batch_size / dataloader.batch_size\n",
    "        # Mean over batch, height and width, but not over the channels\n",
    "        channels_sum += weight * torch.mean(data, dim=[0,2,3])\n",
    "        channels_squared_sum += weight * torch.mean(data**2, dim=[0,2,3])\n",
    "        num_batches += weight\n",
    "    \n",
    "    mean = channels_sum / num_batches\n",
    "\n",
    "    # std = sqrt(E[X^2] - (E[X])^2)\n",
    "    std = (channels_squared_sum / num_batches - mean ** 2) ** 0.5\n",
    "\n",
    "    return mean, std"
   ]
  },
  {
   "cell_type": "code",
   "execution_count": 5,
   "metadata": {},
   "outputs": [],
   "source": [
    "means, stds = get_mean_and_std(train_dataloader)"
   ]
  },
  {
   "cell_type": "code",
   "execution_count": 6,
   "metadata": {},
   "outputs": [
    {
     "name": "stdout",
     "output_type": "stream",
     "text": [
      "Mean:  tensor([126.8058,  10.4403,   8.1874,   7.2068,  13.9896,   9.2265,  10.9938,\n",
      "          4.6789,   9.6320])\n",
      "Std:  tensor([510.3837,  67.7702,  43.0419,  53.2845,  79.1804,  60.3768,  60.1881,\n",
      "         48.7489,  70.4148])\n"
     ]
    }
   ],
   "source": [
    "print('Mean: ', means)\n",
    "print('Std: ', stds)"
   ]
  },
  {
   "cell_type": "code",
   "execution_count": null,
   "metadata": {},
   "outputs": [],
   "source": []
  }
 ],
 "metadata": {
  "kernelspec": {
   "display_name": "Python 3.7.10 ('torch')",
   "language": "python",
   "name": "python3"
  },
  "language_info": {
   "codemirror_mode": {
    "name": "ipython",
    "version": 3
   },
   "file_extension": ".py",
   "mimetype": "text/x-python",
   "name": "python",
   "nbconvert_exporter": "python",
   "pygments_lexer": "ipython3",
   "version": "3.7.10"
  },
  "orig_nbformat": 4,
  "vscode": {
   "interpreter": {
    "hash": "ec8a7a313ab33d199c8aa698bb86bd912b8385ce4922a6e184e3f5edd5eb95f6"
   }
  }
 },
 "nbformat": 4,
 "nbformat_minor": 2
}
