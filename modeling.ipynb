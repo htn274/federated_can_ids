{
 "cells": [
  {
   "cell_type": "code",
   "execution_count": 1,
   "metadata": {},
   "outputs": [],
   "source": [
    "import numpy as np\n",
    "import torch\n",
    "import os\n",
    "from torch.utils.data import Dataset\n",
    "from pathlib import Path\n"
   ]
  },
  {
   "cell_type": "code",
   "execution_count": 2,
   "metadata": {},
   "outputs": [],
   "source": [
    "class CANDataset(Dataset):\n",
    "    def __init__(self, root_dir, is_train=True, transform=None):\n",
    "        self.root_dir = Path(root_dir) / ('train' if is_train else 'val')\n",
    "        self.is_train = is_train\n",
    "        self.transform = transform\n",
    "        self.total_size = len(os.listdir(self.root_dir))\n",
    "            \n",
    "    def __getitem__(self, idx):\n",
    "        filename = f'{idx}.npz'\n",
    "        filename = self.root_dir / filename\n",
    "        data = np.load(filename)\n",
    "        X, y = data['X'], data['y']\n",
    "        X_tensor = torch.tensor(X)\n",
    "        y_tensor = torch.tensor(y)\n",
    "        return X_tensor, y_tensor\n",
    "\n",
    "    def __len__(self):\n",
    "        return self.total_size"
   ]
  },
  {
   "cell_type": "code",
   "execution_count": 3,
   "metadata": {},
   "outputs": [],
   "source": [
    "data_dir = '../Data/CHD_w29_s14_ID_Data/1/'\n",
    "train_dataset = CANDataset(root_dir=data_dir, is_train=True)\n",
    "train_dataloader = torch.utils.data.DataLoader(\n",
    "    train_dataset, batch_size=128,\n",
    "    shuffle=True, num_workers=8, \n",
    "    pin_memory=True, sampler=None\n",
    ")"
   ]
  },
  {
   "cell_type": "code",
   "execution_count": 4,
   "metadata": {},
   "outputs": [],
   "source": [
    "X, y = next(iter(train_dataloader))"
   ]
  },
  {
   "cell_type": "code",
   "execution_count": 31,
   "metadata": {},
   "outputs": [],
   "source": [
    "filename = '../Data/CHD_w29_s14_ID_Data/1/train/1.npz'\n",
    "data = np.load(filename)\n",
    "X, y = data['X'], data['y']"
   ]
  },
  {
   "cell_type": "code",
   "execution_count": 33,
   "metadata": {},
   "outputs": [
    {
     "data": {
      "text/plain": [
       "tensor(1, dtype=torch.uint8)"
      ]
     },
     "execution_count": 33,
     "metadata": {},
     "output_type": "execute_result"
    }
   ],
   "source": [
    "torch.tensor(y)"
   ]
  },
  {
   "cell_type": "code",
   "execution_count": 27,
   "metadata": {},
   "outputs": [
    {
     "data": {
      "text/plain": [
       "tensor([[[ 4.0188e+01, -4.3156e+01, -3.6750e+01,  ..., -2.5578e+01,\n",
       "           3.8906e+01, -1.5950e+02],\n",
       "         [-1.2175e+02,  7.4727e+00,  2.5500e+02,  ...,  7.1719e+00,\n",
       "          -3.3300e+02,  3.5075e+02],\n",
       "         [-8.5125e+01,  1.9700e+02,  6.2688e+01,  ...,  9.3062e+01,\n",
       "          -8.1500e+01,  2.1862e+02],\n",
       "         ...,\n",
       "         [-5.3750e+02, -4.1400e+02, -4.6600e+02,  ..., -2.8688e+01,\n",
       "          -9.2062e+01, -1.7988e+02],\n",
       "         [-5.5600e+02, -5.2000e+02, -4.5900e+02,  ...,  4.9938e+01,\n",
       "          -9.0125e+01, -1.3838e+02],\n",
       "         [-6.1700e+02, -5.5650e+02, -3.4425e+02,  ...,  5.2656e+01,\n",
       "          -1.5912e+02, -1.4088e+02]],\n",
       "\n",
       "        [[-1.1945e-04, -8.9874e-03,  3.1738e-02,  ..., -7.3047e+00,\n",
       "           7.1758e+00, -1.6621e+00],\n",
       "         [ 2.6245e-03, -3.8916e-01,  1.2275e+00,  ..., -5.6406e+00,\n",
       "          -2.4141e+01,  2.1641e+01],\n",
       "         [ 3.5229e-01,  1.1230e+00, -9.5215e-01,  ...,  4.3562e+01,\n",
       "          -1.0523e+01, -2.0906e+01],\n",
       "         ...,\n",
       "         [-5.4594e+01, -5.1938e+01, -7.1188e+01,  ...,  5.9531e+01,\n",
       "           7.1062e+01,  3.0781e+01],\n",
       "         [-5.7875e+01, -7.5688e+01, -6.4875e+01,  ...,  7.4062e+01,\n",
       "           5.5969e+01,  4.7312e+01],\n",
       "         [-5.7750e+01, -7.7062e+01, -6.9562e+01,  ...,  6.4688e+01,\n",
       "           5.4781e+01,  5.2312e+01]],\n",
       "\n",
       "        [[ 3.9141e+00, -4.1250e+00, -3.8555e+00,  ...,  1.8672e+01,\n",
       "          -2.3656e+01, -2.3422e+01],\n",
       "         [-1.1750e+01,  3.7949e+00,  1.4000e+01,  ..., -5.2938e+01,\n",
       "           2.8156e+01,  2.7625e+01],\n",
       "         [-1.0734e+01,  1.3016e+01,  1.1016e+01,  ..., -6.4562e+01,\n",
       "           6.4625e+01,  6.4125e+01],\n",
       "         ...,\n",
       "         [-2.5766e+01, -3.0500e+01, -2.9156e+01,  ...,  4.8125e+00,\n",
       "          -1.3086e+01, -1.5398e+01],\n",
       "         [-2.9344e+01, -4.1938e+01, -2.4453e+01,  ...,  5.3945e+00,\n",
       "          -3.3184e+00, -8.1953e+00],\n",
       "         [-3.5562e+01, -3.5188e+01, -2.0156e+01,  ..., -1.5225e+00,\n",
       "          -7.1445e+00, -1.1195e+01]],\n",
       "\n",
       "        ...,\n",
       "\n",
       "        [[ 3.0250e+01, -3.1453e+01, -3.1203e+01,  ..., -2.7844e+01,\n",
       "          -3.5094e+01,  2.6312e+01],\n",
       "         [-9.0062e+01,  4.4250e+01,  5.3094e+01,  ...,  3.5844e+01,\n",
       "           4.9375e+01, -8.3188e+01],\n",
       "         [-9.3812e+01,  7.6375e+01,  1.0031e+02,  ...,  5.8156e+01,\n",
       "           9.4938e+01, -7.7562e+01],\n",
       "         ...,\n",
       "         [ 3.0938e+01,  1.8125e+01,  3.8656e+01,  ..., -1.1984e+01,\n",
       "          -2.3938e+01,  5.8086e+00],\n",
       "         [ 3.3094e+01,  1.0211e+01,  2.8516e+01,  ..., -1.8672e+01,\n",
       "          -1.3969e+01,  8.6562e+00],\n",
       "         [ 1.0078e+01,  1.2547e+01,  3.3312e+01,  ..., -2.2219e+01,\n",
       "          -3.1047e+01, -2.4953e+01]],\n",
       "\n",
       "        [[ 0.0000e+00, -7.1466e-05, -1.9109e-04,  ..., -2.3266e+01,\n",
       "           2.2422e+01,  1.1992e+00],\n",
       "         [-2.4338e-02,  6.7078e-02,  8.4381e-03,  ...,  3.3438e+01,\n",
       "          -6.6312e+01,  4.6406e+01],\n",
       "         [-1.3196e-01, -7.2266e-01,  7.5146e-01,  ...,  6.4062e+01,\n",
       "          -6.8812e+01, -3.6125e+01],\n",
       "         ...,\n",
       "         [-3.7719e+01, -2.7453e+01, -3.9688e+01,  ...,  1.2938e+01,\n",
       "           1.2898e+01,  1.6523e+00],\n",
       "         [-2.8812e+01, -2.9984e+01, -3.6906e+01,  ...,  1.5070e+01,\n",
       "           1.6203e+01,  3.7129e+00],\n",
       "         [-3.1453e+01, -3.2219e+01, -3.7906e+01,  ...,  1.7672e+01,\n",
       "           3.7051e+00,  1.9828e+01]],\n",
       "\n",
       "        [[-2.6512e-03, -1.9946e-01,  7.0410e-01,  ...,  3.9844e+00,\n",
       "           2.7672e+01, -3.3750e+01],\n",
       "         [ 6.1523e-02, -8.6406e+00,  2.7266e+01,  ...,  5.5375e+01,\n",
       "          -8.5562e+01,  4.8375e+01],\n",
       "         [ 7.8281e+00,  2.4969e+01, -2.1281e+01,  ..., -5.6031e+01,\n",
       "          -8.5812e+01,  9.3812e+01],\n",
       "         ...,\n",
       "         [ 6.9531e+00, -5.4180e+00, -1.3076e+00,  ...,  1.6141e+01,\n",
       "           3.8875e+01,  1.1188e+01],\n",
       "         [-3.2324e+00, -9.3906e+00, -9.1406e+00,  ...,  1.7266e+01,\n",
       "           3.6531e+01,  2.0891e+01],\n",
       "         [-1.2094e+01, -1.0945e+01, -3.3594e-01,  ...,  3.0828e+01,\n",
       "           2.2078e+01,  2.1078e+01]]], dtype=torch.float16)"
      ]
     },
     "execution_count": 27,
     "metadata": {},
     "output_type": "execute_result"
    }
   ],
   "source": [
    "torch.tensor(X)"
   ]
  }
 ],
 "metadata": {
  "kernelspec": {
   "display_name": "Python 3.7.10 ('torch')",
   "language": "python",
   "name": "python3"
  },
  "language_info": {
   "codemirror_mode": {
    "name": "ipython",
    "version": 3
   },
   "file_extension": ".py",
   "mimetype": "text/x-python",
   "name": "python",
   "nbconvert_exporter": "python",
   "pygments_lexer": "ipython3",
   "version": "3.7.10"
  },
  "orig_nbformat": 4,
  "vscode": {
   "interpreter": {
    "hash": "ec8a7a313ab33d199c8aa698bb86bd912b8385ce4922a6e184e3f5edd5eb95f6"
   }
  }
 },
 "nbformat": 4,
 "nbformat_minor": 2
}
