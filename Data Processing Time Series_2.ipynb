{
 "cells": [
  {
   "cell_type": "code",
   "execution_count": 18,
   "id": "6a7d428b",
   "metadata": {},
   "outputs": [],
   "source": [
    "import pandas as pd\n",
    "import numpy as np\n",
    "import seaborn as sns\n",
    "from matplotlib import pyplot as plt\n",
    "from matplotlib.pyplot import figure\n",
    "from sklearn.model_selection import train_test_split\n",
    "from pandas import ExcelWriter\n",
    "from pandas import ExcelFile\n",
    "import glob\n",
    "import pywt\n",
    "import sys\n",
    "import torch"
   ]
  },
  {
   "cell_type": "code",
   "execution_count": 9,
   "id": "646d8d14",
   "metadata": {},
   "outputs": [],
   "source": [
    "def data_process(data, label):\n",
    "    CreatData = []\n",
    "    data = pd.read_csv(data)\n",
    "    data = data[['Scaled_CAN_ID', 'Time_Gap']].astype('f')\n",
    "    data[\"Labele_num\"] = np.repeat(label, (len(data)))\n",
    "    length = len(data)\n",
    "\n",
    "    X = np.array(data[['Scaled_CAN_ID', 'Time_Gap']])\n",
    "    y = np.array(data[['Labele_num']])\n",
    "    strat_time = 0\n",
    "    timestamp = 10\n",
    "\n",
    "    for i in range(int(abs(length/10-1))):\n",
    "        features = X[strat_time:timestamp, :2]\n",
    "        features = np.reshape(features, (1, 10, 2))\n",
    "        CreatData.append((features, y[timestamp]))\n",
    "\n",
    "        strat_time = strat_time + 10\n",
    "        timestamp = timestamp + 10\n",
    "        \n",
    "    return CreatData"
   ]
  },
  {
   "cell_type": "code",
   "execution_count": 11,
   "id": "35710cd4",
   "metadata": {},
   "outputs": [],
   "source": [
    "input_ = data_process(\"Tesla_Fuzz_2.csv\", 2) # Input Data File Name and Label number (Normal 0, DoS 1, Fuzz 2, Replay 3)"
   ]
  },
  {
   "cell_type": "code",
   "execution_count": 12,
   "id": "a000ecb6",
   "metadata": {},
   "outputs": [
    {
     "data": {
      "text/plain": [
       "(array([[[2.13e+02, 0.00e+00],\n",
       "         [2.13e+02, 0.00e+00],\n",
       "         [2.13e+02, 0.00e+00],\n",
       "         [2.13e+02, 0.00e+00],\n",
       "         [2.13e+02, 0.00e+00],\n",
       "         [2.13e+02, 1.00e-01],\n",
       "         [2.13e+02, 0.00e+00],\n",
       "         [2.13e+02, 0.00e+00],\n",
       "         [2.13e+02, 0.00e+00],\n",
       "         [2.13e+02, 0.00e+00]]], dtype=float32),\n",
       " array([2]))"
      ]
     },
     "execution_count": 12,
     "metadata": {},
     "output_type": "execute_result"
    }
   ],
   "source": [
    "input_[0]"
   ]
  },
  {
   "cell_type": "code",
   "execution_count": 8,
   "id": "6ba59444",
   "metadata": {},
   "outputs": [
    {
     "data": {
      "text/plain": [
       "array([2])"
      ]
     },
     "execution_count": 8,
     "metadata": {},
     "output_type": "execute_result"
    }
   ],
   "source": [
    "outout_[0]"
   ]
  },
  {
   "cell_type": "code",
   "execution_count": 16,
   "id": "d699f5d2",
   "metadata": {},
   "outputs": [
    {
     "name": "stdout",
     "output_type": "stream",
     "text": [
      "Number of Training Sequences:  19839\n",
      "Number of Testing Sequences:  4960\n"
     ]
    }
   ],
   "source": [
    "train_dataset, test_dataset = train_test_split(input_, test_size=0.2)\n",
    "print(\"Number of Training Sequences: \", len(train_dataset))\n",
    "print(\"Number of Testing Sequences: \", len(test_dataset))"
   ]
  },
  {
   "cell_type": "code",
   "execution_count": 20,
   "id": "f4e6c808",
   "metadata": {},
   "outputs": [],
   "source": [
    "batch_size = 64\n",
    "train_loader = torch.utils.data.DataLoader(train_dataset, batch_size=batch_size,\n",
    "                                          shuffle=False)\n",
    "\n",
    "test_loader = torch.utils.data.DataLoader(test_dataset, batch_size=batch_size,\n",
    "                                         shuffle=False)"
   ]
  },
  {
   "cell_type": "code",
   "execution_count": null,
   "id": "9e81e50a",
   "metadata": {},
   "outputs": [],
   "source": []
  }
 ],
 "metadata": {
  "kernelspec": {
   "display_name": "Pytorch",
   "language": "python",
   "name": "pytorch"
  },
  "language_info": {
   "codemirror_mode": {
    "name": "ipython",
    "version": 3
   },
   "file_extension": ".py",
   "mimetype": "text/x-python",
   "name": "python",
   "nbconvert_exporter": "python",
   "pygments_lexer": "ipython3",
   "version": "3.7.13"
  }
 },
 "nbformat": 4,
 "nbformat_minor": 5
}
