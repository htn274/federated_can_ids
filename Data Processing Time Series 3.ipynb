{
 "cells": [
  {
   "cell_type": "code",
   "execution_count": 1,
   "id": "6a7d428b",
   "metadata": {},
   "outputs": [],
   "source": [
    "import pandas as pd\n",
    "import numpy as np\n",
    "import seaborn as sns\n",
    "from matplotlib import pyplot as plt\n",
    "from matplotlib.pyplot import figure\n",
    "from sklearn.model_selection import train_test_split\n",
    "from pandas import ExcelWriter\n",
    "from pandas import ExcelFile\n",
    "import glob\n",
    "import pywt\n",
    "import sys\n",
    "import torch"
   ]
  },
  {
   "cell_type": "code",
   "execution_count": 2,
   "id": "fd5354ab",
   "metadata": {},
   "outputs": [],
   "source": [
    "def bin_conv(df_id):\n",
    "    scale = 16 ## equals to hexadecimal\n",
    "    num_of_bits = 11\n",
    "    bin_conv_out = []\n",
    "    for i in np.array(df_id):\n",
    "        bin_conv_out.append(bin(int(str(i), scale))[2:].zfill(num_of_bits))\n",
    "    \n",
    "    return bin_conv_out"
   ]
  },
  {
   "cell_type": "code",
   "execution_count": 3,
   "id": "d3d879e8",
   "metadata": {},
   "outputs": [],
   "source": [
    "def data_process(data, label):\n",
    "    CreatData = []\n",
    "    output = []\n",
    "    data = pd.read_csv(data) # Load Data\n",
    "    data = data[['CAN_ID', 'Time_Gap']] # Filter Data \n",
    "    data[\"Labele_num\"] = np.repeat(label, (len(data))) # Label Data\n",
    "    length = len(data)\n",
    "    bin_out = bin_conv(data['CAN_ID']) # Binary Convert\n",
    "    \n",
    "    for number in bin_out: # Split binary into column\n",
    "        output.append([bit for bit in number])\n",
    "    can_id = pd.DataFrame(output, columns=['bin_' + str(i) for i in range(1, 12)])\n",
    "    df = pd.concat([can_id, data[['Time_Gap']]], axis=1) # Filter X_train or X_test\n",
    "\n",
    "    X = np.array(df) # Filter X_train or X_test for insert into tupple\n",
    "    y = np.array(data[['Labele_num']]) # Filter y_train or y_test for insert into tupple\n",
    "    strat_time = 0\n",
    "    timestamp = 10\n",
    "\n",
    "    for i in range(int(abs(length/10-1))):\n",
    "        features = X[strat_time:timestamp]\n",
    "        features = np.reshape(features, (1, 10, 12))\n",
    "        CreatData.append((features, y[timestamp]))\n",
    "\n",
    "        strat_time = strat_time + 10\n",
    "        timestamp = timestamp + 10\n",
    "        \n",
    "    return CreatData"
   ]
  },
  {
   "cell_type": "code",
   "execution_count": 14,
   "id": "35710cd4",
   "metadata": {},
   "outputs": [
    {
     "name": "stdout",
     "output_type": "stream",
     "text": [
      "Total Data Length:  47320\n",
      "Element Shape:  (1, 10, 12)\n"
     ]
    }
   ],
   "source": [
    "input_ = data_process(\"Kia_2_Normal.csv\", 2) # Input Data File Name and Label number (Normal 0, DoS 1, Fuzz 2, Replay 3)\n",
    "print(\"Total Data Length: \", len(input_))\n",
    "print(\"Element Shape: \", input_[0][0].shape)"
   ]
  },
  {
   "cell_type": "code",
   "execution_count": 15,
   "id": "a000ecb6",
   "metadata": {},
   "outputs": [
    {
     "data": {
      "text/plain": [
       "(array([[['0', '1', '0', '0', '0', '1', '0', '0', '0', '0', '0',\n",
       "          0.23291015625],\n",
       "         ['0', '1', '0', '1', '1', '0', '0', '0', '0', '0', '0',\n",
       "          0.25390625],\n",
       "         ['0', '1', '1', '0', '0', '0', '1', '0', '1', '1', '0',\n",
       "          4.294189453125],\n",
       "         ['0', '1', '0', '0', '1', '1', '0', '0', '0', '0', '0',\n",
       "          0.23193359375],\n",
       "         ['0', '0', '1', '1', '0', '0', '0', '1', '1', '1', '1',\n",
       "          0.237060546875],\n",
       "         ['0', '0', '0', '1', '0', '0', '0', '0', '0', '0', '0',\n",
       "          0.240966796875],\n",
       "         ['0', '0', '0', '1', '0', '0', '0', '0', '0', '0', '1',\n",
       "          0.240966796875],\n",
       "         ['0', '1', '0', '1', '0', '1', '0', '0', '0', '0', '0',\n",
       "          0.235107421875],\n",
       "         ['0', '1', '1', '0', '0', '1', '0', '1', '0', '0', '1',\n",
       "          0.23388671875],\n",
       "         ['0', '1', '1', '0', '1', '1', '1', '0', '0', '0', '0',\n",
       "          0.2509765625]]], dtype=object),\n",
       " array([2]))"
      ]
     },
     "execution_count": 15,
     "metadata": {},
     "output_type": "execute_result"
    }
   ],
   "source": [
    "input_[0]"
   ]
  },
  {
   "cell_type": "code",
   "execution_count": 6,
   "id": "bb68ffa0",
   "metadata": {},
   "outputs": [
    {
     "name": "stdout",
     "output_type": "stream",
     "text": [
      "Number of Training Sequences:  37856\n",
      "Number of Testing Sequences:  9464\n"
     ]
    }
   ],
   "source": [
    "train_dataset, test_dataset = train_test_split(input_, test_size=0.2)\n",
    "print(\"Number of Training Sequences: \", len(train_dataset))\n",
    "print(\"Number of Testing Sequences: \", len(test_dataset))"
   ]
  },
  {
   "cell_type": "code",
   "execution_count": 7,
   "id": "f246cf2b",
   "metadata": {},
   "outputs": [],
   "source": [
    "batch_size = 64\n",
    "train_loader = torch.utils.data.DataLoader(train_dataset, batch_size=batch_size,\n",
    "                                          shuffle=False)\n",
    "\n",
    "test_loader = torch.utils.data.DataLoader(test_dataset, batch_size=batch_size,\n",
    "                                         shuffle=False)"
   ]
  },
  {
   "cell_type": "markdown",
   "id": "4520997f",
   "metadata": {},
   "source": [
    "# "
   ]
  }
 ],
 "metadata": {
  "kernelspec": {
   "display_name": "Pytorch",
   "language": "python",
   "name": "pytorch"
  },
  "language_info": {
   "codemirror_mode": {
    "name": "ipython",
    "version": 3
   },
   "file_extension": ".py",
   "mimetype": "text/x-python",
   "name": "python",
   "nbconvert_exporter": "python",
   "pygments_lexer": "ipython3",
   "version": "3.7.13"
  }
 },
 "nbformat": 4,
 "nbformat_minor": 5
}
